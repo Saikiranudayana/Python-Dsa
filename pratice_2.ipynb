{
 "cells": [
  {
   "cell_type": "code",
   "execution_count": 1,
   "id": "4851d547",
   "metadata": {},
   "outputs": [],
   "source": [
    "## Hash function\n",
    "\n",
    "\n",
    "class Hash():\n",
    "    def __init__(self,b):\n",
    "        self.bucket= b\n",
    "        self.table= [[] for i in range(b)  ]\n",
    "        \n",
    "    def insert(self,x):\n",
    "        i = x%self.bucket\n",
    "        self.table[i].append(x)\n",
    "    def remove(self,x):\n",
    "        i = x%self.bucket\n",
    "        self.table[i].remove(x)\n",
    "        \n",
    "    def search(self,x):\n",
    "        i = x%self.bucket\n",
    "        return x in self.table[i]\n",
    "        "
   ]
  },
  {
   "cell_type": "code",
   "execution_count": null,
   "id": "a07c8344",
   "metadata": {},
   "outputs": [],
   "source": [
    "##Open addressing\n",
    "##number of steps  hash table >= number of keys to be inserted\n",
    "##Linear probboing serch for the next empty slot if the slot is already occupied\n",
    "\n",
    "\n",
    "\n",
    "\n",
    "\n",
    "\n"
   ]
  },
  {
   "cell_type": "code",
   "execution_count": null,
   "id": "70ee8a4c",
   "metadata": {},
   "outputs": [],
   "source": []
  }
 ],
 "metadata": {
  "kernelspec": {
   "display_name": "base",
   "language": "python",
   "name": "python3"
  },
  "language_info": {
   "codemirror_mode": {
    "name": "ipython",
    "version": 3
   },
   "file_extension": ".py",
   "mimetype": "text/x-python",
   "name": "python",
   "nbconvert_exporter": "python",
   "pygments_lexer": "ipython3",
   "version": "3.8.20"
  }
 },
 "nbformat": 4,
 "nbformat_minor": 5
}
