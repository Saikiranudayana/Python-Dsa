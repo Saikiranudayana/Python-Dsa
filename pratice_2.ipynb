{
 "cells": [
  {
   "cell_type": "code",
   "execution_count": 1,
   "id": "4851d547",
   "metadata": {},
   "outputs": [],
   "source": [
    "## Hash function\n",
    "\n",
    "\n",
    "class Hash():\n",
    "    def __init__(self,b):\n",
    "        self.bucket= b\n",
    "        self.table= [[] for i in range(b)  ]\n",
    "        \n",
    "    def insert(self,x):\n",
    "        i = x%self.bucket\n",
    "        self.table[i].append(x)\n",
    "    def remove(self,x):\n",
    "        i = x%self.bucket\n",
    "        self.table[i].remove(x)\n",
    "        \n",
    "    def search(self,x):\n",
    "        i = x%self.bucket\n",
    "        return x in self.table[i]\n",
    "        "
   ]
  },
  {
   "cell_type": "code",
   "execution_count": null,
   "id": "a07c8344",
   "metadata": {},
   "outputs": [],
   "source": [
    "##Open addressing\n",
    "##number of steps  hash table >= number of keys to be inserted\n",
    "##Linear probboing serch for the next empty slot if the slot is already occupied\n",
    "\n",
    "\n",
    "\n",
    "\n",
    "\n",
    "\n",
    "\n",
    "\n"
   ]
  },
  {
   "cell_type": "code",
   "execution_count": null,
   "id": "70ee8a4c",
   "metadata": {},
   "outputs": [],
   "source": [
    "##Double hashing\n",
    "## hash(key,i)= (h1(key)+h(key))%m \n",
    "\n"
   ]
  },
  {
   "cell_type": "code",
   "execution_count": null,
   "id": "f700a6ae",
   "metadata": {},
   "outputs": [
    {
     "name": "stdout",
     "output_type": "stream",
     "text": [
      "10 2\n",
      "20 2\n",
      "30 1\n",
      "None\n"
     ]
    }
   ],
   "source": [
    "##Frequency of array element:\n",
    "def count_freq(arr):\n",
    "    n= len(arr)\n",
    "    for i in range(n):\n",
    "        flag= False\n",
    "        for j in range(i):\n",
    "            if arr[i]==arr[j]:\n",
    "                flag= True\n",
    "                break\n",
    "        if flag==True:\n",
    "            continue\n",
    "        freq= 1\n",
    "        for j in range(i+1,n):\n",
    "            if arr[i]== arr[j]:\n",
    "                freq+=1\n",
    "        print(arr[i],freq)\n",
    "        \n",
    "\n",
    "\n",
    "\n",
    "\n",
    "\n",
    "\n",
    "\n",
    "\n",
    "\n",
    "\n",
    "\n",
    "\n",
    "\n",
    "\n",
    "\n"
   ]
  },
  {
   "cell_type": "code",
   "execution_count": 6,
   "id": "445cd399",
   "metadata": {},
   "outputs": [
    {
     "name": "stdout",
     "output_type": "stream",
     "text": [
      "10   2\n",
      "20   2\n",
      "30   1\n",
      "None\n"
     ]
    }
   ],
   "source": [
    "## dict approach\n",
    "\n",
    "def freq_dict(arr):\n",
    "    n= len(arr)\n",
    "    hasmap = dict()\n",
    "    for i in range(n):\n",
    "        if arr[i] in hasmap.keys():\n",
    "            hasmap[arr[i]]+=1\n",
    "        else:\n",
    "            hasmap[arr[i]]=1\n",
    "    for x in hasmap:\n",
    "        print(x,\" \", hasmap[x]) \n",
    "\n",
    "ls = [10,20,20,30,10]\n",
    "ans = freq_dict(ls)\n",
    "print(ans)\n",
    "\n",
    "\n"
   ]
  },
  {
   "cell_type": "code",
   "execution_count": 7,
   "id": "0278164b",
   "metadata": {},
   "outputs": [
    {
     "name": "stdout",
     "output_type": "stream",
     "text": [
      "True\n",
      "False\n"
     ]
    },
    {
     "data": {
      "text/plain": [
       "False"
      ]
     },
     "execution_count": 7,
     "metadata": {},
     "output_type": "execute_result"
    }
   ],
   "source": [
    "##imlementaion of open addresiing\n",
    "\n",
    "class MyHash:\n",
    "    def __init__(self, c):\n",
    "        self.cap = c\n",
    "        self.table = [-1] * c\n",
    "        self.size = 0\n",
    "\n",
    "    def hash(self, x):\n",
    "        return x % self.cap\n",
    "\n",
    "    def search(self, x):\n",
    "        h = self.hash(x)\n",
    "        t = self.table\n",
    "        i = h\n",
    "        while t[i] != -1:\n",
    "            if t[i] == x:\n",
    "                return True\n",
    "            i = (i + 1) % self.cap\n",
    "            if i == h:\n",
    "                return False\n",
    "        return False\n",
    "\n",
    "    def insert(self, x):\n",
    "        if self.size == self.cap:\n",
    "            return False\n",
    "\n",
    "        if self.search(x) == True:\n",
    "            return False\n",
    "        i = self.hash(x)\n",
    "        t = self.table\n",
    "        while t[i] not in (-1, -2):\n",
    "            i = (i + 1) % self.cap\n",
    "\n",
    "        t[i] = x\n",
    "        self.size = self.size + 1\n",
    "        return True\n",
    "\n",
    "    def remove(self, x):\n",
    "        h = self.hash(x)\n",
    "        t = self.table\n",
    "        i = h\n",
    "        while t[i] != -1:\n",
    "            if t[i] == x:\n",
    "                t[i] = -2\n",
    "                return True\n",
    "            i = (i + 1) % self.cap\n",
    "            if i == h:\n",
    "                return False\n",
    "        return False\n",
    "\n",
    "\n",
    "h = MyHash(7)\n",
    "h.insert(70)\n",
    "h.insert(71)\n",
    "h.insert(9)\n",
    "h.insert(56)\n",
    "h.insert(72)\n",
    "print(h.search(56))\n",
    "h.remove(56)\n",
    "print(h.search(56))\n",
    "h.remove(56)"
   ]
  },
  {
   "cell_type": "code",
   "execution_count": 8,
   "id": "2c6d86f1",
   "metadata": {},
   "outputs": [
    {
     "name": "stdout",
     "output_type": "stream",
     "text": [
      "welcom to my gihub's repo\n"
     ]
    }
   ],
   "source": [
    "s= 'welcom to my gihub\\'s repo'\n",
    "\n",
    "print(s)"
   ]
  },
  {
   "cell_type": "code",
   "execution_count": 13,
   "id": "7d0e32b0",
   "metadata": {},
   "outputs": [
    {
     "name": "stdout",
     "output_type": "stream",
     "text": [
      "welcome you  to the python course\n",
      "welcome you \n"
     ]
    }
   ],
   "source": [
    "##Formattted stringsd\n",
    "name = \"you \"\n",
    "course = \"python course\"\n",
    "\n",
    "s= \"welcome %s to the %s\"%(name,course)\n",
    "\n",
    "print(s)\n",
    "\n",
    "##use a format strin\n",
    "\n",
    "## use f string in the lastest python version\n",
    "s= print(f\"welcome {name}\")\n"
   ]
  },
  {
   "cell_type": "code",
   "execution_count": 4,
   "id": "5f0a93b4",
   "metadata": {},
   "outputs": [
    {
     "name": "stdout",
     "output_type": "stream",
     "text": [
      "True\n"
     ]
    }
   ],
   "source": [
    "\n",
    "\n",
    "def rotate(s1,s2):\n",
    "    if len(s1) != len(s2):\n",
    "        return False\n",
    "    \n",
    "    temp = ''\n",
    "    temp = s1+s1\n",
    "    return temp.find(s2)!=1\n",
    "\n",
    "s1= \"abcd\"\n",
    "s2= \"cdba\"\n",
    "ans = rotate(s1,s2)\n",
    "print(ans)\n",
    "    \n",
    "    "
   ]
  },
  {
   "cell_type": "code",
   "execution_count": 17,
   "id": "84804d8e",
   "metadata": {},
   "outputs": [
    {
     "name": "stdout",
     "output_type": "stream",
     "text": [
      "False\n"
     ]
    }
   ],
   "source": [
    "## palindrome in python\n",
    "\n",
    "def is_palindrome(str):\n",
    "    i = 0 \n",
    "    j= len(str)-1\n",
    "    while i<=j:\n",
    "        if str[i]!=str[j]:\n",
    "            \n",
    "            return False\n",
    "        \n",
    "        i+=1\n",
    "        j-=1\n",
    "    return True  \n",
    "        \n",
    "    \n",
    "\n",
    "\n",
    "s= \"abA\"\n",
    "ans = is_palindrome(s)\n",
    "print(ans)\n"
   ]
  },
  {
   "cell_type": "code",
   "execution_count": 19,
   "id": "b6f4db40",
   "metadata": {},
   "outputs": [
    {
     "name": "stdout",
     "output_type": "stream",
     "text": [
      "False\n"
     ]
    }
   ],
   "source": [
    "#chek if string is subseqwuence\n",
    "\n",
    "def is_sub(s1,s2):\n",
    "    i = j = 0\n",
    "    while i<len(s1) and j<len(s2):\n",
    "        if s1[i]==s[j]:\n",
    "            j+=1\n",
    "        i+=1\n",
    "    if j==len(s2):\n",
    "        return True\n",
    "    return False\n",
    "    \n",
    "    \n",
    "    \n",
    "    \n",
    "    \n",
    "    \n",
    "    \n",
    "        \n",
    "\n",
    "s1=\"geeksforgeeks\"\n",
    "s2= \"gregs\"\n",
    "ans = is_sub(s1,s2)\n",
    "print(ans)"
   ]
  },
  {
   "cell_type": "code",
   "execution_count": 22,
   "id": "76a96cfe",
   "metadata": {},
   "outputs": [
    {
     "name": "stdout",
     "output_type": "stream",
     "text": [
      "True\n"
     ]
    }
   ],
   "source": [
    "##ANagram\n",
    "\n",
    "def anagram(s1,s2):\n",
    "    if len(s1) != len(s2):\n",
    "        return False\n",
    "    return sorted(s1)==sorted(s2) \n",
    "\n",
    "\n",
    "s1= \"listen\"\n",
    "s2= \"silent\"\n",
    "ans1 = anagram(s1,s2)\n",
    "print(ans1)\n",
    "s1= \"listen\"\n",
    "s2= \"silent\"\n",
    "\n",
    "\n",
    "\n",
    "##using count arr\n",
    "\n",
    "def anagram_2(s1,s2):\n",
    "    if len(s1) != len(s2):\n",
    "        return False\n",
    "    \n",
    "    char = [0]*265\n",
    "    for i in range(len(s1)):\n",
    "        char[ord(s1[i])]+=1\n",
    "        char[ord(s2[i])]-=1\n",
    "    for x in char:\n",
    "        if x != 0:\n",
    "            return False\n",
    "    return True\n"
   ]
  },
  {
   "cell_type": "code",
   "execution_count": 26,
   "id": "c940a38c",
   "metadata": {},
   "outputs": [
    {
     "name": "stdout",
     "output_type": "stream",
     "text": [
      "2\n"
     ]
    }
   ],
   "source": [
    "##left most repating charcter\n",
    "\n",
    "def leftmost_char(str):\n",
    "    for i in range(len(str)):\n",
    "        for j in range(i+1,len(str)):\n",
    "            if str[i]==str[j]:\n",
    "                return i\n",
    "    return -1\n",
    "    \n",
    "\n",
    "\n",
    "str= \"abdd\"\n",
    "\n",
    "ans = leftmost_char(str)\n",
    "print(ans)"
   ]
  },
  {
   "cell_type": "code",
   "execution_count": null,
   "id": "011736d5",
   "metadata": {},
   "outputs": [],
   "source": []
  }
 ],
 "metadata": {
  "kernelspec": {
   "display_name": "base",
   "language": "python",
   "name": "python3"
  },
  "language_info": {
   "codemirror_mode": {
    "name": "ipython",
    "version": 3
   },
   "file_extension": ".py",
   "mimetype": "text/x-python",
   "name": "python",
   "nbconvert_exporter": "python",
   "pygments_lexer": "ipython3",
   "version": "3.8.20"
  }
 },
 "nbformat": 4,
 "nbformat_minor": 5
}
