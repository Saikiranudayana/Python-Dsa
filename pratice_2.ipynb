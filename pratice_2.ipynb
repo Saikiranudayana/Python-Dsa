{
 "cells": [
  {
   "cell_type": "code",
   "execution_count": 1,
   "id": "4851d547",
   "metadata": {},
   "outputs": [],
   "source": [
    "## Hash function\n",
    "\n",
    "\n",
    "class Hash():\n",
    "    def __init__(self,b):\n",
    "        self.bucket= b\n",
    "        self.table= [[] for i in range(b)  ]\n",
    "        \n",
    "    def insert(self,x):\n",
    "        i = x%self.bucket\n",
    "        self.table[i].append(x)\n",
    "    def remove(self,x):\n",
    "        i = x%self.bucket\n",
    "        self.table[i].remove(x)\n",
    "        \n",
    "    def search(self,x):\n",
    "        i = x%self.bucket\n",
    "        return x in self.table[i]\n",
    "        "
   ]
  }
 ],
 "metadata": {
  "kernelspec": {
   "display_name": "base",
   "language": "python",
   "name": "python3"
  },
  "language_info": {
   "codemirror_mode": {
    "name": "ipython",
    "version": 3
   },
   "file_extension": ".py",
   "mimetype": "text/x-python",
   "name": "python",
   "nbconvert_exporter": "python",
   "pygments_lexer": "ipython3",
   "version": "3.8.20"
  }
 },
 "nbformat": 4,
 "nbformat_minor": 5
}
