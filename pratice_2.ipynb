{
 "cells": [
  {
   "cell_type": "code",
   "execution_count": 1,
   "id": "4851d547",
   "metadata": {},
   "outputs": [],
   "source": [
    "## Hash function\n",
    "\n",
    "\n",
    "class Hash():\n",
    "    def __init__(self,b):\n",
    "        self.bucket= b\n",
    "        self.table= [[] for i in range(b)  ]\n",
    "        \n",
    "    def insert(self,x):\n",
    "        i = x%self.bucket\n",
    "        self.table[i].append(x)\n",
    "    def remove(self,x):\n",
    "        i = x%self.bucket\n",
    "        self.table[i].remove(x)\n",
    "        \n",
    "    def search(self,x):\n",
    "        i = x%self.bucket\n",
    "        return x in self.table[i]\n",
    "        "
   ]
  },
  {
   "cell_type": "code",
   "execution_count": null,
   "id": "a07c8344",
   "metadata": {},
   "outputs": [],
   "source": [
    "##Open addressing\n",
    "##number of steps  hash table >= number of keys to be inserted\n",
    "##Linear probboing serch for the next empty slot if the slot is already occupied\n",
    "\n",
    "\n",
    "\n",
    "\n",
    "\n",
    "\n"
   ]
  },
  {
   "cell_type": "code",
   "execution_count": null,
   "id": "70ee8a4c",
   "metadata": {},
   "outputs": [],
   "source": [
    "##Double hashing\n",
    "## hash(key,i)= (h1(key)+h(key))%m \n",
    "\n"
   ]
  },
  {
   "cell_type": "code",
   "execution_count": null,
   "id": "f700a6ae",
   "metadata": {},
   "outputs": [
    {
     "name": "stdout",
     "output_type": "stream",
     "text": [
      "10 2\n",
      "20 2\n",
      "30 1\n",
      "None\n"
     ]
    }
   ],
   "source": [
    "##Frequency of array element:\n",
    "def count_freq(arr):\n",
    "    n= len(arr)\n",
    "    for i in range(n):\n",
    "        flag= False\n",
    "        for j in range(i):\n",
    "            if arr[i]==arr[j]:\n",
    "                flag= True\n",
    "                break\n",
    "        if flag==True:\n",
    "            continue\n",
    "        freq= 1\n",
    "        for j in range(i+1,n):\n",
    "            if arr[i]== arr[j]:\n",
    "                freq+=1\n",
    "        print(arr[i],freq)\n",
    "        \n",
    "\n",
    "\n",
    "\n",
    "\n",
    "\n",
    "\n",
    "\n",
    "\n",
    "\n",
    "\n",
    "\n",
    "\n",
    "\n",
    "\n",
    "\n"
   ]
  },
  {
   "cell_type": "code",
   "execution_count": 6,
   "id": "445cd399",
   "metadata": {},
   "outputs": [
    {
     "name": "stdout",
     "output_type": "stream",
     "text": [
      "10   2\n",
      "20   2\n",
      "30   1\n",
      "None\n"
     ]
    }
   ],
   "source": [
    "## dict approach\n",
    "\n",
    "def freq_dict(arr):\n",
    "    n= len(arr)\n",
    "    hasmap = dict()\n",
    "    for i in range(n):\n",
    "        if arr[i] in hasmap.keys():\n",
    "            hasmap[arr[i]]+=1\n",
    "        else:\n",
    "            hasmap[arr[i]]=1\n",
    "    for x in hasmap:\n",
    "        print(x,\" \", hasmap[x]) \n",
    "\n",
    "ls = [10,20,20,30,10]\n",
    "ans = freq_dict(ls)\n",
    "print(ans)\n",
    "\n",
    "\n"
   ]
  },
  {
   "cell_type": "code",
   "execution_count": 7,
   "id": "0278164b",
   "metadata": {},
   "outputs": [
    {
     "name": "stdout",
     "output_type": "stream",
     "text": [
      "True\n",
      "False\n"
     ]
    },
    {
     "data": {
      "text/plain": [
       "False"
      ]
     },
     "execution_count": 7,
     "metadata": {},
     "output_type": "execute_result"
    }
   ],
   "source": [
    "##imlementaion of open addresiing\n",
    "\n",
    "class MyHash:\n",
    "    def __init__(self, c):\n",
    "        self.cap = c\n",
    "        self.table = [-1] * c\n",
    "        self.size = 0\n",
    "\n",
    "    def hash(self, x):\n",
    "        return x % self.cap\n",
    "\n",
    "    def search(self, x):\n",
    "        h = self.hash(x)\n",
    "        t = self.table\n",
    "        i = h\n",
    "        while t[i] != -1:\n",
    "            if t[i] == x:\n",
    "                return True\n",
    "            i = (i + 1) % self.cap\n",
    "            if i == h:\n",
    "                return False\n",
    "        return False\n",
    "\n",
    "    def insert(self, x):\n",
    "        if self.size == self.cap:\n",
    "            return False\n",
    "\n",
    "        if self.search(x) == True:\n",
    "            return False\n",
    "        i = self.hash(x)\n",
    "        t = self.table\n",
    "        while t[i] not in (-1, -2):\n",
    "            i = (i + 1) % self.cap\n",
    "\n",
    "        t[i] = x\n",
    "        self.size = self.size + 1\n",
    "        return True\n",
    "\n",
    "    def remove(self, x):\n",
    "        h = self.hash(x)\n",
    "        t = self.table\n",
    "        i = h\n",
    "        while t[i] != -1:\n",
    "            if t[i] == x:\n",
    "                t[i] = -2\n",
    "                return True\n",
    "            i = (i + 1) % self.cap\n",
    "            if i == h:\n",
    "                return False\n",
    "        return False\n",
    "\n",
    "\n",
    "h = MyHash(7)\n",
    "h.insert(70)\n",
    "h.insert(71)\n",
    "h.insert(9)\n",
    "h.insert(56)\n",
    "h.insert(72)\n",
    "print(h.search(56))\n",
    "h.remove(56)\n",
    "print(h.search(56))\n",
    "h.remove(56)"
   ]
  },
  {
   "cell_type": "code",
   "execution_count": null,
   "id": "2c6d86f1",
   "metadata": {},
   "outputs": [],
   "source": []
  }
 ],
 "metadata": {
  "kernelspec": {
   "display_name": "base",
   "language": "python",
   "name": "python3"
  },
  "language_info": {
   "codemirror_mode": {
    "name": "ipython",
    "version": 3
   },
   "file_extension": ".py",
   "mimetype": "text/x-python",
   "name": "python",
   "nbconvert_exporter": "python",
   "pygments_lexer": "ipython3",
   "version": "3.8.20"
  }
 },
 "nbformat": 4,
 "nbformat_minor": 5
}
