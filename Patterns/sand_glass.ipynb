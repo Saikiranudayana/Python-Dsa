{
 "cells": [
  {
   "cell_type": "code",
   "execution_count": 34,
   "metadata": {},
   "outputs": [
    {
     "data": {
      "text/plain": [
       "['*****', ' *** ', '  *  ', ' *** ', '*****']"
      ]
     },
     "execution_count": 34,
     "metadata": {},
     "output_type": "execute_result"
    }
   ],
   "source": [
    "def sand_glass(n):\n",
    "    output= []\n",
    "    for i in range(n):\n",
    "        output.append(' '*(i)+'*'*(2*(n-i)-1)+' '*(i))\n",
    "        \n",
    "    for i in range(n-1):\n",
    "        output.append(' '*(n-i-2)+'*'*(2*(i+1)+1)+' '*(n-i-2))\n",
    "    return output\n",
    "\n",
    "n= int(input())\n",
    "sand_glass(n)"
   ]
  },
  {
   "cell_type": "code",
   "execution_count": null,
   "metadata": {},
   "outputs": [],
   "source": []
  },
  {
   "cell_type": "code",
   "execution_count": null,
   "metadata": {},
   "outputs": [],
   "source": []
  }
 ],
 "metadata": {
  "kernelspec": {
   "display_name": "base",
   "language": "python",
   "name": "python3"
  },
  "language_info": {
   "codemirror_mode": {
    "name": "ipython",
    "version": 3
   },
   "file_extension": ".py",
   "mimetype": "text/x-python",
   "name": "python",
   "nbconvert_exporter": "python",
   "pygments_lexer": "ipython3",
   "version": "3.8.20"
  }
 },
 "nbformat": 4,
 "nbformat_minor": 2
}
