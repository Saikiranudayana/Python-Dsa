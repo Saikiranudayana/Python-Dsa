{
 "cells": [
  {
   "cell_type": "code",
   "execution_count": null,
   "metadata": {},
   "outputs": [
    {
     "data": {
      "text/plain": [
       "['                   *',\n",
       " '                  **',\n",
       " '                 ***',\n",
       " '                ****',\n",
       " '               *****',\n",
       " '              ******',\n",
       " '             *******',\n",
       " '            ********',\n",
       " '           *********',\n",
       " '          **********',\n",
       " '         ***********',\n",
       " '        ************',\n",
       " '       *************',\n",
       " '      **************',\n",
       " '     ***************',\n",
       " '    ****************',\n",
       " '   *****************',\n",
       " '  ******************',\n",
       " ' *******************',\n",
       " '********************']"
      ]
     },
     "execution_count": 13,
     "metadata": {},
     "output_type": "execute_result"
    },
    {
     "ename": "",
     "evalue": "",
     "output_type": "error",
     "traceback": [
      "\u001b[1;31mThe Kernel crashed while executing code in the current cell or a previous cell. \n",
      "\u001b[1;31mPlease review the code in the cell(s) to identify a possible cause of the failure. \n",
      "\u001b[1;31mClick <a href='https://aka.ms/vscodeJupyterKernelCrash'>here</a> for more info. \n",
      "\u001b[1;31mView Jupyter <a href='command:jupyter.viewOutput'>log</a> for further details."
     ]
    }
   ],
   "source": [
    "def right_angled_tri_2(n):\n",
    "    output= []\n",
    "    for i in range(1,n+1):\n",
    "        output.append(' '*(n-i)+'*'*i)\n",
    "    return output\n",
    "\n",
    "n= int(input(\"Enter \"))\n",
    "right_angled_tri_2(n)"
   ]
  },
  {
   "cell_type": "code",
   "execution_count": null,
   "metadata": {},
   "outputs": [],
   "source": []
  }
 ],
 "metadata": {
  "kernelspec": {
   "display_name": "base",
   "language": "python",
   "name": "python3"
  },
  "language_info": {
   "codemirror_mode": {
    "name": "ipython",
    "version": 3
   },
   "file_extension": ".py",
   "mimetype": "text/x-python",
   "name": "python",
   "nbconvert_exporter": "python",
   "pygments_lexer": "ipython3",
   "version": "3.8.20"
  }
 },
 "nbformat": 4,
 "nbformat_minor": 2
}
