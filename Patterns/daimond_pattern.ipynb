{
 "cells": [
  {
   "cell_type": "code",
   "execution_count": 26,
   "metadata": {},
   "outputs": [
    {
     "data": {
      "text/plain": [
       "['  *  ', ' *** ', '*****', '*****', ' *** ', '  *  ']"
      ]
     },
     "execution_count": 26,
     "metadata": {},
     "output_type": "execute_result"
    }
   ],
   "source": [
    "def generate_daimond(n):\n",
    "    output = []\n",
    "    for i in range(1,n+1):\n",
    "        output.append(' '*(n-i)+'*'*(2*i -1)+' '*(n-i))\n",
    "        \n",
    "    for i in range(n,0,-1):\n",
    "        output.append(' '*(n-i)+'*'*(2*i -1)+' '*(n-i))    \n",
    "    return output\n",
    "\n",
    "n= int(input(\"Number\"))\n",
    "generate_daimond(n)"
   ]
  },
  {
   "cell_type": "code",
   "execution_count": null,
   "metadata": {},
   "outputs": [],
   "source": []
  },
  {
   "cell_type": "code",
   "execution_count": null,
   "metadata": {},
   "outputs": [],
   "source": []
  }
 ],
 "metadata": {
  "kernelspec": {
   "display_name": "base",
   "language": "python",
   "name": "python3"
  },
  "language_info": {
   "codemirror_mode": {
    "name": "ipython",
    "version": 3
   },
   "file_extension": ".py",
   "mimetype": "text/x-python",
   "name": "python",
   "nbconvert_exporter": "python",
   "pygments_lexer": "ipython3",
   "version": "3.8.20"
  }
 },
 "nbformat": 4,
 "nbformat_minor": 2
}
