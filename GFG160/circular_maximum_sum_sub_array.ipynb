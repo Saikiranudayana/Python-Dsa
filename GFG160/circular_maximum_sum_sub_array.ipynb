{
 "cells": [
  {
   "cell_type": "code",
   "execution_count": 6,
   "metadata": {},
   "outputs": [
    {
     "name": "stdout",
     "output_type": "stream",
     "text": [
      "22\n"
     ]
    }
   ],
   "source": [
    "def maxsum_circular_subarray(arr):\n",
    "    totalsum= 0\n",
    "    currmaxsum=0\n",
    "    currminsum = 0 \n",
    "    maxsum = arr[0]\n",
    "    minsum = arr[0]\n",
    "    for i in range(len(arr)):\n",
    "        currmaxsum = max(currmaxsum+arr[i],arr[i])\n",
    "        maxsum = max(maxsum,currmaxsum) \n",
    "\n",
    "        currminsum = min(currminsum+arr[i],arr[i])\n",
    "        minsum = min(minsum,currminsum)\n",
    "\n",
    "        totalsum += arr[i]\n",
    "    normalsum = maxsum\n",
    "    circularsum = totalsum - minsum\n",
    "\n",
    "    if totalsum== normalsum:\n",
    "        return normalsum\n",
    "    return max(normalsum,circularsum)\n",
    "\n",
    "if __name__ == \"__main__\":\n",
    "    arr= [8,-8,9,-9,10,-11,12]\n",
    "    res = maxsum_circular_subarray(arr)\n",
    "    print(res)"
   ]
  },
  {
   "cell_type": "code",
   "execution_count": null,
   "metadata": {},
   "outputs": [],
   "source": []
  }
 ],
 "metadata": {
  "kernelspec": {
   "display_name": "base",
   "language": "python",
   "name": "python3"
  },
  "language_info": {
   "codemirror_mode": {
    "name": "ipython",
    "version": 3
   },
   "file_extension": ".py",
   "mimetype": "text/x-python",
   "name": "python",
   "nbconvert_exporter": "python",
   "pygments_lexer": "ipython3",
   "version": "3.8.20"
  }
 },
 "nbformat": 4,
 "nbformat_minor": 2
}
