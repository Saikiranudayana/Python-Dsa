{
 "cells": [
  {
   "cell_type": "code",
   "execution_count": 6,
   "metadata": {},
   "outputs": [
    {
     "name": "stdout",
     "output_type": "stream",
     "text": [
      "[0, 3]\n"
     ]
    }
   ],
   "source": [
    "def constructlps(pat,lps):\n",
    "    length = 0\n",
    "    m = len(pat)\n",
    "    lps[0] = 0\n",
    "    i  = 1\n",
    "    while i <m:\n",
    "        if pat[i] == pat[length]:\n",
    "            length+= 1\n",
    "            lps[i] = length\n",
    "            i+=1 \n",
    "        else:\n",
    "            if length != 0:\n",
    "                length = lps[length -1]\n",
    "            else:\n",
    "                lps[i] =0\n",
    "            i+=1\n",
    "\n",
    "\n",
    "def search(pat,txt):\n",
    "    n= len(txt)\n",
    "    m= len(pat)\n",
    "    lps = [0]*m\n",
    "    res = []\n",
    "    constructlps(pat,lps)\n",
    "\n",
    "    i = 0\n",
    "    j= 0\n",
    "    while i<n:\n",
    "        if txt[i] == pat[j]:\n",
    "            i+=1 \n",
    "            j+=1 \n",
    "            if j==m:\n",
    "                res.append(i-j)\n",
    "                j= lps[j-1]\n",
    "        else:\n",
    "            if j!=0:\n",
    "                j= lps[j-1]\n",
    "            else:\n",
    "                i+=1\n",
    "        \n",
    "        \n",
    "        \n",
    "        \n",
    "        \n",
    "    return res\n",
    "\n",
    "\n",
    "\n",
    "\n",
    "if __name__ == \"__main__\":\n",
    "    txt= 'abcab'\n",
    "    pat = 'ab'\n",
    "    print(search(pat,txt))"
   ]
  },
  {
   "cell_type": "code",
   "execution_count": null,
   "metadata": {},
   "outputs": [],
   "source": []
  }
 ],
 "metadata": {
  "kernelspec": {
   "display_name": "base",
   "language": "python",
   "name": "python3"
  },
  "language_info": {
   "codemirror_mode": {
    "name": "ipython",
    "version": 3
   },
   "file_extension": ".py",
   "mimetype": "text/x-python",
   "name": "python",
   "nbconvert_exporter": "python",
   "pygments_lexer": "ipython3",
   "version": "3.8.20"
  }
 },
 "nbformat": 4,
 "nbformat_minor": 2
}
