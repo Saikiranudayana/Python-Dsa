{
 "cells": [
  {
   "cell_type": "code",
   "execution_count": 3,
   "metadata": {},
   "outputs": [
    {
     "name": "stdout",
     "output_type": "stream",
     "text": [
      "h\n"
     ]
    }
   ],
   "source": [
    "max_char = 26\n",
    "def nonreapeatingchar(s):\n",
    "    visited = [-1]*max_char\n",
    "    for i in range(len(s)):\n",
    "        if visited[ord(s[i])- ord('a')]== -1:\n",
    "            visited[ord(s[i])-ord('a')]=i\n",
    "        else:\n",
    "            visited[ord(s[i])-ord('a')]==-2\n",
    "\n",
    "    idx =float('inf')\n",
    "    for i in range(max_char):\n",
    "        if visited [i]>=0:\n",
    "            idx = min(idx,visited[i])  \n",
    "\n",
    "\n",
    "    return '$' if idx==float('inf') else s[idx]\n",
    "\n",
    "\n",
    "if __name__ == \"__main__\":\n",
    "    s= \"hello\"\n",
    "    print(nonreapeatingchar(s))\n"
   ]
  },
  {
   "cell_type": "code",
   "execution_count": null,
   "metadata": {},
   "outputs": [],
   "source": []
  }
 ],
 "metadata": {
  "kernelspec": {
   "display_name": "base",
   "language": "python",
   "name": "python3"
  },
  "language_info": {
   "codemirror_mode": {
    "name": "ipython",
    "version": 3
   },
   "file_extension": ".py",
   "mimetype": "text/x-python",
   "name": "python",
   "nbconvert_exporter": "python",
   "pygments_lexer": "ipython3",
   "version": "3.8.20"
  }
 },
 "nbformat": 4,
 "nbformat_minor": 2
}
