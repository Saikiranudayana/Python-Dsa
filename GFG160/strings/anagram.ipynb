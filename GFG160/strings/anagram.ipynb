{
 "cells": [
  {
   "cell_type": "code",
   "execution_count": 1,
   "metadata": {},
   "outputs": [
    {
     "name": "stdout",
     "output_type": "stream",
     "text": [
      "True\n"
     ]
    }
   ],
   "source": [
    "def Anagram(s1,s2):\n",
    "    char = {}\n",
    "    for ch in s1:\n",
    "        char[ch] = char.get(ch,0)+1\n",
    "    for ch in s2:\n",
    "        char[ch] = char.get(ch,0)-1\n",
    "\n",
    "    for val in char.values():\n",
    "        if val !=0:\n",
    "            return False \n",
    "\n",
    "\n",
    "    return True\n",
    "\n",
    "if __name__ == \"__main__\":\n",
    "    s1 = \"cat\"\n",
    "    s2 = \"act\"\n",
    "    print(Anagram(s1,s2))"
   ]
  },
  {
   "cell_type": "code",
   "execution_count": null,
   "metadata": {},
   "outputs": [],
   "source": []
  }
 ],
 "metadata": {
  "kernelspec": {
   "display_name": "base",
   "language": "python",
   "name": "python3"
  },
  "language_info": {
   "codemirror_mode": {
    "name": "ipython",
    "version": 3
   },
   "file_extension": ".py",
   "mimetype": "text/x-python",
   "name": "python",
   "nbconvert_exporter": "python",
   "pygments_lexer": "ipython3",
   "version": "3.8.20"
  }
 },
 "nbformat": 4,
 "nbformat_minor": 2
}
