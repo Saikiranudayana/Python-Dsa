{
 "cells": [
  {
   "cell_type": "code",
   "execution_count": 4,
   "metadata": {},
   "outputs": [
    {
     "name": "stdout",
     "output_type": "stream",
     "text": [
      "2\n"
     ]
    }
   ],
   "source": [
    "## check if it is a palindrome or not\n",
    "## return the count of the chars to be added to make it a  palindrome\n",
    "\n",
    "\n",
    "\n",
    "\n",
    "def is_palindrome(s,i,j):\n",
    "    while i<j:\n",
    "        if s[i] != s[j]:\n",
    "            return False \n",
    "        i+=1\n",
    "        j-= 1\n",
    "    return True\n",
    "\n",
    "\n",
    "def minchar(s):\n",
    "    count = 0\n",
    "    i = len(s)-1\n",
    "    while i >=0 and not is_palindrome(s,0,i):\n",
    "        i-= 1\n",
    "        count+= 1 \n",
    "    return count\n",
    "\n",
    "\n",
    "\n",
    "if __name__ == \"__main__\":\n",
    "    s = \"abc\"\n",
    "    print(minchar(s))"
   ]
  },
  {
   "cell_type": "code",
   "execution_count": 9,
   "metadata": {},
   "outputs": [
    {
     "name": "stdout",
     "output_type": "stream",
     "text": [
      "2\n"
     ]
    }
   ],
   "source": [
    "##Lps methios of KMP algoritm\n",
    "# \n",
    "def constructlps(s):\n",
    "    n= len(s)\n",
    "    lps = [0]*n\n",
    "    length = 0\n",
    "    i = 1\n",
    "    while i <n:\n",
    "        if s[i] == s[length]:\n",
    "            length += 1\n",
    "            lps[i] = length \n",
    "            i += 1\n",
    "        else:\n",
    "            if length!=0:\n",
    "                length = lps[length -1]\n",
    "            else:\n",
    "                lps[i] = 0\n",
    "                i+= 1\n",
    "\n",
    "    return lps \n",
    "\n",
    "\n",
    "def minchar(s):\n",
    "    n= len(s)\n",
    "    rev= s[::-1]\n",
    "\n",
    "    combined= s+ \"$\" + rev\n",
    "\n",
    "    lps = constructlps(combined)\n",
    "\n",
    "    return n- lps[-1]\n",
    "\n",
    "\n",
    "if __name__ == \"__main__\":\n",
    "    s= \"abc\"\n",
    "    print(minchar(s))\n"
   ]
  },
  {
   "cell_type": "code",
   "execution_count": null,
   "metadata": {},
   "outputs": [],
   "source": []
  },
  {
   "cell_type": "code",
   "execution_count": null,
   "metadata": {},
   "outputs": [],
   "source": []
  },
  {
   "cell_type": "code",
   "execution_count": null,
   "metadata": {},
   "outputs": [],
   "source": []
  }
 ],
 "metadata": {
  "kernelspec": {
   "display_name": "base",
   "language": "python",
   "name": "python3"
  },
  "language_info": {
   "codemirror_mode": {
    "name": "ipython",
    "version": 3
   },
   "file_extension": ".py",
   "mimetype": "text/x-python",
   "name": "python",
   "nbconvert_exporter": "python",
   "pygments_lexer": "ipython3",
   "version": "3.8.20"
  }
 },
 "nbformat": 4,
 "nbformat_minor": 2
}
