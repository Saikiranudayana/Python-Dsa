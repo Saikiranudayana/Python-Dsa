{
 "cells": [
  {
   "cell_type": "code",
   "execution_count": 1,
   "metadata": {},
   "outputs": [
    {
     "name": "stdout",
     "output_type": "stream",
     "text": [
      "True\n"
     ]
    }
   ],
   "source": [
    "##Navie approsch Brute force  \n",
    "\n",
    "\n",
    "def are_rations(s1,s2):\n",
    "    n= len(s1)\n",
    "\n",
    "    for _ in range(n):\n",
    "        if s1==s2:\n",
    "            return True \n",
    "        s1 = s1[-1]+ s1[:-1]\n",
    "    return False\n",
    "\n",
    "\n",
    "if __name__ == \"__main__\":\n",
    "    s1 = \"aab\"\n",
    "    s2 = \"aba\"\n",
    "    print(are_rations(s1,s2))"
   ]
  },
  {
   "cell_type": "code",
   "execution_count": 5,
   "metadata": {},
   "outputs": [
    {
     "name": "stdout",
     "output_type": "stream",
     "text": [
      "True\n"
     ]
    }
   ],
   "source": [
    "##KMP algorithm method\n",
    "\n",
    "\n",
    "def constructlps(s):\n",
    "    n= len(s)\n",
    "    lps = [0]*n\n",
    "    length = 0\n",
    "    i= 1\n",
    "    while i<n:\n",
    "        if s[i]== s[length]:\n",
    "            length += 1 \n",
    "            lps[i] = length \n",
    "            i+= 1\n",
    "        else:\n",
    "            if length != 0:\n",
    "                length = lps[length-1]\n",
    "            else:\n",
    "                lps[i] = 0\n",
    "                i+= 1\n",
    "\n",
    "    return lps\n",
    "\n",
    "def are_ratations_2(s1,s2):\n",
    "    txt = s1+s1 \n",
    "    pat = s2\n",
    "    n = len(txt)\n",
    "    m= len(pat)\n",
    "    lps = constructlps(pat)\n",
    "    i = 0\n",
    "    j = 0\n",
    "    while i<n:\n",
    "        if pat[j]==txt[i]:\n",
    "            j+= 1\n",
    "            i+= 1\n",
    "        if j==m:\n",
    "            return True \n",
    "        elif i<n and pat[j] != txt[i]:\n",
    "            if j!=0:\n",
    "                j= lps[j-1]\n",
    "            else:\n",
    "                i+=1\n",
    "    return False\n",
    "\n",
    "\n",
    "\n",
    "if __name__ == \"__main__\":\n",
    "    s1 = \"aab\"\n",
    "    s2 = \"aba\"\n",
    "    print(are_ratations_2(s1,s2))\n",
    "\n"
   ]
  },
  {
   "cell_type": "code",
   "execution_count": null,
   "metadata": {},
   "outputs": [],
   "source": []
  },
  {
   "cell_type": "code",
   "execution_count": null,
   "metadata": {},
   "outputs": [],
   "source": []
  },
  {
   "cell_type": "code",
   "execution_count": 3,
   "metadata": {},
   "outputs": [
    {
     "name": "stdout",
     "output_type": "stream",
     "text": [
      "True\n"
     ]
    }
   ],
   "source": [
    "def are_rations3(s1,s2):\n",
    "    s1= s1 + s1\n",
    "\n",
    "    return s2 in s1\n",
    "     \n",
    "\n",
    "if __name__ == \"__main__\":\n",
    "    s1= \"aab\"\n",
    "    s2= \"aba\"\n",
    "    print(are_rations3(s1,s2))"
   ]
  },
  {
   "cell_type": "code",
   "execution_count": null,
   "metadata": {},
   "outputs": [],
   "source": []
  }
 ],
 "metadata": {
  "kernelspec": {
   "display_name": "base",
   "language": "python",
   "name": "python3"
  },
  "language_info": {
   "codemirror_mode": {
    "name": "ipython",
    "version": 3
   },
   "file_extension": ".py",
   "mimetype": "text/x-python",
   "name": "python",
   "nbconvert_exporter": "python",
   "pygments_lexer": "ipython3",
   "version": "3.8.20"
  }
 },
 "nbformat": 4,
 "nbformat_minor": 2
}
