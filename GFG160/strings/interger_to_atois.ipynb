{
 "cells": [
  {
   "cell_type": "code",
   "execution_count": 12,
   "metadata": {},
   "outputs": [
    {
     "name": "stdout",
     "output_type": "stream",
     "text": [
      "-123\n"
     ]
    }
   ],
   "source": [
    "def myatios(s:str)->int:\n",
    "    sign = 1\n",
    "    res = 0\n",
    "    i = 0\n",
    "    while i<len(s) and s[i] == ' ':\n",
    "        i += 1 \n",
    "    if i<len(s) and (s[i] == '-'or s[i] == '+'):\n",
    "        if s[i] == '-':\n",
    "            sign= -1\n",
    "        i += 1\n",
    "    while i<len(s) and '0'<=s[i]<= '9':\n",
    "        res = 10*res +(ord(s[i])-ord('0'))\n",
    "        if res>(2**31-1):\n",
    "            return 2**31-1 if sign== 1 else -2**31\n",
    "        i+=1 \n",
    "\n",
    "    return res*sign\n",
    "    \n",
    "\n",
    "if __name__ == '__main__':\n",
    "    str= \"-123\"\n",
    "    print(myatios(str))"
   ]
  },
  {
   "cell_type": "code",
   "execution_count": null,
   "metadata": {},
   "outputs": [],
   "source": []
  },
  {
   "cell_type": "code",
   "execution_count": null,
   "metadata": {},
   "outputs": [],
   "source": []
  }
 ],
 "metadata": {
  "kernelspec": {
   "display_name": "base",
   "language": "python",
   "name": "python3"
  },
  "language_info": {
   "codemirror_mode": {
    "name": "ipython",
    "version": 3
   },
   "file_extension": ".py",
   "mimetype": "text/x-python",
   "name": "python",
   "nbconvert_exporter": "python",
   "pygments_lexer": "ipython3",
   "version": "3.8.20"
  }
 },
 "nbformat": 4,
 "nbformat_minor": 2
}
