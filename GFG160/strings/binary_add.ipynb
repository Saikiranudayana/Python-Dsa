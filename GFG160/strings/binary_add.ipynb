{
 "cells": [
  {
   "cell_type": "code",
   "execution_count": 8,
   "metadata": {},
   "outputs": [
    {
     "name": "stdout",
     "output_type": "stream",
     "text": [
      "1 0 0 0 0 0\n"
     ]
    }
   ],
   "source": [
    "\n",
    "def trim_leading_zeros(s):\n",
    "    one = s.find('1')\n",
    "    return s[one:] if one !=-1 else '0'\n",
    "def binary_addition(s1, s2):        \n",
    "    s1 = trim_leading_zeros(s1)\n",
    "    s2 = trim_leading_zeros(s2)\n",
    "\n",
    "    n= len(s1)\n",
    "    m= len(s2)\n",
    "\n",
    "    if n< m:\n",
    "        s1,s2 = s2, s1\n",
    "        n,m = m,n  \n",
    "    j= m-1\n",
    "    carry= 0\n",
    "    res= []\n",
    "    for i in range(n-1,-1,-1):\n",
    "        bit1 = int(s1[i])\n",
    "        bitsum = bit1 + carry\n",
    "\n",
    "        if j>= 0:\n",
    "            bit2 = int(s2[j])\n",
    "            bitsum += bit2\n",
    "            j-=1\n",
    "        bit = bitsum%2\n",
    "        carry = bitsum//2\n",
    "        res.append(str(bit))\n",
    "    if carry>0:\n",
    "        res.append('1')\n",
    "    return ' '.join(res[::-1])\n",
    "    \n",
    "\n",
    "\n",
    "if __name__ == \"__main__\":\n",
    "    s1 = \"1100\"\n",
    "    s2= \"10100\"\n",
    "    print(binary_addition(s1,s2))"
   ]
  },
  {
   "cell_type": "code",
   "execution_count": 7,
   "metadata": {},
   "outputs": [
    {
     "name": "stdout",
     "output_type": "stream",
     "text": [
      "1 0 0 0 0\n"
     ]
    }
   ],
   "source": [
    "def trim_leading_zeros(s):\n",
    "    first_one = s.find('1')\n",
    "    return s[first_one:] if first_one != -1 else \"0\"\n",
    "\n",
    "\n",
    "\n",
    "def addBinary( s1, s2):\n",
    "    # code here\n",
    "    s1 = trim_leading_zeros(s1)\n",
    "    s2 = trim_leading_zeros(s2)\n",
    "    \n",
    "    n= len(s1)\n",
    "    m= len(s2)\n",
    "    \n",
    "    if n>m:\n",
    "        s1, s2 = s2, s1\n",
    "        n,m = m,n\n",
    "    j = m-1\n",
    "    carry= 0\n",
    "    res= []\n",
    "    for i in range(n-1,-1,-1):\n",
    "        bit1 = int(s1[i])\n",
    "        bitsum = bit1 + carry\n",
    "        \n",
    "        if j>=0:\n",
    "            bit2 = int(s2[j])\n",
    "            bitsum += bit2\n",
    "            j-= 1\n",
    "        bit = bitsum%2\n",
    "        carry = bitsum//2\n",
    "        res.append(str(bit))\n",
    "    if carry>0:\n",
    "        res.append('1')\n",
    "    return ' '.join(res[::-1])\n",
    "\n",
    "\n",
    "if __name__ == \"__main__\":\n",
    "    s1 = \"1100\"\n",
    "    s2 = \"10100\"\n",
    "    print(addBinary(s1,s2))\n",
    "\n"
   ]
  },
  {
   "cell_type": "code",
   "execution_count": null,
   "metadata": {},
   "outputs": [],
   "source": []
  }
 ],
 "metadata": {
  "kernelspec": {
   "display_name": "base",
   "language": "python",
   "name": "python3"
  },
  "language_info": {
   "codemirror_mode": {
    "name": "ipython",
    "version": 3
   },
   "file_extension": ".py",
   "mimetype": "text/x-python",
   "name": "python",
   "nbconvert_exporter": "python",
   "pygments_lexer": "ipython3",
   "version": "3.8.20"
  }
 },
 "nbformat": 4,
 "nbformat_minor": 2
}
