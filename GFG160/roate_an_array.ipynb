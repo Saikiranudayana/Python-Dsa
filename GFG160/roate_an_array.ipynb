{
 "cells": [
  {
   "cell_type": "code",
   "execution_count": 3,
   "metadata": {},
   "outputs": [
    {
     "data": {
      "text/plain": [
       "[3, 4, 5, 6, 1, 2]"
      ]
     },
     "execution_count": 3,
     "metadata": {},
     "output_type": "execute_result"
    }
   ],
   "source": [
    "def rotate_array(arr,d):\n",
    "    n= len(arr)\n",
    "    d %=n \n",
    "    \n",
    "    reverse(arr,0, d-1)\n",
    "    reverse(arr,d, n-1)\n",
    "    reverse(arr,0,n-1) \n",
    "    \n",
    "    return arr\n",
    "\n",
    "\n",
    "\n",
    "def reverse(arr,start,end):\n",
    "    while start<end:\n",
    "        arr[start],arr[end]=arr[end],arr[start]\n",
    "        start+=1\n",
    "        end-=1\n",
    "        \n",
    "\n",
    "arr = [1,2,3,4,5,6]\n",
    "d= 2 \n",
    "rotate_array(arr,d)"
   ]
  },
  {
   "cell_type": "code",
   "execution_count": null,
   "metadata": {},
   "outputs": [],
   "source": []
  }
 ],
 "metadata": {
  "kernelspec": {
   "display_name": "base",
   "language": "python",
   "name": "python3"
  },
  "language_info": {
   "codemirror_mode": {
    "name": "ipython",
    "version": 3
   },
   "file_extension": ".py",
   "mimetype": "text/x-python",
   "name": "python",
   "nbconvert_exporter": "python",
   "pygments_lexer": "ipython3",
   "version": "3.8.20"
  }
 },
 "nbformat": 4,
 "nbformat_minor": 2
}
