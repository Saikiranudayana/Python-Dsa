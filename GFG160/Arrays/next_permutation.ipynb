{
 "cells": [
  {
   "cell_type": "code",
   "execution_count": 6,
   "metadata": {},
   "outputs": [
    {
     "data": {
      "text/plain": [
       "[1, 3, 2]"
      ]
     },
     "execution_count": 6,
     "metadata": {},
     "output_type": "execute_result"
    }
   ],
   "source": [
    "def next_permutation(arr):\n",
    "    n= len(arr)\n",
    "    pivot = -1\n",
    "    for i in range(n-2,-1,-1):\n",
    "        if arr[i]<arr[i+1]:\n",
    "            pivot= i\n",
    "            break\n",
    "    if pivot == -1:\n",
    "        arr.reverse()\n",
    "        return arr \n",
    "    \n",
    "    for i in range(n-1,pivot,-1):\n",
    "        if arr[i]>arr[pivot]:\n",
    "            arr[i],arr[pivot]= arr[pivot],arr[i]\n",
    "            break\n",
    "        \n",
    "    left, right = pivot+1,n-1\n",
    "    while left<right:\n",
    "        arr[left],arr[right] = arr[right],arr[left]\n",
    "        left+=1 \n",
    "        right==1\n",
    "    return arr\n",
    "\n",
    "arr= [1,2,3]\n",
    "next_permutation(arr)        "
   ]
  },
  {
   "cell_type": "code",
   "execution_count": null,
   "metadata": {},
   "outputs": [],
   "source": []
  },
  {
   "cell_type": "code",
   "execution_count": null,
   "metadata": {},
   "outputs": [],
   "source": []
  }
 ],
 "metadata": {
  "kernelspec": {
   "display_name": "base",
   "language": "python",
   "name": "python3"
  },
  "language_info": {
   "codemirror_mode": {
    "name": "ipython",
    "version": 3
   },
   "file_extension": ".py",
   "mimetype": "text/x-python",
   "name": "python",
   "nbconvert_exporter": "python",
   "pygments_lexer": "ipython3",
   "version": "3.8.20"
  }
 },
 "nbformat": 4,
 "nbformat_minor": 2
}
