{
 "cells": [
  {
   "cell_type": "code",
   "execution_count": 1,
   "metadata": {},
   "outputs": [
    {
     "name": "stdout",
     "output_type": "stream",
     "text": [
      "180\n"
     ]
    }
   ],
   "source": [
    "def max_product_sub_array(arr):\n",
    "    n= len(arr)\n",
    "    maxprod = float('-inf')\n",
    "    lefttoright = 1\n",
    "    righttoleft = 1\n",
    "    for i in range(n):\n",
    "        if lefttoright==0:\n",
    "            lefttoright = 1\n",
    "        if righttoleft==0:\n",
    "            righttoleft = 1\n",
    "        lefttoright*= arr[i]\n",
    "        j= n-i-1\n",
    "        righttoleft *= arr[j]\n",
    "        maxprod = max(lefttoright,righttoleft,maxprod)\n",
    "    return maxprod        \n",
    "\n",
    "\n",
    "if __name__ == \"__main__\":\n",
    "    arr= [-2,6,-3,-10,0,2]\n",
    "    res = max_product_sub_array(arr)\n",
    "    print(res)"
   ]
  },
  {
   "cell_type": "code",
   "execution_count": null,
   "metadata": {},
   "outputs": [],
   "source": []
  }
 ],
 "metadata": {
  "kernelspec": {
   "display_name": "base",
   "language": "python",
   "name": "python3"
  },
  "language_info": {
   "codemirror_mode": {
    "name": "ipython",
    "version": 3
   },
   "file_extension": ".py",
   "mimetype": "text/x-python",
   "name": "python",
   "nbconvert_exporter": "python",
   "pygments_lexer": "ipython3",
   "version": "3.8.20"
  }
 },
 "nbformat": 4,
 "nbformat_minor": 2
}
