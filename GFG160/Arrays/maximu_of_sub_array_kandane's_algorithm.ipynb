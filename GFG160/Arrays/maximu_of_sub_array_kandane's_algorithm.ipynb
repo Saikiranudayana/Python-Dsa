{
 "cells": [
  {
   "cell_type": "code",
   "execution_count": 4,
   "metadata": {},
   "outputs": [
    {
     "data": {
      "text/plain": [
       "11"
      ]
     },
     "execution_count": 4,
     "metadata": {},
     "output_type": "execute_result"
    }
   ],
   "source": [
    "def max_sum_of_sub_array(arr):\n",
    "    maxending = arr[0]\n",
    "    res = arr[0]\n",
    "    for i in range(1,len(arr)):\n",
    "        maxending = max(maxending+arr[i],arr[i])\n",
    "        \n",
    "        res= max(res,maxending)\n",
    "        \n",
    "    return res\n",
    "\n",
    "arr = [2, 3, -8, 7, -1, 2, 3]\n",
    "max_sum_of_sub_array(arr)"
   ]
  },
  {
   "cell_type": "code",
   "execution_count": null,
   "metadata": {},
   "outputs": [],
   "source": []
  }
 ],
 "metadata": {
  "kernelspec": {
   "display_name": "base",
   "language": "python",
   "name": "python3"
  },
  "language_info": {
   "codemirror_mode": {
    "name": "ipython",
    "version": 3
   },
   "file_extension": ".py",
   "mimetype": "text/x-python",
   "name": "python",
   "nbconvert_exporter": "python",
   "pygments_lexer": "ipython3",
   "version": "3.8.20"
  }
 },
 "nbformat": 4,
 "nbformat_minor": 2
}
