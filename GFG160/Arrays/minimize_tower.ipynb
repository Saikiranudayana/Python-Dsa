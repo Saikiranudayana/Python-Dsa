{
 "cells": [
  {
   "cell_type": "code",
   "execution_count": 2,
   "metadata": {},
   "outputs": [
    {
     "name": "stdout",
     "output_type": "stream",
     "text": [
      "9\n"
     ]
    }
   ],
   "source": [
    "def getminheight(arr,k):\n",
    "    n= len(arr)\n",
    "    arr.sort()\n",
    "    res = arr[n-1]-arr[0]\n",
    "    \n",
    "    for i in range(1,n):\n",
    "        if arr[i]-k<0:\n",
    "            continue\n",
    "        minH = min(arr[0]+k,arr[i]-k)\n",
    "        maxH= max(arr[i-1]+k,arr[n-1]-k)\n",
    "        res = min(res,maxH-minH)\n",
    "    return res\n",
    "if __name__ == '__main__':\n",
    "    arr= [1,8,10 ,6 ,4 ,6, 9, 1]\n",
    "    k=7\n",
    "    print(getminheight(arr,k))"
   ]
  },
  {
   "cell_type": "code",
   "execution_count": null,
   "metadata": {},
   "outputs": [],
   "source": []
  }
 ],
 "metadata": {
  "kernelspec": {
   "display_name": "base",
   "language": "python",
   "name": "python3"
  },
  "language_info": {
   "codemirror_mode": {
    "name": "ipython",
    "version": 3
   },
   "file_extension": ".py",
   "mimetype": "text/x-python",
   "name": "python",
   "nbconvert_exporter": "python",
   "pygments_lexer": "ipython3",
   "version": "3.8.20"
  }
 },
 "nbformat": 4,
 "nbformat_minor": 2
}
