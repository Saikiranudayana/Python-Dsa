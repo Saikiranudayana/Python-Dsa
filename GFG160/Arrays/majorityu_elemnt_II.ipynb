{
 "cells": [
  {
   "cell_type": "code",
   "execution_count": 2,
   "metadata": {},
   "outputs": [
    {
     "name": "stdout",
     "output_type": "stream",
     "text": [
      "1 2 "
     ]
    }
   ],
   "source": [
    "def findMajorit(arr):\n",
    "    n= len(arr)\n",
    "    count= {}\n",
    "    for i in arr:\n",
    "        if i in count:\n",
    "            count[i]+= 1\n",
    "        else:\n",
    "            count[i]= 1\n",
    "    ans= []\n",
    "    for i in count:\n",
    "        if count[i]> n//3:\n",
    "            ans.append(i)\n",
    "      \n",
    "\n",
    "    if len(ans)==2 and ans[0]>ans[1]:\n",
    "        ans[0],ans[1]= ans[1],ans[0]\n",
    "    \n",
    "    return ans\n",
    "\n",
    "\n",
    "if __name__== \"__main__\":\n",
    "    arr= [2,2,3,1,3,2,1,1]\n",
    "    res= findMajorit(arr)\n",
    "    for ele in res:\n",
    "        print(ele,end=\" \")\n",
    "        "
   ]
  },
  {
   "cell_type": "code",
   "execution_count": null,
   "metadata": {},
   "outputs": [],
   "source": []
  }
 ],
 "metadata": {
  "kernelspec": {
   "display_name": "base",
   "language": "python",
   "name": "python3"
  },
  "language_info": {
   "codemirror_mode": {
    "name": "ipython",
    "version": 3
   },
   "file_extension": ".py",
   "mimetype": "text/x-python",
   "name": "python",
   "nbconvert_exporter": "python",
   "pygments_lexer": "ipython3",
   "version": "3.8.20"
  }
 },
 "nbformat": 4,
 "nbformat_minor": 2
}
