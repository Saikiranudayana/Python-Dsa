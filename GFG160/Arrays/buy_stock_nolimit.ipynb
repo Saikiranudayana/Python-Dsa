{
 "cells": [
  {
   "cell_type": "code",
   "execution_count": 9,
   "metadata": {},
   "outputs": [
    {
     "name": "stdout",
     "output_type": "stream",
     "text": [
      "7 "
     ]
    }
   ],
   "source": [
    "def maximumprofit(arr):\n",
    "    res= 0\n",
    "    for i in range(1,len(arr)):\n",
    "        if arr[i] >arr[i-1]:\n",
    "            res+= arr[i]-arr[i-1]\n",
    "    return res\n",
    "             \n",
    "\n",
    "\n",
    "if __name__ == '__main__':\n",
    "    arr= [7,1,5,3,6,4]\n",
    "    res= maximumprofit(arr)\n",
    "    print(res,end=' ')\n",
    "    "
   ]
  },
  {
   "cell_type": "code",
   "execution_count": null,
   "metadata": {},
   "outputs": [],
   "source": []
  },
  {
   "cell_type": "code",
   "execution_count": null,
   "metadata": {},
   "outputs": [],
   "source": []
  }
 ],
 "metadata": {
  "kernelspec": {
   "display_name": "base",
   "language": "python",
   "name": "python3"
  },
  "language_info": {
   "codemirror_mode": {
    "name": "ipython",
    "version": 3
   },
   "file_extension": ".py",
   "mimetype": "text/x-python",
   "name": "python",
   "nbconvert_exporter": "python",
   "pygments_lexer": "ipython3",
   "version": "3.8.20"
  }
 },
 "nbformat": 4,
 "nbformat_minor": 2
}
