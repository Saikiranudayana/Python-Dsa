{
 "cells": [
  {
   "cell_type": "code",
   "execution_count": 19,
   "metadata": {},
   "outputs": [
    {
     "name": "stdout",
     "output_type": "stream",
     "text": [
      "321\n"
     ]
    }
   ],
   "source": [
    "def maxsum_circular_subarray(arr):\n",
    "    totalsum= 0\n",
    "    currmaxsum=arr[0]\n",
    "    currminsum = arr[0]  \n",
    "    maxsum = arr[0]\n",
    "    minsum = arr[0]\n",
    "    for i in range(len(arr)):\n",
    "        currmaxsum = max(currmaxsum+arr[i],arr[i])\n",
    "        maxsum = max(maxsum,currmaxsum) \n",
    "\n",
    "        currminsum = min(currminsum+arr[i],arr[i])\n",
    "        minsum = min(minsum,currminsum)\n",
    "\n",
    "        totalsum += arr[i]\n",
    "    normalsum = maxsum\n",
    "    circularsum = totalsum - (minsum)\n",
    "\n",
    "    \n",
    "    \n",
    "    if maxsum < 0:\n",
    "        return maxsum\n",
    "\n",
    "    return max(normalsum,circularsum)\n",
    "\n",
    "if __name__ == \"__main__\":\n",
    "    arr= [0,46,44,43,26,37,8,19,-10 ,35 ,27 ,25, 11]\n",
    "    res = maxsum_circular_subarray(arr)\n",
    "    print(res)"
   ]
  },
  {
   "cell_type": "code",
   "execution_count": 15,
   "metadata": {},
   "outputs": [
    {
     "name": "stdout",
     "output_type": "stream",
     "text": [
      "311\n"
     ]
    }
   ],
   "source": [
    "def circularSubarraySum(arr):\n",
    "    ##Your code here\n",
    "    if not arr:\n",
    "        return 0\n",
    "    totalsum= 0\n",
    "    currmaxsum= 0\n",
    "    currminsum= 0\n",
    "    maxsum= arr[0]\n",
    "    minsum= arr[0]\n",
    "    for i in range(len(arr)):\n",
    "        currmaxsum= max(currmaxsum+arr[i],arr[i])\n",
    "        maxsum = max(maxsum,currmaxsum)\n",
    "        \n",
    "        currminsum = min(currminsum+arr[i],arr[i])\n",
    "        minsum = min(minsum,currminsum)\n",
    "        \n",
    "        totalsum+=arr[i]\n",
    "        \n",
    "    normalsum = maxsum\n",
    "    \n",
    "    \n",
    "    if normalsum==totalsum:\n",
    "        return normalsum\n",
    "    circularsum= totalsum-minsum\n",
    "    return max(normalsum,circularsum)\n",
    "\n",
    "\n",
    "\n",
    "if __name__ == '__main__':\n",
    "    arr= [0,46,44,43,26,37,8,19,-10 ,35 ,27 ,25, 11]\n",
    "    res = circularSubarraySum(arr)\n",
    "    print(res)\n",
    "\n",
    "\n"
   ]
  },
  {
   "cell_type": "code",
   "execution_count": null,
   "metadata": {},
   "outputs": [],
   "source": []
  }
 ],
 "metadata": {
  "kernelspec": {
   "display_name": "base",
   "language": "python",
   "name": "python3"
  },
  "language_info": {
   "codemirror_mode": {
    "name": "ipython",
    "version": 3
   },
   "file_extension": ".py",
   "mimetype": "text/x-python",
   "name": "python",
   "nbconvert_exporter": "python",
   "pygments_lexer": "ipython3",
   "version": "3.8.20"
  }
 },
 "nbformat": 4,
 "nbformat_minor": 2
}
