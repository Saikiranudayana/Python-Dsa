{
 "cells": [
  {
   "cell_type": "code",
   "execution_count": 2,
   "metadata": {},
   "outputs": [
    {
     "name": "stdout",
     "output_type": "stream",
     "text": [
      "3\n"
     ]
    }
   ],
   "source": [
    "def missingnumber(arr):\n",
    "    n= len(arr)\n",
    "    for i in range(n):\n",
    "        while 1<=arr[i]<=n and arr[i]!= arr[arr[i]-1]:\n",
    "            temp = arr[i]\n",
    "            arr[i]= arr[arr[i]-1]\n",
    "            arr[temp-1]= temp\n",
    "\n",
    "    for i in range(1,n+1):\n",
    "        if i != arr[i-1]:\n",
    "            return i\n",
    "    return n+1\n",
    "if __name__ == \"__main__\":\n",
    "    arr = [2,-3,4,1,1,7]\n",
    "    res = missingnumber(arr)\n",
    "    print(res)"
   ]
  },
  {
   "cell_type": "code",
   "execution_count": null,
   "metadata": {},
   "outputs": [],
   "source": []
  }
 ],
 "metadata": {
  "kernelspec": {
   "display_name": "base",
   "language": "python",
   "name": "python3"
  },
  "language_info": {
   "codemirror_mode": {
    "name": "ipython",
    "version": 3
   },
   "file_extension": ".py",
   "mimetype": "text/x-python",
   "name": "python",
   "nbconvert_exporter": "python",
   "pygments_lexer": "ipython3",
   "version": "3.8.20"
  }
 },
 "nbformat": 4,
 "nbformat_minor": 2
}
