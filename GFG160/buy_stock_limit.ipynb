{
 "cells": [
  {
   "cell_type": "code",
   "execution_count": 2,
   "metadata": {},
   "outputs": [
    {
     "name": "stdout",
     "output_type": "stream",
     "text": [
      "5\n"
     ]
    }
   ],
   "source": [
    "def buy_stock_limit(prices):\n",
    "    min_price = prices[0]\n",
    "    res =0\n",
    "    for i in range(1,len(prices)):\n",
    "        min_price = min(min_price,prices[i])\n",
    "        \n",
    "        res = max(res,prices[i]-min_price)\n",
    "    return res \n",
    "\n",
    "if __name__ == '__main__':\n",
    "    prices = [7,1,5,3,6,4]\n",
    "    res = buy_stock_limit(prices)\n",
    "    print(res)"
   ]
  },
  {
   "cell_type": "code",
   "execution_count": null,
   "metadata": {},
   "outputs": [],
   "source": []
  }
 ],
 "metadata": {
  "kernelspec": {
   "display_name": "base",
   "language": "python",
   "name": "python3"
  },
  "language_info": {
   "codemirror_mode": {
    "name": "ipython",
    "version": 3
   },
   "file_extension": ".py",
   "mimetype": "text/x-python",
   "name": "python",
   "nbconvert_exporter": "python",
   "pygments_lexer": "ipython3",
   "version": "3.8.20"
  }
 },
 "nbformat": 4,
 "nbformat_minor": 2
}
