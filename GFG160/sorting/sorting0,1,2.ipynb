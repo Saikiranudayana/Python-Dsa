{
 "cells": [
  {
   "cell_type": "code",
   "execution_count": 1,
   "metadata": {},
   "outputs": [
    {
     "name": "stdout",
     "output_type": "stream",
     "text": [
      "[0, 1, 1, 2, 2]\n"
     ]
    }
   ],
   "source": [
    "##inbuilt sorting funtcion\n",
    "\n",
    "\n",
    "def sorting1(arr):\n",
    "    arr.sort()\n",
    "    return arr\n",
    "\n",
    "arr= [0,1,2,1,2]\n",
    "print(sorting1(arr))"
   ]
  },
  {
   "cell_type": "code",
   "execution_count": 6,
   "metadata": {},
   "outputs": [
    {
     "name": "stdout",
     "output_type": "stream",
     "text": [
      "[0, 1, 1, 2, 2]\n"
     ]
    }
   ],
   "source": [
    "#better approch:\n",
    "def sorting(arr):\n",
    "    c0 = 0\n",
    "    c1 = 0\n",
    "    c2 = 0\n",
    "\n",
    "    for num in arr:\n",
    "        if num==0:\n",
    "            c0+= 1\n",
    "        elif num==1:\n",
    "            c1+= 1\n",
    "        else:\n",
    "            c2+= 1\n",
    "\n",
    "    idx= 0\n",
    "    for i in range(c0):\n",
    "        arr[idx] = 0\n",
    "        idx+= 1\n",
    "    for i in range(c1):\n",
    "        arr[idx] =1\n",
    "        idx+= 1\n",
    "    for i in range(c2):\n",
    "        arr[idx] = 2\n",
    "        idx+= 1\n",
    "        \n",
    "\n",
    "    return arr\n",
    "\n",
    "\n",
    "\n",
    "\n",
    "if __name__ == \"__main__\":\n",
    "    arr = [0,1,2,1,2]\n",
    "    print(sorting(arr))"
   ]
  },
  {
   "cell_type": "code",
   "execution_count": 9,
   "metadata": {},
   "outputs": [
    {
     "name": "stdout",
     "output_type": "stream",
     "text": [
      "[0, 0, 1, 1, 2, 2, 2]\n"
     ]
    }
   ],
   "source": [
    "##DNF Ducth National FLag ALgorithm\n",
    "\n",
    "def sortingDNF(arr):\n",
    "    n= len(arr)\n",
    "    low = 0\n",
    "    mid = 0\n",
    "    high = n-1\n",
    "\n",
    "    while mid<= high:\n",
    "        if arr[mid] == 0:\n",
    "            arr[low],arr[mid] = arr[mid],arr[low]\n",
    "            low+= 1\n",
    "            mid+= 1\n",
    "        elif arr[mid] == 1:\n",
    "            mid+= 1\n",
    "        else:\n",
    "            arr[mid],arr[high] = arr[high],arr[mid]\n",
    "            high -=1 \n",
    "\n",
    "    return arr\n",
    "\n",
    "\n",
    "\n",
    "if __name__ == \"__main__\":\n",
    "    arr= [0,0,1,2,2,1,2]\n",
    "    print(sortingDNF(arr))"
   ]
  },
  {
   "cell_type": "code",
   "execution_count": null,
   "metadata": {},
   "outputs": [],
   "source": []
  }
 ],
 "metadata": {
  "kernelspec": {
   "display_name": "base",
   "language": "python",
   "name": "python3"
  },
  "language_info": {
   "codemirror_mode": {
    "name": "ipython",
    "version": 3
   },
   "file_extension": ".py",
   "mimetype": "text/x-python",
   "name": "python",
   "nbconvert_exporter": "python",
   "pygments_lexer": "ipython3",
   "version": "3.8.20"
  }
 },
 "nbformat": 4,
 "nbformat_minor": 2
}
