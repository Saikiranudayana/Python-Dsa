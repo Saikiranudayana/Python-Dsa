{
 "cells": [
  {
   "cell_type": "code",
   "execution_count": null,
   "metadata": {},
   "outputs": [
    {
     "name": "stdout",
     "output_type": "stream",
     "text": [
      "3\n"
     ]
    }
   ],
   "source": [
    "## Brute force approach\n",
    "\n",
    "def hindex(citations):\n",
    "    citations.sort(reverse=True)\n",
    "    n= len(citations)\n",
    "    i = 0\n",
    "    while i<n and citations[i]> i:\n",
    "        i+= 1\n",
    "    return i\n",
    "if __name__ == \"__main__\":\n",
    "    citations = [6,0,3,5,3]\n",
    "    print(hindex(citations))"
   ]
  },
  {
   "cell_type": "code",
   "execution_count": 5,
   "metadata": {},
   "outputs": [
    {
     "name": "stdout",
     "output_type": "stream",
     "text": [
      "3\n"
     ]
    }
   ],
   "source": [
    "##optimal aaproach\n",
    "\n",
    "\n",
    "def hindex(c):\n",
    "    n= len(c)\n",
    "    freq = [0]*(n+1)\n",
    "    for citation in c:\n",
    "        if citation >=n:\n",
    "            freq[n]+=1\n",
    "        else:\n",
    "            freq[citation]+= 1\n",
    "\n",
    "    i = n\n",
    "    s= freq[n]\n",
    "    while s<i:\n",
    "        i -= 1\n",
    "        s += freq[i]\n",
    "    return i\n",
    "\n",
    "\n",
    "\n",
    "if __name__ == '__main__':\n",
    "    c= [3,0,5,3,0]\n",
    "    print(hindex(c))"
   ]
  },
  {
   "cell_type": "code",
   "execution_count": null,
   "metadata": {},
   "outputs": [],
   "source": []
  }
 ],
 "metadata": {
  "kernelspec": {
   "display_name": "base",
   "language": "python",
   "name": "python3"
  },
  "language_info": {
   "codemirror_mode": {
    "name": "ipython",
    "version": 3
   },
   "file_extension": ".py",
   "mimetype": "text/x-python",
   "name": "python",
   "nbconvert_exporter": "python",
   "pygments_lexer": "ipython3",
   "version": "3.8.20"
  }
 },
 "nbformat": 4,
 "nbformat_minor": 2
}
