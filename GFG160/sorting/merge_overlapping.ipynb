{
 "cells": [
  {
   "cell_type": "code",
   "execution_count": 2,
   "metadata": {},
   "outputs": [
    {
     "name": "stdout",
     "output_type": "stream",
     "text": [
      "[[1, 4], [6, 8], [9, 10]]\n"
     ]
    }
   ],
   "source": [
    "def mergeoverlap(arr):\n",
    "    n= len(arr)\n",
    "    arr.sort()\n",
    "    res = []\n",
    "    for i in range(n):\n",
    "        start = arr[i][0]\n",
    "        end = arr[i][1]\n",
    "        \n",
    "        if res and res[-1][1] >=end:\n",
    "            continue\n",
    "        for j in range(i+1,n):\n",
    "            if arr[j][0]<=end:\n",
    "                end = max(end,arr[j][1])\n",
    "        res.append([start,end])\n",
    "    return res\n",
    "if __name__ == \"__main__\":\n",
    "    arr = [[1, 3], [2, 4], [6, 8], [9, 10]]\n",
    "    print(mergeoverlap(arr))\n",
    "    \n",
    "   "
   ]
  },
  {
   "cell_type": "code",
   "execution_count": 3,
   "metadata": {},
   "outputs": [
    {
     "name": "stdout",
     "output_type": "stream",
     "text": [
      "[[1, 4], [6, 8], [9, 10]]\n"
     ]
    }
   ],
   "source": [
    "def mergeoverlap2(arr):\n",
    "    arr.sort()\n",
    "    res = []\n",
    "    res.append(arr[0])\n",
    "    for i in range(1,len(arr)):\n",
    "        last = res[-1]\n",
    "        curr = arr[i]\n",
    "        if curr[0]<=last[1]:\n",
    "            last[1] = max(last[1],curr[1])\n",
    "        else:\n",
    "            res.append(curr)\n",
    "    return res\n",
    "\n",
    "if __name__ == \"__main__\":\n",
    "    arr = [[1, 3], [2, 4], [6, 8], [9, 10]]\n",
    "    print(mergeoverlap2(arr))"
   ]
  },
  {
   "cell_type": "code",
   "execution_count": null,
   "metadata": {},
   "outputs": [],
   "source": []
  }
 ],
 "metadata": {
  "kernelspec": {
   "display_name": "base",
   "language": "python",
   "name": "python3"
  },
  "language_info": {
   "codemirror_mode": {
    "name": "ipython",
    "version": 3
   },
   "file_extension": ".py",
   "mimetype": "text/x-python",
   "name": "python",
   "nbconvert_exporter": "python",
   "pygments_lexer": "ipython3",
   "version": "3.8.20"
  }
 },
 "nbformat": 4,
 "nbformat_minor": 2
}
