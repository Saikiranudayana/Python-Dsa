{
 "cells": [
  {
   "cell_type": "code",
   "execution_count": 4,
   "metadata": {},
   "outputs": [
    {
     "name": "stdout",
     "output_type": "stream",
     "text": [
      "Number of inversions are 10\n"
     ]
    }
   ],
   "source": [
    "##nested loop method\n",
    "\n",
    "\n",
    "def count_inversion(arr):\n",
    "    n = len(arr)\n",
    "    invcount  = 0\n",
    "    for i in range(n-1):\n",
    "        for j in range(i+1,n):\n",
    "            if arr[i]>arr[j]:\n",
    "                invcount+= 1\n",
    "    return invcount\n",
    "\n",
    "\n",
    "\n",
    "if __name__ == \"__main__\":\n",
    "    arr = [5, 4, 3, 2, 1]\n",
    "    print(\"Number of inversions are\", count_inversion(arr))"
   ]
  },
  {
   "cell_type": "code",
   "execution_count": 14,
   "metadata": {},
   "outputs": [
    {
     "name": "stdout",
     "output_type": "stream",
     "text": [
      "10\n"
     ]
    }
   ],
   "source": [
    "##merge sort aspproach\n",
    "\n",
    "\n",
    "def countinv(arr,l,r):\n",
    "    res = 0\n",
    "    if l<r:\n",
    "        m = (l+r)//2\n",
    "        \n",
    "        res += countinv(arr,l,m)\n",
    "        res += countinv(arr, m + 1, r)\n",
    "        \n",
    "        res += countandmerge(arr,l,m,r) \n",
    "        \n",
    "    return res\n",
    "\n",
    "\n",
    "def countandmerge(arr,l,m,r):\n",
    "    n1 = m-l+1 \n",
    "    n2 = r-m\n",
    "    left = arr[l:m+1]\n",
    "    right = arr[m+1:r+1]\n",
    "    res =0\n",
    "    i =0 \n",
    "    j =0\n",
    "    k= l\n",
    "    while i <n1 and j<n2:\n",
    "        if left[i]<= right[j]:\n",
    "            arr[k] = left[i]\n",
    "            i+=1 \n",
    "        else:\n",
    "            arr[k] = right[j]\n",
    "            j+=1\n",
    "            res += (n1-i)\n",
    "        k+=1\n",
    "    while i<n1:\n",
    "        arr[k] = left[i]\n",
    "        i+= 1\n",
    "        k+=1 \n",
    "    while j<n2:\n",
    "        arr[k] = right[j]\n",
    "        j += 1\n",
    "        k += 1\n",
    "    return res\n",
    "\n",
    "def inversion_count(arr):\n",
    "    n = len(arr) - 1\n",
    "    return countinv(arr,0,n)\n",
    "\n",
    "if __name__ == \"__main__\":\n",
    "    arr= [5,4,3,2,1]\n",
    "    print(inversion_count(arr))"
   ]
  },
  {
   "cell_type": "code",
   "execution_count": null,
   "metadata": {},
   "outputs": [],
   "source": []
  }
 ],
 "metadata": {
  "kernelspec": {
   "display_name": "base",
   "language": "python",
   "name": "python3"
  },
  "language_info": {
   "codemirror_mode": {
    "name": "ipython",
    "version": 3
   },
   "file_extension": ".py",
   "mimetype": "text/x-python",
   "name": "python",
   "nbconvert_exporter": "python",
   "pygments_lexer": "ipython3",
   "version": "3.8.20"
  }
 },
 "nbformat": 4,
 "nbformat_minor": 2
}
