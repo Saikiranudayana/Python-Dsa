{
 "cells": [
  {
   "cell_type": "code",
   "execution_count": 7,
   "id": "73d9f663",
   "metadata": {},
   "outputs": [
    {
     "name": "stdout",
     "output_type": "stream",
     "text": [
      "[1, 2, 3, 4, 6, 5]\n"
     ]
    }
   ],
   "source": [
    "def reverse(arr,left,right):\n",
    "    \n",
    "    while left<right:\n",
    "        arr[left],arr[right]=arr[right],arr[left]\n",
    "        left+=1\n",
    "        right -=1\n",
    "    return arr\n",
    "def reverseArray(arr, m):\n",
    "    # Write your code here\n",
    "    n= len(arr)-1\n",
    "\n",
    "\n",
    "    return reverse(arr,m+1,n)\n",
    "\n",
    "arr= [1,2,3,4,5,6]\n",
    "m= 3\n",
    "ans  =reverseArray(arr,m)\n",
    "print(ans)\n",
    "    \n"
   ]
  },
  {
   "cell_type": "code",
   "execution_count": 11,
   "id": "4fe1a739",
   "metadata": {},
   "outputs": [
    {
     "name": "stdout",
     "output_type": "stream",
     "text": [
      "[4, 5, 1, 2, 3]\n"
     ]
    }
   ],
   "source": [
    "def roatatearray(arr,k):\n",
    "    res = arr[k:]+arr[:k]\n",
    "    return res \n",
    "\n",
    "arr= [1,2,3,4,5]\n",
    "k= 3\n",
    "ans= roatatearray(arr,k)\n",
    "print(ans)"
   ]
  },
  {
   "cell_type": "code",
   "execution_count": null,
   "id": "a7ceb000",
   "metadata": {},
   "outputs": [
    {
     "ename": "TypeError",
     "evalue": "'str' object does not support item assignment",
     "output_type": "error",
     "traceback": [
      "\u001b[1;31m---------------------------------------------------------------------------\u001b[0m",
      "\u001b[1;31mTypeError\u001b[0m                                 Traceback (most recent call last)",
      "Cell \u001b[1;32mIn[14], line 12\u001b[0m\n\u001b[0;32m     10\u001b[0m     \u001b[38;5;28;01mreturn\u001b[39;00m s\n\u001b[0;32m     11\u001b[0m stri \u001b[38;5;241m=\u001b[39m \u001b[38;5;124m'\u001b[39m\u001b[38;5;124mhello\u001b[39m\u001b[38;5;124m'\u001b[39m\n\u001b[1;32m---> 12\u001b[0m ans \u001b[38;5;241m=\u001b[39m \u001b[43mstringReverse\u001b[49m\u001b[43m(\u001b[49m\u001b[43mstri\u001b[49m\u001b[43m)\u001b[49m\n\u001b[0;32m     13\u001b[0m \u001b[38;5;28mprint\u001b[39m(ans)\n",
      "Cell \u001b[1;32mIn[14], line 7\u001b[0m, in \u001b[0;36mstringReverse\u001b[1;34m(S)\u001b[0m\n\u001b[0;32m      5\u001b[0m right \u001b[38;5;241m=\u001b[39m \u001b[38;5;28mlen\u001b[39m(s)\u001b[38;5;241m-\u001b[39m\u001b[38;5;241m1\u001b[39m\n\u001b[0;32m      6\u001b[0m \u001b[38;5;28;01mwhile\u001b[39;00m left\u001b[38;5;241m<\u001b[39mright:\n\u001b[1;32m----> 7\u001b[0m     s[left],s[right]\u001b[38;5;241m=\u001b[39ms[right],s[left]\n\u001b[0;32m      8\u001b[0m     left\u001b[38;5;241m+\u001b[39m\u001b[38;5;241m=\u001b[39m\u001b[38;5;241m1\u001b[39m\n\u001b[0;32m      9\u001b[0m     right \u001b[38;5;241m-\u001b[39m\u001b[38;5;241m=\u001b[39m\u001b[38;5;241m1\u001b[39m\n",
      "\u001b[1;31mTypeError\u001b[0m: 'str' object does not support item assignment"
     ]
    }
   ],
   "source": [
    "\n",
    "def stringReverse(S: str)-> str:\n",
    "    # Write your Code here\n",
    "    s= S\n",
    "    left = 0\n",
    "    right = len(s)-1\n",
    "    while left<right:\n",
    "        s[left],s[right]=s[right],s[left]\n",
    "        left+=1\n",
    "        right -=1\n",
    "    return s\n",
    "stri = 'hello'\n",
    "ans = stringReverse(stri)\n",
    "print(ans)\n"
   ]
  },
  {
   "cell_type": "code",
   "execution_count": null,
   "id": "c38255ad",
   "metadata": {},
   "outputs": [],
   "source": []
  }
 ],
 "metadata": {
  "kernelspec": {
   "display_name": "base",
   "language": "python",
   "name": "python3"
  },
  "language_info": {
   "codemirror_mode": {
    "name": "ipython",
    "version": 3
   },
   "file_extension": ".py",
   "mimetype": "text/x-python",
   "name": "python",
   "nbconvert_exporter": "python",
   "pygments_lexer": "ipython3",
   "version": "3.8.20"
  }
 },
 "nbformat": 4,
 "nbformat_minor": 5
}
