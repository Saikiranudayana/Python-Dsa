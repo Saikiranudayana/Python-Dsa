{
 "cells": [
  {
   "cell_type": "code",
   "execution_count": null,
   "id": "c3b7bf1a",
   "metadata": {},
   "outputs": [
    {
     "name": "stdout",
     "output_type": "stream",
     "text": [
      "10 20 30 "
     ]
    }
   ],
   "source": [
    "##Couble linked list\n",
    "\n",
    "class Node():\n",
    "    def __init__(self,k):\n",
    "        self.val = k\n",
    "        self.prev= None\n",
    "        self.next= None\n",
    "        \n",
    "        \n",
    "def printll(head):\n",
    "    curr= head\n",
    "    while curr != None:\n",
    "        print(curr.val,end= \" \")\n",
    "        curr= curr.next\n",
    "        \n",
    "def insert_beg(head,data):\n",
    "    temp = Node(data)\n",
    "    if head==None:\n",
    "        return temp\n",
    "    \n",
    "    curr= head\n",
    "    while curr.prev != None:\n",
    "        curr= curr.prev\n",
    "        \n",
    "    curr.prev= temp\n",
    "    temp.next= curr\n",
    "    return temp\n",
    "head= Node(10)\n",
    "\n",
    "temp1= Node(20)\n",
    "temp2 = Node(30)\n",
    "\n",
    "head.next= temp1\n",
    "temp1.prev= head\n",
    "temp1.next= temp2\n",
    "\n",
    "temp2.prev= temp1\n",
    "\n",
    "\n",
    "printll(head)"
   ]
  },
  {
   "cell_type": "code",
   "execution_count": null,
   "id": "1e334672",
   "metadata": {},
   "outputs": [],
   "source": []
  }
 ],
 "metadata": {
  "kernelspec": {
   "display_name": "base",
   "language": "python",
   "name": "python3"
  },
  "language_info": {
   "codemirror_mode": {
    "name": "ipython",
    "version": 3
   },
   "file_extension": ".py",
   "mimetype": "text/x-python",
   "name": "python",
   "nbconvert_exporter": "python",
   "pygments_lexer": "ipython3",
   "version": "3.8.20"
  }
 },
 "nbformat": 4,
 "nbformat_minor": 5
}
