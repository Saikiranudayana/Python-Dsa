{
 "cells": [
  {
   "cell_type": "code",
   "execution_count": null,
   "id": "3475f93a",
   "metadata": {},
   "outputs": [
    {
     "name": "stdout",
     "output_type": "stream",
     "text": [
      "1\n"
     ]
    }
   ],
   "source": [
    "##this is a program for a fibonaci of number using the dynamic programming\n",
    "\n",
    "## memoization\n",
    "\n",
    "memo = [None]*100\n",
    "def fibonnaci(n):\n",
    "    if memo[n] != None:\n",
    "        return memo[n]\n",
    "    if n==0 or n==1:\n",
    "        memo[n]= n\n",
    "    \n",
    "    else:\n",
    "        memo[n]= fibonnaci(n-1)+fibonnaci(n-2)\n",
    "        \n",
    "    return memo[n] \n",
    "\n",
    "\n",
    "\n",
    "ans = fibonnaci()\n",
    "print(ans)\n"
   ]
  },
  {
   "cell_type": "code",
   "execution_count": null,
   "id": "5cc0b78b",
   "metadata": {},
   "outputs": [],
   "source": []
  },
  {
   "cell_type": "code",
   "execution_count": null,
   "id": "b275c7ab",
   "metadata": {},
   "outputs": [],
   "source": []
  }
 ],
 "metadata": {
  "kernelspec": {
   "display_name": "base",
   "language": "python",
   "name": "python3"
  },
  "language_info": {
   "codemirror_mode": {
    "name": "ipython",
    "version": 3
   },
   "file_extension": ".py",
   "mimetype": "text/x-python",
   "name": "python",
   "nbconvert_exporter": "python",
   "pygments_lexer": "ipython3",
   "version": "3.8.20"
  }
 },
 "nbformat": 4,
 "nbformat_minor": 5
}
