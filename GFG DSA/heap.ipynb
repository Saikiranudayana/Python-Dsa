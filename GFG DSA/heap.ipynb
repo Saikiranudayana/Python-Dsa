{
 "cells": [
  {
   "cell_type": "code",
   "execution_count": null,
   "id": "9de7ff61",
   "metadata": {},
   "outputs": [],
   "source": [
    "class MyMinheap:\n",
    "    def __init__(self):\n",
    "        self.arr=[]\n",
    "    def parent(self,i):\n",
    "        return (i-1)//2\n",
    "    def lchild(self,i):\n",
    "        return (i*2+1)\n",
    "    def rchild(self,i):\n",
    "        return (i*2+2)\n",
    "    def insert(self,x):\n",
    "        \n",
    "    "
   ]
  },
  {
   "cell_type": "code",
   "execution_count": null,
   "id": "3954aa69",
   "metadata": {},
   "outputs": [],
   "source": []
  }
 ],
 "metadata": {
  "kernelspec": {
   "display_name": "base",
   "language": "python",
   "name": "python3"
  },
  "language_info": {
   "name": "python",
   "version": "3.8.20"
  }
 },
 "nbformat": 4,
 "nbformat_minor": 5
}
