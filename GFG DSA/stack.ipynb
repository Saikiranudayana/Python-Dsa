{
 "cells": [
  {
   "cell_type": "code",
   "execution_count": 4,
   "id": "dee5aff3",
   "metadata": {},
   "outputs": [
    {
     "name": "stdout",
     "output_type": "stream",
     "text": [
      "10\n"
     ]
    }
   ],
   "source": [
    "stack = []\n",
    "\n",
    "stack.append(10)\n",
    "top = stack[-1]\n",
    "print(top)"
   ]
  },
  {
   "cell_type": "code",
   "execution_count": null,
   "id": "d3ed746c",
   "metadata": {},
   "outputs": [],
   "source": [
    "from collections import deque\n",
    "## second approach\n"
   ]
  },
  {
   "cell_type": "code",
   "execution_count": null,
   "id": "6c76b9e9",
   "metadata": {},
   "outputs": [],
   "source": [
    "## stack using linked list\n",
    "\n",
    "import math\n",
    "class Node:\n",
    "    def __init__(self,k):\n",
    "        self.data= k\n",
    "        self.next= None\n",
    "        \n",
    "class MyStack:\n",
    "    def __init__(self):\n",
    "        self.head= None\n",
    "        self.sz= 0\n",
    "        \n",
    "    def push(self,x):\n",
    "        temp = Node(x)\n",
    "        temp.next= self.head\n",
    "        self.head = temp\n",
    "        self.sz = self.sz+1\n",
    "        \n",
    "    def size(self):\n",
    "        return self.sz\n",
    "    \n",
    "    def peek(self):\n",
    "        if self.head== None:\n",
    "            return math.inf\n",
    "        return self.head.data\n",
    "    \n",
    "    def pop(self):\n",
    "        res= self.head.data\n",
    "        if self.head==None:\n",
    "            return math.inf\n",
    "        \n",
    "        self.head= self.head.next\n",
    "        self.sz = self.sz-1\n",
    "        return res\n",
    "        \n",
    "        \n",
    "        "
   ]
  },
  {
   "cell_type": "code",
   "execution_count": null,
   "id": "52adb502",
   "metadata": {},
   "outputs": [],
   "source": []
  }
 ],
 "metadata": {
  "kernelspec": {
   "display_name": "base",
   "language": "python",
   "name": "python3"
  },
  "language_info": {
   "codemirror_mode": {
    "name": "ipython",
    "version": 3
   },
   "file_extension": ".py",
   "mimetype": "text/x-python",
   "name": "python",
   "nbconvert_exporter": "python",
   "pygments_lexer": "ipython3",
   "version": "3.8.20"
  }
 },
 "nbformat": 4,
 "nbformat_minor": 5
}
