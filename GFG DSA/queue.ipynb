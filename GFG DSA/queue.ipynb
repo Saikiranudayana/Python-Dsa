{
 "cells": [
  {
   "cell_type": "code",
   "execution_count": null,
   "id": "188bf214",
   "metadata": {},
   "outputs": [],
   "source": [
    "## queue follows first in first out \n",
    "\n",
    "## ther first eleemnt is know as front and the last eleement is knownas rear elejment\n",
    "\n"
   ]
  },
  {
   "cell_type": "code",
   "execution_count": 2,
   "id": "02ace544",
   "metadata": {},
   "outputs": [
    {
     "name": "stdout",
     "output_type": "stream",
     "text": [
      "[10, 20, 30]\n",
      "[10, 20]\n"
     ]
    }
   ],
   "source": [
    "## quee using list\n",
    "\n",
    "\n",
    "q= []\n",
    "\n",
    "q.append(10)\n",
    "\n",
    "q.append(20)\n",
    "q.append(30)\n",
    "\n",
    "print(q)\n",
    "\n",
    "q.pop()\n",
    "\n",
    "print(q)"
   ]
  },
  {
   "cell_type": "code",
   "execution_count": null,
   "id": "1886f98a",
   "metadata": {},
   "outputs": [
    {
     "name": "stdout",
     "output_type": "stream",
     "text": [
      "deque([10, 20, 30])\n",
      "deque([20, 30])\n"
     ]
    }
   ],
   "source": [
    "## usning deque\n",
    "\n",
    "\n",
    "from collections import deque\n",
    "\n",
    "q= deque()\n",
    "\n",
    "q.append(10)\n",
    "\n",
    "q.append(20)\n",
    "q.append(30)\n",
    "\n",
    "print(q)\n",
    "\n",
    "q.popleft()\n",
    "\n",
    "print(q)"
   ]
  },
  {
   "cell_type": "code",
   "execution_count": null,
   "id": "168a204b",
   "metadata": {},
   "outputs": [],
   "source": [
    "##Linked list implementation of th quee\n",
    "\n",
    "\n",
    "class Node:\n",
    "    def __init__(self,k):\n",
    "        self.key =k\n",
    "        self.next= None \n",
    "class MyQueue:\n",
    "    def __init__(self,k):\n",
    "        self.front= None\n",
    "        self.rear= None\n",
    "        self.sz = 0\n",
    "        \n",
    "    def size(self):\n",
    "        return self.sz\n",
    "    def is_empty(self):\n",
    "        return self.sz==0\n",
    "    def getfront(self):\n",
    "        return self.front.key\n",
    "    \n",
    "    def getrear(self):\n",
    "        return self.rear.key\n",
    "    \n",
    "    def enque(self,k):\n",
    "        temp = Node(k)\n",
    "        if self.rear==None:\n",
    "            self.front= temp\n",
    "        else:\n",
    "            self.rear.next= temp\n",
    "        self.rear= temp\n",
    "        self.sz+=1\n",
    "    def deque(self,k):\n",
    "        if self.front==None:\n",
    "            return None\n",
    "        else:\n",
    "            res = self.front.key\n",
    "            self.front = self.front.next\n",
    "            if self.front==None:\n",
    "                self.rear = None\n",
    "            self.sz-=1\n",
    "            return res\n",
    "        \n",
    "        \n",
    "    \n",
    "\n",
    "q= MyQueue()"
   ]
  }
 ],
 "metadata": {
  "kernelspec": {
   "display_name": "base",
   "language": "python",
   "name": "python3"
  },
  "language_info": {
   "codemirror_mode": {
    "name": "ipython",
    "version": 3
   },
   "file_extension": ".py",
   "mimetype": "text/x-python",
   "name": "python",
   "nbconvert_exporter": "python",
   "pygments_lexer": "ipython3",
   "version": "3.8.20"
  }
 },
 "nbformat": 4,
 "nbformat_minor": 5
}
