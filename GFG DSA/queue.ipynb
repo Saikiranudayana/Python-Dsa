{
 "cells": [
  {
   "cell_type": "code",
   "execution_count": null,
   "id": "188bf214",
   "metadata": {},
   "outputs": [],
   "source": [
    "## queue follows first in first out \n",
    "\n",
    "## ther first eleemnt is know as front and the last eleement is knownas rear elejment\n",
    "\n"
   ]
  },
  {
   "cell_type": "code",
   "execution_count": 2,
   "id": "02ace544",
   "metadata": {},
   "outputs": [
    {
     "name": "stdout",
     "output_type": "stream",
     "text": [
      "[10, 20, 30]\n",
      "[10, 20]\n"
     ]
    }
   ],
   "source": [
    "## quee using list\n",
    "\n",
    "\n",
    "q= []\n",
    "\n",
    "q.append(10)\n",
    "\n",
    "q.append(20)\n",
    "q.append(30)\n",
    "\n",
    "print(q)\n",
    "\n",
    "q.pop()\n",
    "\n",
    "print(q)"
   ]
  },
  {
   "cell_type": "code",
   "execution_count": null,
   "id": "1886f98a",
   "metadata": {},
   "outputs": [
    {
     "name": "stdout",
     "output_type": "stream",
     "text": [
      "deque([10, 20, 30])\n",
      "deque([20, 30])\n"
     ]
    }
   ],
   "source": [
    "## usning deque\n",
    "\n",
    "\n",
    "from collections import deque\n",
    "\n",
    "q= deque()\n",
    "\n",
    "q.append(10)\n",
    "\n",
    "q.append(20)\n",
    "q.append(30)\n",
    "\n",
    "print(q)\n",
    "\n",
    "q.popleft()\n",
    "\n",
    "print(q)"
   ]
  },
  {
   "cell_type": "code",
   "execution_count": null,
   "id": "168a204b",
   "metadata": {},
   "outputs": [],
   "source": []
  }
 ],
 "metadata": {
  "kernelspec": {
   "display_name": "base",
   "language": "python",
   "name": "python3"
  },
  "language_info": {
   "codemirror_mode": {
    "name": "ipython",
    "version": 3
   },
   "file_extension": ".py",
   "mimetype": "text/x-python",
   "name": "python",
   "nbconvert_exporter": "python",
   "pygments_lexer": "ipython3",
   "version": "3.8.20"
  }
 },
 "nbformat": 4,
 "nbformat_minor": 5
}
