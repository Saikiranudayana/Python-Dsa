{
 "cells": [
  {
   "cell_type": "code",
   "execution_count": null,
   "id": "824f39eb",
   "metadata": {},
   "outputs": [
    {
     "name": "stdout",
     "output_type": "stream",
     "text": [
      "deque([80, 10, 20, 30])\n",
      "deque([80, 10, 20])\n",
      "deque([10, 20])\n"
     ]
    }
   ],
   "source": [
    "from collections import deque\n",
    "\n",
    "d= deque()\n",
    "\n",
    "d.append(10)\n",
    "d.append(20)\n",
    "d.append(30)\n",
    "d.appendleft(80)\n",
    "print(d)\n",
    "d.pop()\n",
    "print(d)\n",
    "d.popleft()\n",
    "print(d)\n",
    "d.append(10)\n",
    "d.remove()"
   ]
  },
  {
   "cell_type": "code",
   "execution_count": null,
   "id": "e8067026",
   "metadata": {},
   "outputs": [],
   "source": []
  }
 ],
 "metadata": {
  "kernelspec": {
   "display_name": "base",
   "language": "python",
   "name": "python3"
  },
  "language_info": {
   "codemirror_mode": {
    "name": "ipython",
    "version": 3
   },
   "file_extension": ".py",
   "mimetype": "text/x-python",
   "name": "python",
   "nbconvert_exporter": "python",
   "pygments_lexer": "ipython3",
   "version": "3.8.20"
  }
 },
 "nbformat": 4,
 "nbformat_minor": 5
}
