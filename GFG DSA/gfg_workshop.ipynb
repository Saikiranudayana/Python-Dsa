{
 "cells": [
  {
   "cell_type": "code",
   "execution_count": 28,
   "id": "a37bc33a",
   "metadata": {},
   "outputs": [
    {
     "name": "stdout",
     "output_type": "stream",
     "text": [
      "[0, 0, 0, 0, 1, 1]\n",
      "[0, 0, 0, 1, 1, 1]\n"
     ]
    }
   ],
   "source": [
    "def sort_arr(arr):\n",
    "    left = 0\n",
    "    right = len(arr)-1\n",
    "    while left<right:\n",
    "        if arr[left]==0:\n",
    "            left+=1\n",
    "        if arr[right]==1:\n",
    "            right-=1\n",
    "        elif arr[left]==1 and arr[right]==0:\n",
    "            arr[left],arr[right]=arr[right],arr[left]      \n",
    "    return arr\n",
    "\n",
    "arr1= [1,1,1,0,0,0]\n",
    "ar2= [0,1,0,1,0,0]\n",
    "ans = sort_arr(arr1)\n",
    "ans2= sort_arr(ar2)\n",
    "print(ans2)\n",
    "print(ans)"
   ]
  },
  {
   "cell_type": "code",
   "execution_count": null,
   "id": "9d5f1525",
   "metadata": {},
   "outputs": [],
   "source": [
    "def sort_0_1_2(arr):\n",
    "    left= 0\n",
    "    mid= 0\n",
    "    right= len(arr)-1\n",
    "    while left<right:\n",
    "        mid=(left+right)//2\n",
    "        if arr[mid]==1 :\n",
    "            \n",
    "\n",
    "if __name__==\"__main__\":\n",
    "    arr1= [0,2,1,2,1,0,0]\n",
    "    8"
   ]
  }
 ],
 "metadata": {
  "kernelspec": {
   "display_name": "base",
   "language": "python",
   "name": "python3"
  },
  "language_info": {
   "codemirror_mode": {
    "name": "ipython",
    "version": 3
   },
   "file_extension": ".py",
   "mimetype": "text/x-python",
   "name": "python",
   "nbconvert_exporter": "python",
   "pygments_lexer": "ipython3",
   "version": "3.8.20"
  }
 },
 "nbformat": 4,
 "nbformat_minor": 5
}
