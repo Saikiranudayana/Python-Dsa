{
 "cells": [
  {
   "cell_type": "code",
   "execution_count": 1,
   "id": "7f740139",
   "metadata": {},
   "outputs": [
    {
     "name": "stdout",
     "output_type": "stream",
     "text": [
      "Adjacency list of vertex 0\n",
      " head -> 4 -> 1 \n",
      "\n",
      "Adjacency list of vertex 1\n",
      " head -> 4 -> 3 -> 2 -> 0 \n",
      "\n",
      "Adjacency list of vertex 2\n",
      " head -> 3 -> 1 \n",
      "\n",
      "Adjacency list of vertex 3\n",
      " head -> 4 -> 2 -> 1 \n",
      "\n",
      "Adjacency list of vertex 4\n",
      " head -> 3 -> 1 -> 0 \n",
      "\n"
     ]
    }
   ],
   "source": [
    "\"\"\"\n",
    "A Python program to demonstrate the adjacency\n",
    "list representation of the graph\n",
    "\"\"\"\n",
    "\n",
    "\n",
    "\n",
    "class AdjNode:\n",
    "\tdef __init__(self, data):\n",
    "\t\tself.vertex = data\n",
    "\t\tself.next = None\n",
    "\n",
    "\n",
    "class Graph:\n",
    "\tdef __init__(self, vertices):\n",
    "\t\tself.V = vertices\n",
    "\t\tself.graph = [None] * self.V\n",
    "\n",
    "\tdef add_edge(self, src, dest):\n",
    "\t\tnode = AdjNode(dest)\n",
    "\t\tnode.next = self.graph[src]\n",
    "\t\tself.graph[src] = node\n",
    "\n",
    "\t\tnode = AdjNode(src)\n",
    "\t\tnode.next = self.graph[dest]\n",
    "\t\tself.graph[dest] = node\n",
    "\n",
    "\tdef print_graph(self):\n",
    "\t\tfor i in range(self.V):\n",
    "\t\t\tprint(\"Adjacency list of vertex {}\\n head\".format(i), end=\"\")\n",
    "\t\t\ttemp = self.graph[i]\n",
    "\t\t\twhile temp:\n",
    "\t\t\t\tprint(\" -> {}\".format(temp.vertex), end=\"\")\n",
    "\t\t\t\ttemp = temp.next\n",
    "\t\t\tprint(\" \\n\")\n",
    "\n",
    "\n",
    "# Driver program to the above graph class\n",
    "if __name__ == \"__main__\":\n",
    "\tV = 5\n",
    "\tgraph = Graph(V)\n",
    "\tgraph.add_edge(0, 1)\n",
    "\tgraph.add_edge(0, 4)\n",
    "\tgraph.add_edge(1, 2)\n",
    "\tgraph.add_edge(1, 3)\n",
    "\tgraph.add_edge(1, 4)\n",
    "\tgraph.add_edge(2, 3)\n",
    "\tgraph.add_edge(3, 4)\n",
    "\n",
    "\tgraph.print_graph()\n"
   ]
  },
  {
   "cell_type": "code",
   "execution_count": null,
   "id": "35e1cec2",
   "metadata": {},
   "outputs": [],
   "source": [
    "def addedges(adj,u ,v):\n",
    "    adj[u].append(v)\n",
    "    adj[v].append(u)\n",
    "    \n",
    "def printgraph(adj):\n",
    "    for l in adj:\n",
    "        print(l)"
   ]
  },
  {
   "cell_type": "code",
   "execution_count": null,
   "id": "97b065d9",
   "metadata": {},
   "outputs": [],
   "source": []
  }
 ],
 "metadata": {
  "kernelspec": {
   "display_name": "base",
   "language": "python",
   "name": "python3"
  },
  "language_info": {
   "codemirror_mode": {
    "name": "ipython",
    "version": 3
   },
   "file_extension": ".py",
   "mimetype": "text/x-python",
   "name": "python",
   "nbconvert_exporter": "python",
   "pygments_lexer": "ipython3",
   "version": "3.8.20"
  }
 },
 "nbformat": 4,
 "nbformat_minor": 5
}
