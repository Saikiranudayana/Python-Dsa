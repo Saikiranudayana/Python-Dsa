{
 "cells": [
  {
   "cell_type": "code",
   "execution_count": 2,
   "id": "115d0a0f",
   "metadata": {},
   "outputs": [
    {
     "name": "stdout",
     "output_type": "stream",
     "text": [
      "2\n"
     ]
    }
   ],
   "source": [
    "class Node:\n",
    "    def __init__(self,k):\n",
    "        self.val = k\n",
    "        self.next= None\n",
    "        \n",
    "        \n",
    "        \n",
    "head = Node(2)\n",
    "head.next= Node(5)\n",
    "head.next.next= Node(7)\n",
    "head.next.next.next= Node(8)\n",
    "head.next.next.next.next= Node(10)\n",
    "head.next.next.next.next.next = head\n",
    "\n",
    "\n",
    "print(head.next.next.next.next.next.val)\n"
   ]
  },
  {
   "cell_type": "code",
   "execution_count": null,
   "id": "71ef3ab2",
   "metadata": {},
   "outputs": [],
   "source": []
  }
 ],
 "metadata": {
  "kernelspec": {
   "display_name": "base",
   "language": "python",
   "name": "python3"
  },
  "language_info": {
   "codemirror_mode": {
    "name": "ipython",
    "version": 3
   },
   "file_extension": ".py",
   "mimetype": "text/x-python",
   "name": "python",
   "nbconvert_exporter": "python",
   "pygments_lexer": "ipython3",
   "version": "3.8.20"
  }
 },
 "nbformat": 4,
 "nbformat_minor": 5
}
