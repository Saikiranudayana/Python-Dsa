{
 "cells": [
  {
   "cell_type": "code",
   "execution_count": null,
   "id": "3bf26ce6",
   "metadata": {},
   "outputs": [
    {
     "ename": "TypeError",
     "evalue": "'list' object is not callable",
     "output_type": "error",
     "traceback": [
      "\u001b[1;31m---------------------------------------------------------------------------\u001b[0m",
      "\u001b[1;31mTypeError\u001b[0m                                 Traceback (most recent call last)",
      "Cell \u001b[1;32mIn[5], line 15\u001b[0m\n\u001b[0;32m     13\u001b[0m     \u001b[38;5;28;01mreturn\u001b[39;00m \u001b[38;5;28mmax\u001b[39m \n\u001b[0;32m     14\u001b[0m lst \u001b[38;5;241m=\u001b[39m[\u001b[38;5;241m10\u001b[39m,\u001b[38;5;241m5\u001b[39m,\u001b[38;5;241m-\u001b[39m\u001b[38;5;241m5\u001b[39m]\n\u001b[1;32m---> 15\u001b[0m \u001b[43mmaximum_sum_cir\u001b[49m\u001b[43m(\u001b[49m\u001b[43marr\u001b[49m\u001b[43m)\u001b[49m\n",
      "Cell \u001b[1;32mIn[5], line 9\u001b[0m, in \u001b[0;36mmaximum_sum_cir\u001b[1;34m(arr)\u001b[0m\n\u001b[0;32m      7\u001b[0m \u001b[38;5;28;01mfor\u001b[39;00m j \u001b[38;5;129;01min\u001b[39;00m \u001b[38;5;28mrange\u001b[39m(i ,n):\n\u001b[0;32m      8\u001b[0m     index\u001b[38;5;241m=\u001b[39m (i\u001b[38;5;241m+\u001b[39mj)\u001b[38;5;241m%\u001b[39mn\n\u001b[1;32m----> 9\u001b[0m     curr_sum\u001b[38;5;241m=\u001b[39m \u001b[43marr\u001b[49m\u001b[43m(\u001b[49m\u001b[43mindex\u001b[49m\u001b[43m)\u001b[49m\n\u001b[0;32m     10\u001b[0m     curr_max\u001b[38;5;241m=\u001b[39m  \u001b[38;5;28mmax\u001b[39m(curr_max,curr_sum)\n\u001b[0;32m     12\u001b[0m res\u001b[38;5;241m=\u001b[39m \u001b[38;5;28mmax\u001b[39m(res,curr_max)\n",
      "\u001b[1;31mTypeError\u001b[0m: 'list' object is not callable"
     ]
    }
   ],
   "source": [
    "def maximum_sum_cir(arr):\n",
    "    res= arr[0]\n",
    "    n= len(arr)\n",
    "    for i in range(0,n):\n",
    "        curr_max= arr[i]\n",
    "        curr_sum = arr[i]\n",
    "        for j in range(i ,n):\n",
    "            index= (i+j)%n\n",
    "            curr_sum= arr(index)\n",
    "            curr_max=  max(curr_max,curr_sum)\n",
    "            \n",
    "        res= max(res,curr_max)\n",
    "    return max \n",
    "\n",
    "\n",
    "lst =[10,5,-5]\n",
    "maximum_sum_cir(arr)\n"
   ]
  },
  {
   "cell_type": "code",
   "execution_count": null,
   "id": "2229de37",
   "metadata": {},
   "outputs": [],
   "source": [
    "## sliding window theniquee\n",
    "\n",
    "\n",
    "\n",
    "\n",
    "\n",
    "\n"
   ]
  }
 ],
 "metadata": {
  "kernelspec": {
   "display_name": "base",
   "language": "python",
   "name": "python3"
  },
  "language_info": {
   "codemirror_mode": {
    "name": "ipython",
    "version": 3
   },
   "file_extension": ".py",
   "mimetype": "text/x-python",
   "name": "python",
   "nbconvert_exporter": "python",
   "pygments_lexer": "ipython3",
   "version": "3.8.20"
  }
 },
 "nbformat": 4,
 "nbformat_minor": 5
}
