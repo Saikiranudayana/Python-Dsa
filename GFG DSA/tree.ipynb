{
 "cells": [
  {
   "cell_type": "code",
   "execution_count": null,
   "id": "0d794e83",
   "metadata": {},
   "outputs": [
    {
     "name": "stdout",
     "output_type": "stream",
     "text": [
      "10\n",
      "20\n",
      "30\n"
     ]
    }
   ],
   "source": [
    "## Binary tree in python \n",
    "\n",
    "\n",
    "class Node:\n",
    "    def __init__(self,k):\n",
    "        self.left= None\n",
    "        self.right = None\n",
    "        self.key = k\n",
    "        \n",
    "root = Node(10)\n",
    "\n",
    "left= Node(20)\n",
    "right = Node(30)\n",
    "\n",
    "root.left = left\n",
    "root.right = right\n",
    "print(root.key)\n",
    "print(root.left.key)\n",
    "print(root.right.key)"
   ]
  },
  {
   "cell_type": "code",
   "execution_count": null,
   "id": "435fda5a",
   "metadata": {},
   "outputs": [],
   "source": [
    "## Tree traversl problems\n",
    "\n"
   ]
  },
  {
   "cell_type": "code",
   "execution_count": null,
   "id": "c224e3e5",
   "metadata": {},
   "outputs": [],
   "source": []
  },
  {
   "cell_type": "code",
   "execution_count": null,
   "metadata": {},
   "outputs": [],
   "source": []
  }
 ],
 "metadata": {
  "kernelspec": {
   "display_name": "base",
   "language": "python",
   "name": "python3"
  },
  "language_info": {
   "codemirror_mode": {
    "name": "ipython",
    "version": 3
   },
   "file_extension": ".py",
   "mimetype": "text/x-python",
   "name": "python",
   "nbconvert_exporter": "python",
   "pygments_lexer": "ipython3",
   "version": "3.8.20"
  }
 },
 "nbformat": 4,
 "nbformat_minor": 5
}
