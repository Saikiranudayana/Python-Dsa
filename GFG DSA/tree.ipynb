{
 "cells": [
  {
   "cell_type": "code",
   "execution_count": null,
   "id": "0d794e83",
   "metadata": {},
   "outputs": [],
   "source": [
    "## Binary tree in python \n",
    "\n",
    "\n",
    "class Node:\n",
    "    def __init__(self,k):\n",
    "        self.left= None\n",
    "        self.right = None\n",
    "        self.key = k\n",
    "        \n",
    "        "
   ]
  },
  {
   "cell_type": "code",
   "execution_count": null,
   "id": "435fda5a",
   "metadata": {},
   "outputs": [],
   "source": []
  }
 ],
 "metadata": {
  "kernelspec": {
   "display_name": "base",
   "language": "python",
   "name": "python3"
  },
  "language_info": {
   "name": "python",
   "version": "3.8.20"
  }
 },
 "nbformat": 4,
 "nbformat_minor": 5
}
