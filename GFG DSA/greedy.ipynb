{
 "cells": [
  {
   "cell_type": "code",
   "execution_count": null,
   "id": "229f2ee7",
   "metadata": {},
   "outputs": [
    {
     "name": "stdout",
     "output_type": "stream",
     "text": [
      "7\n"
     ]
    }
   ],
   "source": [
    "# Introduction to Greedy Algorithms\n",
    "\n",
    "def mincoins(coins,amount) :\n",
    "    coins.sort(reverse = True) \n",
    "    res = 0\n",
    "    for x in  coins :\n",
    "        if x <= amount :\n",
    "            c = amount // x \n",
    "            res += c \n",
    "            amount -= c * x \n",
    "        if amount == 0 :\n",
    "            break\n",
    "    return res \n",
    "    \n",
    "    \n",
    "amount = 57 \n",
    "coins = [5,10,2,1] \n",
    "\n",
    "\n",
    "print(mincoins(coins,amount))"
   ]
  },
  {
   "cell_type": "code",
   "execution_count": null,
   "id": "3539b100",
   "metadata": {},
   "outputs": [],
   "source": []
  }
 ],
 "metadata": {
  "kernelspec": {
   "display_name": "base",
   "language": "python",
   "name": "python3"
  },
  "language_info": {
   "codemirror_mode": {
    "name": "ipython",
    "version": 3
   },
   "file_extension": ".py",
   "mimetype": "text/x-python",
   "name": "python",
   "nbconvert_exporter": "python",
   "pygments_lexer": "ipython3",
   "version": "3.8.20"
  }
 },
 "nbformat": 4,
 "nbformat_minor": 5
}
