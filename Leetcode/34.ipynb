{
 "cells": [
  {
   "cell_type": "code",
   "execution_count": 21,
   "metadata": {},
   "outputs": [
    {
     "name": "stdout",
     "output_type": "stream",
     "text": [
      "[3, 4]\n"
     ]
    }
   ],
   "source": [
    "def return_arr_target(arr,target):\n",
    "    first_index = -1\n",
    "    last_index= -1\n",
    "    for i in range(len(arr)):\n",
    "        if arr[i] == target:\n",
    "            if first_index==-1:\n",
    "                first_index= i\n",
    "            last_index=i\n",
    "        \n",
    "    return [first_index,last_index]\n",
    "            \n",
    "   \n",
    "\n",
    "if __name__ == '__main__':\n",
    "    arr = [1,2,3,4,4,5]\n",
    "    target =4\n",
    "    print(return_arr_target(arr,target)) "
   ]
  },
  {
   "cell_type": "code",
   "execution_count": null,
   "metadata": {},
   "outputs": [],
   "source": []
  }
 ],
 "metadata": {
  "kernelspec": {
   "display_name": "base",
   "language": "python",
   "name": "python3"
  },
  "language_info": {
   "codemirror_mode": {
    "name": "ipython",
    "version": 3
   },
   "file_extension": ".py",
   "mimetype": "text/x-python",
   "name": "python",
   "nbconvert_exporter": "python",
   "pygments_lexer": "ipython3",
   "version": "3.8.20"
  }
 },
 "nbformat": 4,
 "nbformat_minor": 2
}
