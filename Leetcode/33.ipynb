{
 "cells": [
  {
   "cell_type": "code",
   "execution_count": 2,
   "metadata": {},
   "outputs": [
    {
     "name": "stdout",
     "output_type": "stream",
     "text": [
      "4\n"
     ]
    }
   ],
   "source": [
    "def search_in_sorted_array(arr,target):\n",
    "    left = 0\n",
    "    right = len(arr)-1\n",
    "    \n",
    "    while left<=right:\n",
    "        mid = (left+right)//2\n",
    "        if arr[mid] == target :\n",
    "            return mid \n",
    "        if arr[left]<=arr[mid]:\n",
    "            if arr[left]<=target<arr[mid]:\n",
    "                right = mid-1\n",
    "            else:\n",
    "                left = mid+1\n",
    "        else:\n",
    "            if arr[mid]<target<=arr[right]:\n",
    "                left = mid-1\n",
    "            else:\n",
    "                right = mid-1\n",
    "\n",
    "    return -1\n",
    "if __name__ == '__main__':\n",
    "    arr = [4,5,6,7,0,1,2]\n",
    "    target =0\n",
    "    res =search_in_sorted_array(arr,target)\n",
    "    print(res)\n"
   ]
  },
  {
   "cell_type": "code",
   "execution_count": null,
   "metadata": {},
   "outputs": [],
   "source": []
  }
 ],
 "metadata": {
  "kernelspec": {
   "display_name": "base",
   "language": "python",
   "name": "python3"
  },
  "language_info": {
   "codemirror_mode": {
    "name": "ipython",
    "version": 3
   },
   "file_extension": ".py",
   "mimetype": "text/x-python",
   "name": "python",
   "nbconvert_exporter": "python",
   "pygments_lexer": "ipython3",
   "version": "3.8.20"
  }
 },
 "nbformat": 4,
 "nbformat_minor": 2
}
