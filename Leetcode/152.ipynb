{
 "cells": [
  {
   "cell_type": "code",
   "execution_count": 2,
   "metadata": {},
   "outputs": [
    {
     "name": "stdout",
     "output_type": "stream",
     "text": [
      "6\n"
     ]
    }
   ],
   "source": [
    "def max_product_sub_array(arr):\n",
    "    n= len(arr)\n",
    "    curr_min = arr[0]\n",
    "    curr_max = arr[0]\n",
    "    max_prod = arr[0]\n",
    "    for i in range(1, n):\n",
    "        temp = max(arr[i],arr[i]*curr_max,arr[i]*curr_min)\n",
    "\n",
    "        curr_min = min(arr[i],arr[i]*curr_max,arr[i]*curr_min)\n",
    "\n",
    "        curr_max = temp \n",
    "        max_prod = max(max_prod , curr_max)\n",
    "    return max_prod\n",
    "\n",
    "\n",
    "\n",
    "if __name__ == \"__main__\":\n",
    "    arr = [2,3,-2,4]\n",
    "    res = max_product_sub_array(arr)\n",
    "    print(res)"
   ]
  },
  {
   "cell_type": "code",
   "execution_count": null,
   "metadata": {},
   "outputs": [],
   "source": []
  }
 ],
 "metadata": {
  "kernelspec": {
   "display_name": "base",
   "language": "python",
   "name": "python3"
  },
  "language_info": {
   "codemirror_mode": {
    "name": "ipython",
    "version": 3
   },
   "file_extension": ".py",
   "mimetype": "text/x-python",
   "name": "python",
   "nbconvert_exporter": "python",
   "pygments_lexer": "ipython3",
   "version": "3.8.20"
  }
 },
 "nbformat": 4,
 "nbformat_minor": 2
}
