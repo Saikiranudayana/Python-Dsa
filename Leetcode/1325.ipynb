{
 "cells": [
  {
   "cell_type": "code",
   "execution_count": 7,
   "metadata": {},
   "outputs": [
    {
     "name": "stdout",
     "output_type": "stream",
     "text": [
      "[4, 0, 1, 1, 3]\n"
     ]
    }
   ],
   "source": [
    "def smaller_num_list(arr):\n",
    "    temp = sorted(arr)\n",
    "    d = {}\n",
    "    for i,num in enumerate(temp):\n",
    "        if num not in d:\n",
    "            d[num] = i\n",
    "    result =[]\n",
    "    for num in arr:\n",
    "        result.append(d[num])\n",
    "        \n",
    "    return result\n",
    "if __name__ == \"__main__\":\n",
    "    arr =  [8,1,2,2,3]\n",
    "    res= smaller_num_list(arr)\n",
    "    print(res)\n",
    "    "
   ]
  },
  {
   "cell_type": "code",
   "execution_count": null,
   "metadata": {},
   "outputs": [],
   "source": []
  }
 ],
 "metadata": {
  "kernelspec": {
   "display_name": "base",
   "language": "python",
   "name": "python3"
  },
  "language_info": {
   "codemirror_mode": {
    "name": "ipython",
    "version": 3
   },
   "file_extension": ".py",
   "mimetype": "text/x-python",
   "name": "python",
   "nbconvert_exporter": "python",
   "pygments_lexer": "ipython3",
   "version": "3.8.20"
  }
 },
 "nbformat": 4,
 "nbformat_minor": 2
}
