{
 "cells": [
  {
   "cell_type": "code",
   "execution_count": 1,
   "metadata": {},
   "outputs": [
    {
     "name": "stdout",
     "output_type": "stream",
     "text": [
      "5\n"
     ]
    }
   ],
   "source": [
    "def best_time_to_buy(prices):\n",
    "    buy = prices[0]\n",
    "    profit = 0\n",
    "    for i in range(1,len(prices)):\n",
    "        if prices[i] < buy:\n",
    "            buy = prices[i]\n",
    "        elif prices[i]-buy >profit:\n",
    "            profit = prices[i]-buy\n",
    "    return profit\n",
    "        \n",
    "if __name__ == \"__main__\":\n",
    "    prices = [7,1,5,3,6,4]\n",
    "    print(best_time_to_buy(prices))"
   ]
  },
  {
   "cell_type": "code",
   "execution_count": null,
   "metadata": {},
   "outputs": [],
   "source": []
  }
 ],
 "metadata": {
  "kernelspec": {
   "display_name": "base",
   "language": "python",
   "name": "python3"
  },
  "language_info": {
   "codemirror_mode": {
    "name": "ipython",
    "version": 3
   },
   "file_extension": ".py",
   "mimetype": "text/x-python",
   "name": "python",
   "nbconvert_exporter": "python",
   "pygments_lexer": "ipython3",
   "version": "3.8.20"
  }
 },
 "nbformat": 4,
 "nbformat_minor": 2
}
