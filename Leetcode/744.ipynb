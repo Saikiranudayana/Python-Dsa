{
 "cells": [
  {
   "cell_type": "code",
   "execution_count": 2,
   "metadata": {},
   "outputs": [
    {
     "name": "stdout",
     "output_type": "stream",
     "text": [
      "c\n"
     ]
    }
   ],
   "source": [
    "def next_greatest_number(letters,target):\n",
    "    left,right = 0,len(letters) \n",
    "    while left<right:\n",
    "        mid = (left+right)//2\n",
    "        if letters[mid] >target:\n",
    "            right = mid \n",
    "        else:\n",
    "            left = mid+1\n",
    "    return letters[left%len(letters)]\n",
    "\n",
    "if __name__ == '__main__':\n",
    "    letters = [\"c\",\"f\",\"j\"]\n",
    "    tar = \"a\"\n",
    "    print(next_greatest_number(letters,tar))"
   ]
  },
  {
   "cell_type": "code",
   "execution_count": null,
   "metadata": {},
   "outputs": [],
   "source": []
  }
 ],
 "metadata": {
  "kernelspec": {
   "display_name": "base",
   "language": "python",
   "name": "python3"
  },
  "language_info": {
   "codemirror_mode": {
    "name": "ipython",
    "version": 3
   },
   "file_extension": ".py",
   "mimetype": "text/x-python",
   "name": "python",
   "nbconvert_exporter": "python",
   "pygments_lexer": "ipython3",
   "version": "3.8.20"
  }
 },
 "nbformat": 4,
 "nbformat_minor": 2
}
