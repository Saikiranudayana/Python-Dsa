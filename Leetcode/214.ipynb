{
 "cells": [
  {
   "cell_type": "code",
   "execution_count": 2,
   "metadata": {},
   "outputs": [
    {
     "name": "stdout",
     "output_type": "stream",
     "text": [
      "1\n"
     ]
    }
   ],
   "source": [
    "def constructlps(s):\n",
    "    n= len(s)\n",
    "    lps = [0]*n\n",
    "    length = 0\n",
    "    i = 1\n",
    "    while i<n:\n",
    "        if s[i]==s[length]:\n",
    "            length+=1\n",
    "            lps[i] = length \n",
    "            i+= 1\n",
    "        else:\n",
    "            if length !=0:\n",
    "                length = lps[length -1]\n",
    "\n",
    "            else:\n",
    "                lps[i]=0\n",
    "                i+=1 \n",
    "    return lps\n",
    "\n",
    "def minInsertions( s):\n",
    "    \"\"\"\n",
    "    :type s: str\n",
    "    :rtype: int\n",
    "    \"\"\"\n",
    "\n",
    "    n= len(s)\n",
    "    rev= s[::-1]\n",
    "    if s==rev:\n",
    "        return 0\n",
    "    combined = s+'$'+rev\n",
    "    lps = constructlps(combined)\n",
    "\n",
    "    return n-lps[-1]        \n",
    "\n",
    "\n",
    "if __name__ == \"__main__\":\n",
    "    s= \"letelt\"\n",
    "    print(minInsertions(s))"
   ]
  },
  {
   "cell_type": "code",
   "execution_count": 4,
   "metadata": {},
   "outputs": [
    {
     "name": "stdout",
     "output_type": "stream",
     "text": [
      "tletelt\n"
     ]
    }
   ],
   "source": [
    "def constructlps(s):\n",
    "    n = len(s)\n",
    "    lps = [0] * n\n",
    "    length = 0\n",
    "    i = 1\n",
    "    while i < n:\n",
    "        if s[i] == s[length]:\n",
    "            length += 1\n",
    "            lps[i] = length\n",
    "            i += 1\n",
    "        else:\n",
    "            if length != 0:\n",
    "                length = lps[length - 1]\n",
    "            else:\n",
    "                lps[i] = 0\n",
    "                i += 1\n",
    "    return lps\n",
    "\n",
    "\n",
    "def shortestPalindrome(s):\n",
    "        \"\"\"\n",
    "        :type s: str\n",
    "        :rtype: str\n",
    "        \"\"\"\n",
    "        if not s or s == s[::-1]:\n",
    "            return s\n",
    "        \n",
    "        rev = s[::-1]\n",
    "        combined = s + '$' + rev\n",
    "        lps = constructlps(combined)\n",
    "        pal_prefix_len = lps[-1]\n",
    "        \n",
    "        # The part that is not part of the palindrome prefix\n",
    "        suffix = s[pal_prefix_len:]\n",
    "        \n",
    "        # Prepend the reverse of that suffix\n",
    "        return suffix[::-1] + s\n",
    "\n",
    "\n",
    "if __name__ == \"__main__\":\n",
    "    s= \"letelt\"\n",
    "    print(shortestPalindrome(s))"
   ]
  },
  {
   "cell_type": "code",
   "execution_count": 1,
   "metadata": {},
   "outputs": [
    {
     "name": "stdout",
     "output_type": "stream",
     "text": [
      "tletelt\n"
     ]
    }
   ],
   "source": [
    "\n",
    "def constructlps(s):\n",
    "    n= len(s)\n",
    "    lps = [0]*n\n",
    "    length = 0\n",
    "    i = 1\n",
    "    while i<n:\n",
    "        if s[i]==s[length]:\n",
    "            length+=1\n",
    "            lps[i] = length \n",
    "            i+= 1\n",
    "        else:\n",
    "            if length !=0:\n",
    "                length = lps[length -1]\n",
    "\n",
    "            else:\n",
    "                lps[i]=0\n",
    "                i+=1 \n",
    "    return lps\n",
    "\n",
    "def shortestPalindrome( s):\n",
    "        \"\"\"\n",
    "        :type s: str\n",
    "        :rtype: str\n",
    "        \"\"\"\n",
    "\n",
    "        n= len(s)\n",
    "        rev= s[::-1]\n",
    "        if not s or s==rev:\n",
    "            return s\n",
    "        combined = s+'$'+rev\n",
    "        lps = constructlps(combined)\n",
    "        pal_prefix_len = lps[-1]\n",
    "\n",
    "        suffix = s[pal_prefix_len:]\n",
    "\n",
    "\n",
    "        return suffix[::-1]+s      \n",
    "\n",
    "if __name__ == \"__main__\":\n",
    "    s= \"letelt\"\n",
    "    print(shortestPalindrome(s)) "
   ]
  },
  {
   "cell_type": "code",
   "execution_count": null,
   "metadata": {},
   "outputs": [],
   "source": []
  }
 ],
 "metadata": {
  "kernelspec": {
   "display_name": "base",
   "language": "python",
   "name": "python3"
  },
  "language_info": {
   "codemirror_mode": {
    "name": "ipython",
    "version": 3
   },
   "file_extension": ".py",
   "mimetype": "text/x-python",
   "name": "python",
   "nbconvert_exporter": "python",
   "pygments_lexer": "ipython3",
   "version": "3.8.20"
  }
 },
 "nbformat": 4,
 "nbformat_minor": 2
}
