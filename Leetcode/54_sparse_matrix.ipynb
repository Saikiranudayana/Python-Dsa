{
 "cells": [
  {
   "cell_type": "code",
   "execution_count": 3,
   "metadata": {},
   "outputs": [
    {
     "name": "stdout",
     "output_type": "stream",
     "text": [
      "[1, 2, 3, 6, 9, 8, 7, 4, 5]\n"
     ]
    }
   ],
   "source": [
    "def sparse_martix(arr):\n",
    "    ret = []\n",
    "    while arr:\n",
    "        ret+=(arr.pop(0))\n",
    "        if arr and arr[0]:\n",
    "            for row in arr:\n",
    "                ret.append(row.pop())\n",
    "                \n",
    "        if arr:\n",
    "            ret+=(arr.pop()[::-1])\n",
    "        if arr and arr[0]:\n",
    "            for row in arr[::-1]:\n",
    "                ret.append(row.pop(0))\n",
    "    \n",
    "    \n",
    "    \n",
    "    return ret\n",
    "\n",
    "\n",
    "arr= [[1,2,3],[4,5,6],[7,8,9]]\n",
    "print(sparse_martix(arr))"
   ]
  },
  {
   "cell_type": "code",
   "execution_count": null,
   "metadata": {},
   "outputs": [],
   "source": []
  }
 ],
 "metadata": {
  "kernelspec": {
   "display_name": "base",
   "language": "python",
   "name": "python3"
  },
  "language_info": {
   "codemirror_mode": {
    "name": "ipython",
    "version": 3
   },
   "file_extension": ".py",
   "mimetype": "text/x-python",
   "name": "python",
   "nbconvert_exporter": "python",
   "pygments_lexer": "ipython3",
   "version": "3.8.20"
  }
 },
 "nbformat": 4,
 "nbformat_minor": 2
}
