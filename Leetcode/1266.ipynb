{
 "cells": [
  {
   "cell_type": "code",
   "execution_count": 4,
   "metadata": {},
   "outputs": [
    {
     "name": "stdout",
     "output_type": "stream",
     "text": [
      "7\n"
     ]
    }
   ],
   "source": [
    "def minimumtimetovistallpoints(points):\n",
    "    res = 0\n",
    "    x1,y1 = points.pop()\n",
    "    while points:\n",
    "        x2,y2 = points.pop()\n",
    "        res += max(abs(y2-y1),abs(x2-x1))\n",
    "        x1,y1 = x2,y2 \n",
    "    return res\n",
    "\n",
    "if __name__ == '__main__':\n",
    "    points = [[1,1],[3,4],[-1,0]]\n",
    "    print(minimumtimetovistallpoints(points))"
   ]
  },
  {
   "cell_type": "code",
   "execution_count": null,
   "metadata": {},
   "outputs": [],
   "source": []
  }
 ],
 "metadata": {
  "kernelspec": {
   "display_name": "base",
   "language": "python",
   "name": "python3"
  },
  "language_info": {
   "codemirror_mode": {
    "name": "ipython",
    "version": 3
   },
   "file_extension": ".py",
   "mimetype": "text/x-python",
   "name": "python",
   "nbconvert_exporter": "python",
   "pygments_lexer": "ipython3",
   "version": "3.8.20"
  }
 },
 "nbformat": 4,
 "nbformat_minor": 2
}
