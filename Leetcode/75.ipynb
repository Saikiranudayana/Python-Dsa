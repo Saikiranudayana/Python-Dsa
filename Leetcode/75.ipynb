{
 "cells": [
  {
   "cell_type": "code",
   "execution_count": 1,
   "metadata": {},
   "outputs": [
    {
     "name": "stdout",
     "output_type": "stream",
     "text": [
      "[0, 0, 1, 1, 2, 2]\n"
     ]
    }
   ],
   "source": [
    "\n",
    "def sortColors( nums):\n",
    "        \"\"\"\n",
    "        :type nums: List[int]\n",
    "        :rtype: None Do not return anything, modify nums in-place instead.\n",
    "        \"\"\"\n",
    "        n= len(nums)\n",
    "        low = 0\n",
    "        mid = 0\n",
    "        high = n-1\n",
    "        while mid<=high:\n",
    "            if nums[mid]==0:\n",
    "                nums[low],nums[mid]=nums[mid],nums[low]\n",
    "                low+= 1\n",
    "                mid+=1\n",
    "            elif nums[mid]==1:\n",
    "                mid+=1\n",
    "            else:\n",
    "                nums[mid],nums[high]= nums[high],nums[mid]\n",
    "                high -= 1\n",
    "\n",
    "        return nums   \n",
    "\n",
    "\n",
    "if __name__==\"__main__\":\n",
    "    nums= [0,1,2,0,1,2]\n",
    "    print(sortColors(nums))         "
   ]
  },
  {
   "cell_type": "code",
   "execution_count": null,
   "metadata": {},
   "outputs": [],
   "source": []
  }
 ],
 "metadata": {
  "kernelspec": {
   "display_name": "base",
   "language": "python",
   "name": "python3"
  },
  "language_info": {
   "codemirror_mode": {
    "name": "ipython",
    "version": 3
   },
   "file_extension": ".py",
   "mimetype": "text/x-python",
   "name": "python",
   "nbconvert_exporter": "python",
   "pygments_lexer": "ipython3",
   "version": "3.8.20"
  }
 },
 "nbformat": 4,
 "nbformat_minor": 2
}
