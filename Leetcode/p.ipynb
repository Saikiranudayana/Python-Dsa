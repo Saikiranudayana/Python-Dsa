{
 "cells": [
  {
   "cell_type": "code",
   "execution_count": 5,
   "id": "9cbda686",
   "metadata": {},
   "outputs": [
    {
     "data": {
      "text/plain": [
       "[1, 2, 1, 1, 2, 1]"
      ]
     },
     "execution_count": 5,
     "metadata": {},
     "output_type": "execute_result"
    }
   ],
   "source": [
    "def darr(nums):\n",
    "    n = len(nums)\n",
    "   \n",
    "    result= 2*([0]*n)\n",
    "    \n",
    "    for i in range(n):\n",
    "        result[i]=nums[i]\n",
    "        result[i+n]= nums[i]\n",
    "    return result\n",
    "\n",
    "nums= [1,2,1]\n",
    "darr(nums)\n"
   ]
  },
  {
   "cell_type": "code",
   "execution_count": null,
   "id": "54ec6f70",
   "metadata": {},
   "outputs": [],
   "source": []
  }
 ],
 "metadata": {
  "kernelspec": {
   "display_name": "base",
   "language": "python",
   "name": "python3"
  },
  "language_info": {
   "codemirror_mode": {
    "name": "ipython",
    "version": 3
   },
   "file_extension": ".py",
   "mimetype": "text/x-python",
   "name": "python",
   "nbconvert_exporter": "python",
   "pygments_lexer": "ipython3",
   "version": "3.8.20"
  }
 },
 "nbformat": 4,
 "nbformat_minor": 5
}
