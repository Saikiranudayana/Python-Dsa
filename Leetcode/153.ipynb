{
 "cells": [
  {
   "cell_type": "code",
   "execution_count": 6,
   "metadata": {},
   "outputs": [
    {
     "name": "stdout",
     "output_type": "stream",
     "text": [
      "0\n"
     ]
    }
   ],
   "source": [
    "def minimum_sorted_array(arr):\n",
    "    left = 0\n",
    "    right = len(arr)-1\n",
    "    \n",
    "    while left < right :\n",
    "        mid = (left+right)//2\n",
    "        if arr[mid] >arr[right]:\n",
    "\n",
    "            left = mid+1\n",
    "        else:\n",
    "            right= mid\n",
    "\n",
    "    return arr[left]\n",
    "\n",
    "\n",
    "\n",
    "\n",
    "if __name__ == \"__main__\":\n",
    "    arr = [4,5,6,7,0,1,2]\n",
    "    res =minimum_sorted_array(arr)\n",
    "    print(res)"
   ]
  },
  {
   "cell_type": "code",
   "execution_count": null,
   "metadata": {},
   "outputs": [],
   "source": []
  }
 ],
 "metadata": {
  "kernelspec": {
   "display_name": "base",
   "language": "python",
   "name": "python3"
  },
  "language_info": {
   "codemirror_mode": {
    "name": "ipython",
    "version": 3
   },
   "file_extension": ".py",
   "mimetype": "text/x-python",
   "name": "python",
   "nbconvert_exporter": "python",
   "pygments_lexer": "ipython3",
   "version": "3.8.20"
  }
 },
 "nbformat": 4,
 "nbformat_minor": 2
}
