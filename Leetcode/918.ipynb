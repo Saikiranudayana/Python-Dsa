{
 "cells": [
  {
   "cell_type": "code",
   "execution_count": 1,
   "metadata": {},
   "outputs": [
    {
     "name": "stdout",
     "output_type": "stream",
     "text": [
      "10\n"
     ]
    }
   ],
   "source": [
    "def maximumsubarrycircular(arr):\n",
    "    total = 0\n",
    "    currmax=0\n",
    "    currmin= 0\n",
    "    maxsum= arr[0]\n",
    "    minsum = arr[0]\n",
    "    for i in range(len(arr)):\n",
    "        currmax = max(currmax+arr[i],arr[i])\n",
    "        maxsum = max(maxsum,currmax)\n",
    "\n",
    "        currmin = min(currmin+arr[i],arr[i])\n",
    "        minsum= min(minsum,currmin)\n",
    "\n",
    "        total += arr[i]\n",
    "\n",
    "\n",
    "    normalsum = maxsum\n",
    "    circularsum = total - minsum\n",
    "\n",
    "    if maxsum<0:\n",
    "        return maxsum\n",
    "    return max(normalsum,circularsum)\n",
    "\n",
    "\n",
    "\n",
    "\n",
    "if __name__ == \"__main__\":\n",
    "    arr= [5,-3,5]\n",
    "    res= maximumsubarrycircular(arr)\n",
    "    print(res)\n"
   ]
  },
  {
   "cell_type": "code",
   "execution_count": null,
   "metadata": {},
   "outputs": [],
   "source": []
  }
 ],
 "metadata": {
  "kernelspec": {
   "display_name": "base",
   "language": "python",
   "name": "python3"
  },
  "language_info": {
   "codemirror_mode": {
    "name": "ipython",
    "version": 3
   },
   "file_extension": ".py",
   "mimetype": "text/x-python",
   "name": "python",
   "nbconvert_exporter": "python",
   "pygments_lexer": "ipython3",
   "version": "3.8.20"
  }
 },
 "nbformat": 4,
 "nbformat_minor": 2
}
