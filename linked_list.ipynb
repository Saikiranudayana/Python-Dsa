{
 "cells": [
  {
   "cell_type": "code",
   "execution_count": 7,
   "id": "ebe1a465",
   "metadata": {},
   "outputs": [
    {
     "name": "stdout",
     "output_type": "stream",
     "text": [
      "30\n"
     ]
    }
   ],
   "source": [
    "class Node():\n",
    "    def __init__(self,k):\n",
    "        self.val = k\n",
    "        self.next=None\n",
    "      \n",
    "      \n",
    "head= Node(10)\n",
    "head.next= Node(20)\n",
    "head.next.next= Node(30)\n",
    "\n",
    "print(head.next.next.val)\n",
    "    "
   ]
  },
  {
   "cell_type": "code",
   "execution_count": 10,
   "id": "827798d2",
   "metadata": {},
   "outputs": [
    {
     "name": "stdout",
     "output_type": "stream",
     "text": [
      "10\n",
      "10-->20-->30-->None\n"
     ]
    }
   ],
   "source": [
    "## Traversing in linked list through the head of the linked list\n",
    "\n",
    "class Node():\n",
    "    def __init__(self,k):\n",
    "        self.val = k\n",
    "        self.next=None\n",
    "        \n",
    "        \n",
    "        \n",
    "def printLL(head):\n",
    "    temp = head\n",
    "    while temp != None:\n",
    "        print(temp.val,end=\"-->\")\n",
    "        temp= temp.next\n",
    "        \n",
    "      \n",
    "      \n",
    "head= Node(10)\n",
    "head.next= Node(20)\n",
    "head.next.next= Node(30)\n",
    "\n",
    "print(head.val)\n",
    "print(printLL(head))\n",
    "     "
   ]
  },
  {
   "cell_type": "code",
   "execution_count": null,
   "id": "4905b13d",
   "metadata": {},
   "outputs": [
    {
     "name": "stdout",
     "output_type": "stream",
     "text": [
      "10\n",
      "10-->20-->30-->None\n",
      "2\n"
     ]
    }
   ],
   "source": [
    "## search in linked list\n",
    "## Traversing in linked list through the head of the linked list\n",
    "\n",
    "class Node():\n",
    "    def __init__(self,k):\n",
    "        self.val = k\n",
    "        self.next=None\n",
    "        \n",
    "        \n",
    "        \n",
    "def printLL(head):\n",
    "    temp = head\n",
    "    while temp != None:\n",
    "        print(temp.val,end=\"-->\")\n",
    "        temp= temp.next\n",
    "        \n",
    "def search_index(head,x):\n",
    "    temp = head\n",
    "    pos= 1\n",
    "    while temp !=None:\n",
    "        if temp.val==x:\n",
    "            return pos\n",
    "        pos +=1\n",
    "        temp = temp.next\n",
    "    return -1\n",
    "        \n",
    "      \n",
    "      \n",
    "head= Node(10)\n",
    "head.next= Node(20)\n",
    "head.next.next= Node(30)\n",
    "\n",
    "print(head.val)\n",
    "print(printLL(head))\n",
    "print(search_index(head,20))\n",
    "     \n",
    "\n"
   ]
  },
  {
   "cell_type": "code",
   "execution_count": null,
   "id": "9d004818",
   "metadata": {},
   "outputs": [],
   "source": []
  }
 ],
 "metadata": {
  "kernelspec": {
   "display_name": "base",
   "language": "python",
   "name": "python3"
  },
  "language_info": {
   "codemirror_mode": {
    "name": "ipython",
    "version": 3
   },
   "file_extension": ".py",
   "mimetype": "text/x-python",
   "name": "python",
   "nbconvert_exporter": "python",
   "pygments_lexer": "ipython3",
   "version": "3.8.20"
  }
 },
 "nbformat": 4,
 "nbformat_minor": 5
}
