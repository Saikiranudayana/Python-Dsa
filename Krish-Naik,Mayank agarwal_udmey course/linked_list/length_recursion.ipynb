{
 "cells": [
  {
   "cell_type": "code",
   "execution_count": 2,
   "id": "d5abd34f",
   "metadata": {},
   "outputs": [
    {
     "name": "stdout",
     "output_type": "stream",
     "text": [
      "3\n"
     ]
    }
   ],
   "source": [
    "from common import Node,take_input_better\n",
    "def length_recursion(head):\n",
    "    if head==None:  # bASE cASE\n",
    "        return 0\n",
    "    answer = length_recursion(head.next)\n",
    "    return 1+answer\n",
    "    \n",
    "head= take_input_better()\n",
    "    \n",
    "length= length_recursion(head)\n",
    "print(length)\n",
    "    \n",
    "    "
   ]
  },
  {
   "cell_type": "code",
   "execution_count": null,
   "id": "9d5bd685",
   "metadata": {},
   "outputs": [],
   "source": []
  }
 ],
 "metadata": {
  "kernelspec": {
   "display_name": "base",
   "language": "python",
   "name": "python3"
  },
  "language_info": {
   "codemirror_mode": {
    "name": "ipython",
    "version": 3
   },
   "file_extension": ".py",
   "mimetype": "text/x-python",
   "name": "python",
   "nbconvert_exporter": "python",
   "pygments_lexer": "ipython3",
   "version": "3.8.20"
  }
 },
 "nbformat": 4,
 "nbformat_minor": 5
}
