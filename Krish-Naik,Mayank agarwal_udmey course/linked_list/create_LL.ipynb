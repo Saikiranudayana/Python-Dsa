{
 "cells": [
  {
   "cell_type": "code",
   "execution_count": 3,
   "id": "92897adb",
   "metadata": {},
   "outputs": [
    {
     "name": "stdout",
     "output_type": "stream",
     "text": [
      "1\n",
      "2\n",
      "3\n"
     ]
    }
   ],
   "source": [
    "class Node:\n",
    "    def __init__(self,value):\n",
    "        self.data = value\n",
    "        self.next=None\n",
    "        \n",
    "first=Node(1)\n",
    "second = Node(2)\n",
    "third= Node(3)\n",
    "\n",
    "\n",
    "first.next = second\n",
    "\n",
    "second.next = third\n",
    "\n",
    "head= first\n",
    "\n",
    "print(head.data)\n",
    "print(head.next.data)\n",
    "print(head.next.next.data)\n",
    "\n"
   ]
  },
  {
   "cell_type": "code",
   "execution_count": 5,
   "id": "1cc378b3",
   "metadata": {},
   "outputs": [
    {
     "name": "stdout",
     "output_type": "stream",
     "text": [
      "1\n",
      "2\n",
      "3\n"
     ]
    }
   ],
   "source": [
    "class Node:\n",
    "    def __init__(self,value):\n",
    "        self.data = value\n",
    "        self.next=None\n",
    "    \n",
    "def print_LL(head):\n",
    "    while head !=None:\n",
    "        print(head.data)\n",
    "        head= head.next\n",
    "    return\n",
    "        \n",
    "\n",
    "        \n",
    "first=Node(1)\n",
    "second = Node(2)\n",
    "third= Node(3)\n",
    "\n",
    "\n",
    "first.next = second\n",
    "\n",
    "second.next = third\n",
    "\n",
    "head= first\n",
    "\n",
    "print_LL(head)\n",
    "\n"
   ]
  },
  {
   "cell_type": "code",
   "execution_count": 5,
   "id": "84fe0dab",
   "metadata": {},
   "outputs": [],
   "source": [
    "##Take input of linjked list\n",
    "\n",
    "\n",
    "##return a head to bnewly created linked list\n",
    "\n",
    "class Node:\n",
    "    def __init__(self,value):\n",
    "        self.data = value\n",
    "        self.next= None\n",
    "        \n",
    "def print_LL(head):\n",
    "    temp = head\n",
    "    while temp != head:\n",
    "        print(temp.data,end=\"-->\")\n",
    "        temp = temp.next\n",
    "        \n",
    "    return \n",
    "def take_input():\n",
    "    value = int(input(\"Enter a number\"))\n",
    "    head = None\n",
    "    \n",
    "    while value != -1:\n",
    "        newNode= Node(value)\n",
    "        if head==None:\n",
    "            head = newNode\n",
    "            \n",
    "        else:\n",
    "            head.next = newNode\n",
    "            \n",
    "        value = int(input(\"Enter the value of node\"))\n",
    "    return head\n",
    "\n",
    "newhead= take_input()\n",
    "print_LL(newhead)\n",
    "\n",
    "\n",
    "\n"
   ]
  },
  {
   "cell_type": "code",
   "execution_count": 7,
   "id": "97daa5a5",
   "metadata": {},
   "outputs": [
    {
     "name": "stdout",
     "output_type": "stream",
     "text": [
      "10-->20-->30-->"
     ]
    }
   ],
   "source": [
    "##Take input of linjked list\n",
    "\n",
    "\n",
    "##return a head to bnewly created linked list\n",
    "\n",
    "class Node:\n",
    "    def __init__(self,value):\n",
    "        self.data = value\n",
    "        self.next= None\n",
    "        \n",
    "def print_LL(head):\n",
    "    temp = head\n",
    "    while temp != None:\n",
    "        print(temp.data,end=\"-->\")\n",
    "        temp = temp.next\n",
    "        \n",
    "    return \n",
    "def take_input():\n",
    "    value = int(input(\"Enter a number\"))\n",
    "    head = None\n",
    "    \n",
    "    while value != -1:\n",
    "        newNode= Node(value)\n",
    "        if head==None:\n",
    "            head = newNode\n",
    "            \n",
    "        else:\n",
    "            temp = head \n",
    "            while (temp.next != None):\n",
    "                temp = temp .next\n",
    "            \n",
    "            temp.next = newNode\n",
    "            \n",
    "        value = int(input(\"Enter the value of node\"))\n",
    "    return head\n",
    "\n",
    "newhead= take_input()\n",
    "print_LL(newhead)\n",
    "\n",
    "\n",
    "\n"
   ]
  },
  {
   "cell_type": "code",
   "execution_count": 1,
   "id": "5e517a4b",
   "metadata": {},
   "outputs": [
    {
     "name": "stdout",
     "output_type": "stream",
     "text": [
      "10-->20-->30-->40-->50-->"
     ]
    }
   ],
   "source": [
    "##Take input of linjked list\n",
    "\n",
    "\n",
    "##return a head to bnewly created linked list\n",
    "\n",
    "class Node:\n",
    "    def __init__(self,value):\n",
    "        self.data = value\n",
    "        self.next= None\n",
    "        \n",
    "def print_LL(head):\n",
    "    temp = head\n",
    "    while temp != None:\n",
    "        print(temp.data,end=\"-->\")\n",
    "        temp = temp.next\n",
    "        \n",
    "    return \n",
    "def take_input_better():\n",
    "    value = int(input(\"Enter a number\"))\n",
    "    head = None\n",
    "    tail = None\n",
    "    \n",
    "    while value != -1:\n",
    "        newNode= Node(value)\n",
    "        if head==None:\n",
    "            head = newNode\n",
    "            tail = newNode\n",
    "            \n",
    "        else:\n",
    "            tail.next = newNode\n",
    "            tail = newNode\n",
    "            \n",
    "           \n",
    "           \n",
    "        \n",
    "            \n",
    "            \n",
    "        value = int(input(\"Enter the value of node\"))\n",
    "    return head\n",
    "\n",
    "newhead= take_input_better()\n",
    "print_LL(newhead)\n",
    "\n",
    "\n",
    "\n"
   ]
  },
  {
   "cell_type": "code",
   "execution_count": null,
   "id": "1610cd05",
   "metadata": {},
   "outputs": [],
   "source": []
  }
 ],
 "metadata": {
  "kernelspec": {
   "display_name": "base",
   "language": "python",
   "name": "python3"
  },
  "language_info": {
   "codemirror_mode": {
    "name": "ipython",
    "version": 3
   },
   "file_extension": ".py",
   "mimetype": "text/x-python",
   "name": "python",
   "nbconvert_exporter": "python",
   "pygments_lexer": "ipython3",
   "version": "3.8.20"
  }
 },
 "nbformat": 4,
 "nbformat_minor": 5
}
