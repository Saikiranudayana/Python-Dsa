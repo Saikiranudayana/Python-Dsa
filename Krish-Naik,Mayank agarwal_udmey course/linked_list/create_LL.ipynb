{
 "cells": [
  {
   "cell_type": "code",
   "execution_count": 3,
   "id": "92897adb",
   "metadata": {},
   "outputs": [
    {
     "name": "stdout",
     "output_type": "stream",
     "text": [
      "1\n",
      "2\n",
      "3\n"
     ]
    }
   ],
   "source": [
    "class Node:\n",
    "    def __init__(self,value):\n",
    "        self.data = value\n",
    "        self.next=None\n",
    "        \n",
    "first=Node(1)\n",
    "second = Node(2)\n",
    "third= Node(3)\n",
    "\n",
    "\n",
    "first.next = second\n",
    "\n",
    "second.next = third\n",
    "\n",
    "head= first\n",
    "\n",
    "print(head.data)\n",
    "print(head.next.data)\n",
    "print(head.next.next.data)\n",
    "\n"
   ]
  },
  {
   "cell_type": "code",
   "execution_count": 5,
   "id": "1cc378b3",
   "metadata": {},
   "outputs": [
    {
     "name": "stdout",
     "output_type": "stream",
     "text": [
      "1\n",
      "2\n",
      "3\n"
     ]
    }
   ],
   "source": [
    "class Node:\n",
    "    def __init__(self,value):\n",
    "        self.data = value\n",
    "        self.next=None\n",
    "    \n",
    "def print_LL(head):\n",
    "    while head !=None:\n",
    "        print(head.data)\n",
    "        head= head.next\n",
    "    return\n",
    "        \n",
    "\n",
    "        \n",
    "first=Node(1)\n",
    "second = Node(2)\n",
    "third= Node(3)\n",
    "\n",
    "\n",
    "first.next = second\n",
    "\n",
    "second.next = third\n",
    "\n",
    "head= first\n",
    "\n",
    "print_LL(head)\n",
    "\n"
   ]
  },
  {
   "cell_type": "code",
   "execution_count": null,
   "id": "84fe0dab",
   "metadata": {},
   "outputs": [],
   "source": []
  }
 ],
 "metadata": {
  "kernelspec": {
   "display_name": "base",
   "language": "python",
   "name": "python3"
  },
  "language_info": {
   "codemirror_mode": {
    "name": "ipython",
    "version": 3
   },
   "file_extension": ".py",
   "mimetype": "text/x-python",
   "name": "python",
   "nbconvert_exporter": "python",
   "pygments_lexer": "ipython3",
   "version": "3.8.20"
  }
 },
 "nbformat": 4,
 "nbformat_minor": 5
}
