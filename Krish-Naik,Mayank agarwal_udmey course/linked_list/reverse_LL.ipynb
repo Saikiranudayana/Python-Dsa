{
 "cells": [
  {
   "cell_type": "code",
   "execution_count": null,
   "id": "6341e3f0",
   "metadata": {},
   "outputs": [],
   "source": [
    "###Recusrsive approiach\n"
   ]
  },
  {
   "cell_type": "code",
   "execution_count": null,
   "id": "a8830898",
   "metadata": {},
   "outputs": [],
   "source": []
  }
 ],
 "metadata": {
  "kernelspec": {
   "display_name": "base",
   "language": "python",
   "name": "python3"
  },
  "language_info": {
   "name": "python",
   "version": "3.8.20"
  }
 },
 "nbformat": 4,
 "nbformat_minor": 5
}
