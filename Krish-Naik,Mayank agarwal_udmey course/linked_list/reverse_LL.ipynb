{
 "cells": [
  {
   "cell_type": "code",
   "execution_count": 5,
   "id": "6341e3f0",
   "metadata": {},
   "outputs": [
    {
     "name": "stdout",
     "output_type": "stream",
     "text": [
      "6-->5-->4-->3-->2-->1-->"
     ]
    }
   ],
   "source": [
    "###Recusrsive approiach\n",
    "\n",
    "from common import *\n",
    "def reverse_recursive_LL(head):\n",
    "    if (head== None or head.next ==None):\n",
    "        return head\n",
    "    \n",
    "    smallhead= reverse_recursive_LL(head.next)\n",
    "    temp = smallhead  \n",
    "    while temp.next is not None:\n",
    "        temp = temp.next\n",
    "        \n",
    "    temp.next = head\n",
    "    head.next = None\n",
    "    return smallhead\n",
    "    \n",
    "head0 = createLLfromlist([1,2,3,4,5,6])    \n",
    "head = reverse_recursive_LL(head0)\n",
    "print_LL(head)\n",
    "    \n",
    "    \n"
   ]
  },
  {
   "cell_type": "code",
   "execution_count": null,
   "id": "a8830898",
   "metadata": {},
   "outputs": [],
   "source": [
    "##Better approch for reversing the linked list\n",
    "\n",
    "###Recusrsive approiach\n",
    "\n",
    "from common import *\n",
    "def reverse_recursive_tail_LL(head):\n",
    "    if (head== None or head.next ==None):\n",
    "        return head\n",
    "    \n",
    "    smallhead= reverse_recursive_tail_LL(head.next)\n",
    "    tail = head.next\n",
    "    tail.next  = head \n",
    "    head.next = None    \n",
    "    return smallhead\n",
    "    \n",
    "head0 = createLLfromlist([1,2,3,4,5,6])    \n",
    "head = reverse_recursive_tail_LL(head0)\n",
    "print_LL(head)\n",
    "    \n",
    "    \n",
    "\n"
   ]
  },
  {
   "cell_type": "code",
   "execution_count": 6,
   "id": "ec48f6ff",
   "metadata": {},
   "outputs": [
    {
     "name": "stdout",
     "output_type": "stream",
     "text": [
      "6-->5-->4-->3-->2-->1-->"
     ]
    }
   ],
   "source": [
    "##iterative aproach\\\n",
    "    \n",
    "from common import *\n",
    "\n",
    "def reverse_ll_iteration(head):\n",
    "    if head is None or head.next is None:\n",
    "        return head\n",
    "    prev= None\n",
    "    curr = head\n",
    "    \n",
    "    while curr is not None:\n",
    "        next_node= curr.next\n",
    "        curr.next = prev\n",
    "        prev= curr\n",
    "        curr = next_node\n",
    "        \n",
    "    return prev\n",
    "\n",
    "head0 = createLLfromlist([1,2,3,4,5,6])    \n",
    "head = reverse_ll_iteration(head0)\n",
    "print_LL(head)\n"
   ]
  },
  {
   "cell_type": "code",
   "execution_count": null,
   "id": "4dacdb62",
   "metadata": {},
   "outputs": [],
   "source": []
  }
 ],
 "metadata": {
  "kernelspec": {
   "display_name": "base",
   "language": "python",
   "name": "python3"
  },
  "language_info": {
   "codemirror_mode": {
    "name": "ipython",
    "version": 3
   },
   "file_extension": ".py",
   "mimetype": "text/x-python",
   "name": "python",
   "nbconvert_exporter": "python",
   "pygments_lexer": "ipython3",
   "version": "3.8.20"
  }
 },
 "nbformat": 4,
 "nbformat_minor": 5
}
