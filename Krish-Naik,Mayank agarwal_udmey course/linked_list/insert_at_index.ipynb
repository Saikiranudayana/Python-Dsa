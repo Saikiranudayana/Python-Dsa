{
 "cells": [
  {
   "cell_type": "code",
   "execution_count": 4,
   "id": "c1239aef",
   "metadata": {},
   "outputs": [
    {
     "name": "stdout",
     "output_type": "stream",
     "text": [
      "10-->20-->30-->40-->aftert inserting at index\n",
      "10-->20-->30-->35-->40-->"
     ]
    }
   ],
   "source": [
    "from common import Node,take_input_better,print_LL\n",
    "\n",
    "head= take_input_better()\n",
    "print_LL(head)\n",
    "def insert_at_head(head,data):\n",
    "    newNode= Node(data)\n",
    "    newNode.next = head \n",
    "    head= newNode\n",
    "    return head\n",
    "def insert_at_tail(head,data):\n",
    "    newNode= Node(data)\n",
    "    if head==None:\n",
    "        return newNode\n",
    "    temp = head\n",
    "    while temp.next!= None:\n",
    "        temp = temp.next\n",
    "    temp.next = newNode\n",
    "    return head\n",
    "def insert_tail_recuresion(head,data):\n",
    "    \n",
    "    if head==None:\n",
    "        return Node(data)\n",
    "    head.next = insert_tail_recuresion(head.next,data)\n",
    "    return\n",
    "def insert_at_index(head,data,index):\n",
    "    if index==0:\n",
    "        return insert_at_head(head,data)\n",
    "    newnode = Node(data)\n",
    "    temp = head\n",
    "    count = 0\n",
    "    \n",
    "    while temp != None and count<index-1:\n",
    "        temp = temp.next\n",
    "        count+=1\n",
    "        \n",
    "    newnode.next = temp.next\n",
    "    temp.next= newnode\n",
    "    \n",
    "    \n",
    "    \n",
    "# head= insert_at_tail(head,100)\n",
    "# head = insert_tail_recuresion(head,100)\n",
    "# print(\"\\nDown here\")\n",
    "# print_LL(head)\n",
    "\n",
    "head1= insert_at_index(head,35,3)\n",
    "print(\"aftert inserting at index\")\n",
    "print_LL(head)\n",
    "    "
   ]
  },
  {
   "cell_type": "code",
   "execution_count": null,
   "id": "2621ec2a",
   "metadata": {},
   "outputs": [],
   "source": []
  }
 ],
 "metadata": {
  "kernelspec": {
   "display_name": "base",
   "language": "python",
   "name": "python3"
  },
  "language_info": {
   "codemirror_mode": {
    "name": "ipython",
    "version": 3
   },
   "file_extension": ".py",
   "mimetype": "text/x-python",
   "name": "python",
   "nbconvert_exporter": "python",
   "pygments_lexer": "ipython3",
   "version": "3.8.20"
  }
 },
 "nbformat": 4,
 "nbformat_minor": 5
}
