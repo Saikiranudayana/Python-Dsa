{
 "cells": [
  {
   "cell_type": "code",
   "execution_count": 4,
   "id": "6096c3d0",
   "metadata": {},
   "outputs": [
    {
     "name": "stdout",
     "output_type": "stream",
     "text": [
      "3\n",
      "4\n"
     ]
    }
   ],
   "source": [
    "from common import *\n",
    "\n",
    "headodd= createLLfromlist([1,2,3,4,5])\n",
    "headeven = createLLfromlist([1,2,3,4,5,6])\n",
    "def middleofLL(head):\n",
    "    if head == None or head.next is None:\n",
    "        return head\n",
    "    length = lengthofll(head)\n",
    "    middle= length//2\n",
    "    \n",
    "    \n",
    "    temp = head\n",
    "    count =0\n",
    "    while count<middle:\n",
    "        temp = temp.next\n",
    "        count+=1\n",
    "    return temp\n",
    "\n",
    "\n",
    "headoddmid = middleofLL(headodd)\n",
    "headeven = middleofLL(headeven)\n",
    "\n",
    "print(headoddmid.data)\n",
    "print(headeven.data)\n"
   ]
  },
  {
   "cell_type": "code",
   "execution_count": null,
   "id": "a051c6d2",
   "metadata": {},
   "outputs": [],
   "source": []
  }
 ],
 "metadata": {
  "kernelspec": {
   "display_name": "base",
   "language": "python",
   "name": "python3"
  },
  "language_info": {
   "codemirror_mode": {
    "name": "ipython",
    "version": 3
   },
   "file_extension": ".py",
   "mimetype": "text/x-python",
   "name": "python",
   "nbconvert_exporter": "python",
   "pygments_lexer": "ipython3",
   "version": "3.8.20"
  }
 },
 "nbformat": 4,
 "nbformat_minor": 5
}
