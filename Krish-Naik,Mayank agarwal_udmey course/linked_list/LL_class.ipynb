{
 "cells": [
  {
   "cell_type": "code",
   "execution_count": null,
   "id": "0cd4f5ee",
   "metadata": {},
   "outputs": [],
   "source": [
    "class Node:\n",
    "    def __init__(self,data):\n",
    "        self.data = data\n",
    "        self.next= None\n",
    "class Linkedlist:\n",
    "    def __init__(self):\n",
    "        self.head= None\n",
    "        \n",
    "    def insert_at_head(self,data):\n",
    "        pass\n",
    "    \n",
    "    def insert_at_index(self,data,index):\n",
    "        pass \n",
    "    \n",
    "    def print_LL(self):\n",
    "        pass\n",
    "    def length_LL(self):\n",
    "        pass"
   ]
  }
 ],
 "metadata": {
  "kernelspec": {
   "display_name": "base",
   "language": "python",
   "name": "python3"
  },
  "language_info": {
   "name": "python",
   "version": "3.8.20"
  }
 },
 "nbformat": 4,
 "nbformat_minor": 5
}
