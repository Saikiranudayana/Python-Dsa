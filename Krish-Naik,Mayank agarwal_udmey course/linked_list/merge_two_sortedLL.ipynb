{
 "cells": [
  {
   "cell_type": "code",
   "execution_count": 3,
   "id": "cc1bedeb",
   "metadata": {},
   "outputs": [
    {
     "ename": "ValueError",
     "evalue": "invalid literal for int() with base 10: '1-1'",
     "output_type": "error",
     "traceback": [
      "\u001b[1;31m---------------------------------------------------------------------------\u001b[0m",
      "\u001b[1;31mValueError\u001b[0m                                Traceback (most recent call last)",
      "Cell \u001b[1;32mIn[3], line 1\u001b[0m\n\u001b[1;32m----> 1\u001b[0m \u001b[38;5;28;01mfrom\u001b[39;00m \u001b[38;5;21;01mcommon\u001b[39;00m \u001b[38;5;28;01mimport\u001b[39;00m Node,print_LL,createLLfromlist\n\u001b[0;32m      3\u001b[0m \u001b[38;5;28;01mdef\u001b[39;00m \u001b[38;5;21mmerge_two_sorted\u001b[39m(head1,head2):\n\u001b[0;32m      4\u001b[0m     \u001b[38;5;28;01mif\u001b[39;00m head1 \u001b[38;5;129;01mis\u001b[39;00m \u001b[38;5;28;01mNone\u001b[39;00m:\n",
      "File \u001b[1;32mc:\\Users\\saiki\\OneDrive\\Desktop\\Python Dsa\\Krish-Naik,Mayank agarwal_udmey course\\linked_list\\common.py:80\u001b[0m\n\u001b[0;32m     77\u001b[0m         value \u001b[38;5;241m=\u001b[39m \u001b[38;5;28mint\u001b[39m(\u001b[38;5;28minput\u001b[39m(\u001b[38;5;124m\"\u001b[39m\u001b[38;5;124mEnter the value of node\u001b[39m\u001b[38;5;124m\"\u001b[39m))\n\u001b[0;32m     78\u001b[0m     \u001b[38;5;28;01mreturn\u001b[39;00m head\n\u001b[1;32m---> 80\u001b[0m newhead\u001b[38;5;241m=\u001b[39m \u001b[43mtake_input\u001b[49m\u001b[43m(\u001b[49m\u001b[43m)\u001b[49m\n\u001b[0;32m     81\u001b[0m print_LL(newhead)\n\u001b[0;32m     85\u001b[0m \u001b[38;5;28;01mdef\u001b[39;00m \u001b[38;5;21mcreateLLfromlist\u001b[39m(l1):\n",
      "File \u001b[1;32mc:\\Users\\saiki\\OneDrive\\Desktop\\Python Dsa\\Krish-Naik,Mayank agarwal_udmey course\\linked_list\\common.py:62\u001b[0m, in \u001b[0;36mtake_input\u001b[1;34m()\u001b[0m\n\u001b[0;32m     61\u001b[0m \u001b[38;5;28;01mdef\u001b[39;00m \u001b[38;5;21mtake_input\u001b[39m():\n\u001b[1;32m---> 62\u001b[0m     value \u001b[38;5;241m=\u001b[39m \u001b[38;5;28;43mint\u001b[39;49m\u001b[43m(\u001b[49m\u001b[38;5;28;43minput\u001b[39;49m\u001b[43m(\u001b[49m\u001b[38;5;124;43m\"\u001b[39;49m\u001b[38;5;124;43mEnter a number\u001b[39;49m\u001b[38;5;124;43m\"\u001b[39;49m\u001b[43m)\u001b[49m\u001b[43m)\u001b[49m\n\u001b[0;32m     63\u001b[0m     head \u001b[38;5;241m=\u001b[39m \u001b[38;5;28;01mNone\u001b[39;00m\n\u001b[0;32m     65\u001b[0m     \u001b[38;5;28;01mwhile\u001b[39;00m value \u001b[38;5;241m!=\u001b[39m \u001b[38;5;241m-\u001b[39m\u001b[38;5;241m1\u001b[39m:\n",
      "\u001b[1;31mValueError\u001b[0m: invalid literal for int() with base 10: '1-1'"
     ]
    }
   ],
   "source": [
    "from common import Node,print_LL,createLLfromlist\n",
    "\n",
    "def merge_two_sorted(head1,head2):\n",
    "    if head1 is None:\n",
    "        return head2\n",
    "    if head2 is None:\n",
    "        return head1\n",
    "    \n",
    "    firsthead = None\n",
    "    firsttail = None\n",
    "    \n",
    "    while head1 is not None and head2 is not None:\n",
    "        if head1.data<head2.data:\n",
    "            if firsthead==None:\n",
    "                firsthead= head1\n",
    "                firsttail = head1\n",
    "            else:\n",
    "                firsttail.next= head1\n",
    "                firsttail = head1 \n",
    "            head1= head1.next\n",
    "        else:\n",
    "            if firsthead==None:\n",
    "                firsthead= head2\n",
    "                firsttail = head2\n",
    "            else:\n",
    "                firsttail.next= head2\n",
    "                firsttail = head2\n",
    "            head12= head2.next\n",
    "            \n",
    "    if head1 is not None:\n",
    "        firsttail.next = head1\n",
    "    if head2 is not None:\n",
    "        firsttail.next= head2\n",
    "        \n",
    "    return firsthead\n",
    "        \n",
    "head1 = createLLfromlist([2,5,9,10,17])\n",
    "head2= createLLfromlist([3,6,7])\n",
    "\n",
    "final = merge_two_sorted(head1,head2)\n",
    "\n",
    "print_LL(final)\n",
    "    "
   ]
  },
  {
   "cell_type": "code",
   "execution_count": null,
   "id": "82453fcc",
   "metadata": {},
   "outputs": [],
   "source": []
  }
 ],
 "metadata": {
  "kernelspec": {
   "display_name": "base",
   "language": "python",
   "name": "python3"
  },
  "language_info": {
   "codemirror_mode": {
    "name": "ipython",
    "version": 3
   },
   "file_extension": ".py",
   "mimetype": "text/x-python",
   "name": "python",
   "nbconvert_exporter": "python",
   "pygments_lexer": "ipython3",
   "version": "3.8.20"
  }
 },
 "nbformat": 4,
 "nbformat_minor": 5
}
