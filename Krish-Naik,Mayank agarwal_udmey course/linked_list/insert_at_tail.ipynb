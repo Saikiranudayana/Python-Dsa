{
 "cells": [
  {
   "cell_type": "code",
   "execution_count": 6,
   "id": "913d23c1",
   "metadata": {},
   "outputs": [
    {
     "name": "stdout",
     "output_type": "stream",
     "text": [
      "10-->20-->30-->\n",
      "Down here\n"
     ]
    }
   ],
   "source": [
    "from common import Node,take_input_better,print_LL\n",
    "\n",
    "head= take_input_better()\n",
    "print_LL(head)\n",
    "def insert_at_head(head,data):\n",
    "    newNode= Node(data)\n",
    "    newNode.next = head \n",
    "    head= newNode\n",
    "    return head\n",
    "def insert_at_tail(head,data):\n",
    "    newNode= Node(data)\n",
    "    if head==None:\n",
    "        return newNode\n",
    "    temp = head\n",
    "    while temp.next!= None:\n",
    "        temp = temp.next\n",
    "    temp.next = newNode\n",
    "    return head\n",
    "def insert_tail_recuresion(head,data):\n",
    "    newnode= Node(data)\n",
    "    if head==None:\n",
    "        return newnode\n",
    "    head.next = insert_tail_recuresion(head.next,data)\n",
    "    return\n",
    "    \n",
    "    \n",
    "# head= insert_at_tail(head,100)\n",
    "head = insert_tail_recuresion(head,100)\n",
    "print(\"\\nDown here\")\n",
    "print_LL(head)\n",
    "    "
   ]
  },
  {
   "cell_type": "code",
   "execution_count": null,
   "id": "17c21c74",
   "metadata": {},
   "outputs": [],
   "source": []
  }
 ],
 "metadata": {
  "kernelspec": {
   "display_name": "base",
   "language": "python",
   "name": "python3"
  },
  "language_info": {
   "codemirror_mode": {
    "name": "ipython",
    "version": 3
   },
   "file_extension": ".py",
   "mimetype": "text/x-python",
   "name": "python",
   "nbconvert_exporter": "python",
   "pygments_lexer": "ipython3",
   "version": "3.8.20"
  }
 },
 "nbformat": 4,
 "nbformat_minor": 5
}
