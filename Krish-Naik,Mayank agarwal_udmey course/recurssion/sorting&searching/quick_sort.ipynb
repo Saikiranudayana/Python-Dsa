{
 "cells": [
  {
   "cell_type": "code",
   "execution_count": 2,
   "id": "51da2883",
   "metadata": {},
   "outputs": [
    {
     "ename": "KeyboardInterrupt",
     "evalue": "",
     "output_type": "error",
     "traceback": [
      "\u001b[1;31m---------------------------------------------------------------------------\u001b[0m",
      "\u001b[1;31mKeyboardInterrupt\u001b[0m                         Traceback (most recent call last)",
      "Cell \u001b[1;32mIn[2], line 40\u001b[0m\n\u001b[0;32m     37\u001b[0m     \u001b[38;5;28;01mreturn\u001b[39;00m\n\u001b[0;32m     39\u001b[0m l\u001b[38;5;241m=\u001b[39m[\u001b[38;5;241m3\u001b[39m,\u001b[38;5;241m6\u001b[39m,\u001b[38;5;241m7\u001b[39m,\u001b[38;5;241m2\u001b[39m,\u001b[38;5;241m1\u001b[39m,\u001b[38;5;241m4\u001b[39m,\u001b[38;5;241m5\u001b[39m]\n\u001b[1;32m---> 40\u001b[0m \u001b[43mquicksort\u001b[49m\u001b[43m(\u001b[49m\u001b[43ml\u001b[49m\u001b[43m,\u001b[49m\u001b[38;5;241;43m0\u001b[39;49m\u001b[43m,\u001b[49m\u001b[38;5;28;43mlen\u001b[39;49m\u001b[43m(\u001b[49m\u001b[43ml\u001b[49m\u001b[43m)\u001b[49m\u001b[38;5;241;43m-\u001b[39;49m\u001b[38;5;241;43m1\u001b[39;49m\u001b[43m)\u001b[49m\n\u001b[0;32m     41\u001b[0m \u001b[38;5;28mprint\u001b[39m(l)\n",
      "Cell \u001b[1;32mIn[2], line 34\u001b[0m, in \u001b[0;36mquicksort\u001b[1;34m(l, s, e)\u001b[0m\n\u001b[0;32m     30\u001b[0m \u001b[38;5;28;01mif\u001b[39;00m(s\u001b[38;5;241m>\u001b[39m\u001b[38;5;241m=\u001b[39me):\n\u001b[0;32m     31\u001b[0m     \u001b[38;5;28;01mreturn\u001b[39;00m \n\u001b[1;32m---> 34\u001b[0m pivot \u001b[38;5;241m=\u001b[39m\u001b[43mpartition\u001b[49m\u001b[43m(\u001b[49m\u001b[43ml\u001b[49m\u001b[43m,\u001b[49m\u001b[43ms\u001b[49m\u001b[43m,\u001b[49m\u001b[43me\u001b[49m\u001b[43m)\u001b[49m\n\u001b[0;32m     35\u001b[0m quicksort(l,s,pivot\u001b[38;5;241m-\u001b[39m\u001b[38;5;241m1\u001b[39m)\n\u001b[0;32m     36\u001b[0m quicksort(l,pivot\u001b[38;5;241m+\u001b[39m\u001b[38;5;241m1\u001b[39m,e)\n",
      "Cell \u001b[1;32mIn[2], line 7\u001b[0m, in \u001b[0;36mpartition\u001b[1;34m(l, s, e)\u001b[0m\n\u001b[0;32m      5\u001b[0m \u001b[38;5;28;01mwhile\u001b[39;00m (i\u001b[38;5;241m<\u001b[39m\u001b[38;5;241m=\u001b[39me\u001b[38;5;241m-\u001b[39ms):\n\u001b[0;32m      6\u001b[0m     \u001b[38;5;28;01mif\u001b[39;00m (l[i]\u001b[38;5;241m<\u001b[39mpivot):\n\u001b[1;32m----> 7\u001b[0m         right \u001b[38;5;241m+\u001b[39m\u001b[38;5;241m=\u001b[39m\u001b[38;5;241m1\u001b[39m\n\u001b[0;32m      8\u001b[0m l[right],l[e]\u001b[38;5;241m=\u001b[39m l[e],l[right]\n\u001b[0;32m     10\u001b[0m pivot \u001b[38;5;241m=\u001b[39m right \n",
      "\u001b[1;31mKeyboardInterrupt\u001b[0m: "
     ]
    }
   ],
   "source": [
    "def partition(l,s,e):\n",
    "    pivot = l[e]\n",
    "    i = s\n",
    "    right =s \n",
    "    while (i<=e-s):\n",
    "        if (l[i]<pivot):\n",
    "            right +=1\n",
    "    l[right],l[e]= l[e],l[right]\n",
    "    \n",
    "    pivot = right \n",
    "    \n",
    "    ##now make surer that everthyiung smaller than pivot and greater to right\n",
    "    \n",
    "    start  = s\n",
    "    end = e\n",
    "    while (start<pivot and end>pivot):\n",
    "        if(l[start]<pivot):\n",
    "            start+=1\n",
    "        elif (l[end]>=pivot):\n",
    "            end+=1\n",
    "        else:\n",
    "            l[end],l[end]= l[end],l[start]\n",
    "            start+=1\n",
    "            end-=1\n",
    "            \n",
    "            \n",
    "\n",
    "\n",
    "def quicksort(l,s,e):\n",
    "    if(s>=e):\n",
    "        return \n",
    "    \n",
    "    \n",
    "    pivot =partition(l,s,e)\n",
    "    quicksort(l,s,pivot-1)\n",
    "    quicksort(l,pivot+1,e)\n",
    "    return\n",
    "\n",
    "l=[3,6,7,2,1,4,5]\n",
    "quicksort(l,0,len(l)-1)\n",
    "print(l)"
   ]
  },
  {
   "cell_type": "code",
   "execution_count": null,
   "id": "e863c5db",
   "metadata": {},
   "outputs": [
    {
     "name": "stdout",
     "output_type": "stream",
     "text": [
      "[1, 2, 3, 4, 5, 6, 7]\n"
     ]
    }
   ],
   "source": [
    "def partition(l, s, e):\n",
    "    pivot = l[e]\n",
    "    i = s - 1  # Index for the smaller element\n",
    "    for j in range(s, e):  # Traverse through the array\n",
    "        if l[j] < pivot:\n",
    "            i += 1\n",
    "            l[i], l[j] = l[j], l[i]  # Swap if element is smaller than pivot\n",
    "    l[i + 1], l[e] = l[e], l[i + 1]  # Place pivot in the correct position\n",
    "    return i + 1  # Return the pivot index\n",
    "\n",
    "def quicksort(l, s, e):\n",
    "    if s < e:\n",
    "        pivot = partition(l, s, e)  # Partition the array\n",
    "        quicksort(l, s, pivot - 1)  # Sort the left subarray\n",
    "        quicksort(l, pivot + 1, e)  # Sort the right subarray\n",
    "\n",
    "# Example usage\n",
    "l = [3, 6, 7, 2, 1, 4, 5]\n",
    "quicksort(l, 0, len(l) - 1)\n",
    "print(l)  # Output: [1, 2, 3, 4, 5, 6, 7]"
   ]
  },
  {
   "cell_type": "code",
   "execution_count": null,
   "id": "d13e12d0",
   "metadata": {},
   "outputs": [],
   "source": []
  }
 ],
 "metadata": {
  "kernelspec": {
   "display_name": "base",
   "language": "python",
   "name": "python3"
  },
  "language_info": {
   "codemirror_mode": {
    "name": "ipython",
    "version": 3
   },
   "file_extension": ".py",
   "mimetype": "text/x-python",
   "name": "python",
   "nbconvert_exporter": "python",
   "pygments_lexer": "ipython3",
   "version": "3.8.20"
  }
 },
 "nbformat": 4,
 "nbformat_minor": 5
}
