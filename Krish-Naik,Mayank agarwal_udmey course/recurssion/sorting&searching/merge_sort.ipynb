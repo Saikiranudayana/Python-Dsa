{
 "cells": [
  {
   "cell_type": "code",
   "execution_count": 6,
   "id": "7b262a6e",
   "metadata": {},
   "outputs": [
    {
     "data": {
      "text/plain": [
       "[6, 5, 12, 10, 9, 6]"
      ]
     },
     "execution_count": 6,
     "metadata": {},
     "output_type": "execute_result"
    }
   ],
   "source": [
    "def merge(l,s,m,e):\n",
    "    i =s \n",
    "    j = m+1\n",
    "    ans = []\n",
    "    \n",
    "    while (i<=m and j<=e):\n",
    "        if (l[i]<l[j]):\n",
    "            ans.append(l[i])\n",
    "            i+=1\n",
    "        elif (l[i]>l[j]):\n",
    "            ans.append(l[j])\n",
    "            j+=1\n",
    "        else:\n",
    "            ans.append(l[i])\n",
    "            ans.append(l[j])\n",
    "            i+=1\n",
    "            j+=1\n",
    "    while i<=m:\n",
    "        ans.append(l[i])\n",
    "        i+=1\n",
    "    while j<=e:\n",
    "        ans.append(l[j])\n",
    "        j+=1     \n",
    "    startofans = 0\n",
    "    startofmylist =5\n",
    "    while (startofmylist<=e):\n",
    "        l[startofmylist]=ans[startofans]\n",
    "        startofmylist+=1\n",
    "        startofans+=1  \n",
    "    return\n",
    "    \n",
    "def mergesorthelper(l,s,e):\n",
    "    if s>=e:\n",
    "        return \n",
    "    \n",
    "    m= s+(e-s)//2\n",
    "    \n",
    "    mergesorthelper(l,s,m)\n",
    "    mergesorthelper(l,m+1,e)\n",
    "    merge(l,s,m,e)\n",
    "\n",
    "def mergesort(l1):\n",
    "    mergesorthelper(l,0,len(l1)-1)\n",
    "    return l1\n",
    "\n",
    "\n",
    "l= [6,5,12,10,9,1]\n",
    "mergesort(l)\n"
   ]
  },
  {
   "cell_type": "code",
   "execution_count": 5,
   "id": "b914fad1",
   "metadata": {},
   "outputs": [
    {
     "name": "stdout",
     "output_type": "stream",
     "text": [
      "[1, 5, 6, 9, 10, 12]\n"
     ]
    }
   ],
   "source": [
    "def merge(l, s, m, e):\n",
    "    i = s\n",
    "    j = m + 1\n",
    "    ans = []\n",
    "    \n",
    "    while i <= m and j <= e:\n",
    "        if l[i] < l[j]:\n",
    "            ans.append(l[i])\n",
    "            i += 1\n",
    "        elif l[i] > l[j]:\n",
    "            ans.append(l[j])\n",
    "            j += 1\n",
    "        else:  # l[i] == l[j]\n",
    "            ans.append(l[i])\n",
    "            ans.append(l[j])\n",
    "            i += 1\n",
    "            j += 1\n",
    "    \n",
    "    while i <= m:\n",
    "        ans.append(l[i])\n",
    "        i += 1\n",
    "    while j <= e:\n",
    "        ans.append(l[j])\n",
    "        j += 1\n",
    "    \n",
    "    # Copy the sorted elements back to the original list\n",
    "    startofans = 0\n",
    "    startofmylist = s\n",
    "    while startofmylist <= e:\n",
    "        l[startofmylist] = ans[startofans]\n",
    "        startofmylist += 1\n",
    "        startofans += 1\n",
    "\n",
    "def mergesorthelper(l, s, e):\n",
    "    if s >= e:  # Base case: single element or invalid range\n",
    "        return\n",
    "    \n",
    "    m = s + (e - s) // 2\n",
    "    \n",
    "    mergesorthelper(l, s, m)\n",
    "    mergesorthelper(l, m + 1, e)\n",
    "    merge(l, s, m, e)\n",
    "\n",
    "def mergesort(l1):\n",
    "    mergesorthelper(l1, 0, len(l1) - 1)\n",
    "    return l1\n",
    "\n",
    "# Example usage\n",
    "l = [6, 5, 12, 10, 9, 1]\n",
    "mergesort(l)\n",
    "print(l)"
   ]
  },
  {
   "cell_type": "code",
   "execution_count": null,
   "id": "9b2a7ea4",
   "metadata": {},
   "outputs": [],
   "source": []
  }
 ],
 "metadata": {
  "kernelspec": {
   "display_name": "base",
   "language": "python",
   "name": "python3"
  },
  "language_info": {
   "codemirror_mode": {
    "name": "ipython",
    "version": 3
   },
   "file_extension": ".py",
   "mimetype": "text/x-python",
   "name": "python",
   "nbconvert_exporter": "python",
   "pygments_lexer": "ipython3",
   "version": "3.8.20"
  }
 },
 "nbformat": 4,
 "nbformat_minor": 5
}
