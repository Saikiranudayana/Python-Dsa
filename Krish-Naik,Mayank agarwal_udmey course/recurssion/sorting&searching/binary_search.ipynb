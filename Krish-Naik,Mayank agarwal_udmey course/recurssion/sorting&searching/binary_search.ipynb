{
 "cells": [
  {
   "cell_type": "code",
   "execution_count": 2,
   "id": "4096be4f",
   "metadata": {},
   "outputs": [
    {
     "name": "stdout",
     "output_type": "stream",
     "text": [
      "True\n"
     ]
    }
   ],
   "source": [
    "def binarysearchhelper(l,x,s,e):\n",
    "    if (s>e):\n",
    "        return False\n",
    "    m= s+(e-s)//2\n",
    "    \n",
    "    if m==x:\n",
    "        return True\n",
    "    if(x>l[m]):\n",
    "        return binarysearchhelper(l,x,m+1,e)\n",
    "    return binarysearchhelper(l,x,s,m-1) \n",
    "\n",
    "\n",
    "\n",
    "def binary_search(l,x):\n",
    "    return binarysearchhelper(l,x,0,len(l)-1)\n",
    "\n",
    "\n",
    "print(binary_search([1,2,3,4,5,6],2))"
   ]
  },
  {
   "cell_type": "code",
   "execution_count": null,
   "id": "9a06cf79",
   "metadata": {},
   "outputs": [],
   "source": []
  }
 ],
 "metadata": {
  "kernelspec": {
   "display_name": "base",
   "language": "python",
   "name": "python3"
  },
  "language_info": {
   "codemirror_mode": {
    "name": "ipython",
    "version": 3
   },
   "file_extension": ".py",
   "mimetype": "text/x-python",
   "name": "python",
   "nbconvert_exporter": "python",
   "pygments_lexer": "ipython3",
   "version": "3.8.20"
  }
 },
 "nbformat": 4,
 "nbformat_minor": 5
}
