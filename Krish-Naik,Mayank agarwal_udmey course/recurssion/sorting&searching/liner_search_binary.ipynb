{
 "cells": [
  {
   "cell_type": "code",
   "execution_count": 5,
   "id": "5e58b1b9",
   "metadata": {},
   "outputs": [
    {
     "name": "stdout",
     "output_type": "stream",
     "text": [
      "False\n"
     ]
    }
   ],
   "source": [
    "def linearsearch(l,x,index):\n",
    "    if (len(l)==index):\n",
    "        return False\n",
    "    \n",
    "    answer = linearsearch(l,x,index+1)\n",
    "    \n",
    "    # if answer==True:\n",
    "        # return True\n",
    "    # \n",
    "    # if l[index]==x:\n",
    "        # return True\n",
    "    # return False\n",
    "    return l[index]==x or answer\n",
    "     \n",
    "\n",
    "\n",
    "\n",
    "ans = linearsearch([1,2,3,5,6,7],9,0)\n",
    "print(ans)"
   ]
  },
  {
   "cell_type": "code",
   "execution_count": null,
   "id": "78690097",
   "metadata": {},
   "outputs": [],
   "source": [
    "def linearsearch(l,x,index):\n",
    "    if (len(l)==index):\n",
    "        return False\n",
    "    \n",
    "    answer = linearsearch(l,x,index+1)\n",
    "    \n",
    "    # if answer==True:\n",
    "        # return True\n",
    "    # \n",
    "    # if l[index]==x:\n",
    "        # return True\n",
    "    # return False\n",
    "    return l[index]==x or answer\n",
    "     \n",
    "\n",
    "\n",
    "\n",
    "ans = linearsearch([1,2,3,5,6,7],9,0)\n",
    "print(ans)"
   ]
  }
 ],
 "metadata": {
  "kernelspec": {
   "display_name": "base",
   "language": "python",
   "name": "python3"
  },
  "language_info": {
   "codemirror_mode": {
    "name": "ipython",
    "version": 3
   },
   "file_extension": ".py",
   "mimetype": "text/x-python",
   "name": "python",
   "nbconvert_exporter": "python",
   "pygments_lexer": "ipython3",
   "version": "3.8.20"
  }
 },
 "nbformat": 4,
 "nbformat_minor": 5
}
