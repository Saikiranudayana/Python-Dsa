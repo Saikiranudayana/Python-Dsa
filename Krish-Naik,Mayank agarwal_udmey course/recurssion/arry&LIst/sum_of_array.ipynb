{
 "cells": [
  {
   "cell_type": "code",
   "execution_count": 1,
   "id": "1e10292e",
   "metadata": {},
   "outputs": [
    {
     "name": "stdout",
     "output_type": "stream",
     "text": [
      "15\n"
     ]
    }
   ],
   "source": [
    "def sumofarray(arr):\n",
    "    if len(arr)==1:\n",
    "        return arr[0]\n",
    "    sumofleftover = sumofarray(arr[1:])\n",
    "    ans = sumofleftover+arr[0]\n",
    "    return ans  \n",
    "\n",
    "\n",
    "print(sumofarray([1,2,3,4,5]))"
   ]
  },
  {
   "cell_type": "code",
   "execution_count": 2,
   "id": "6d84ae75",
   "metadata": {},
   "outputs": [
    {
     "name": "stdout",
     "output_type": "stream",
     "text": [
      "15\n"
     ]
    }
   ],
   "source": [
    "def sumofarray(arr):\n",
    "    if len(arr)==0:\n",
    "        return 0\n",
    "    ans = arr[0] + sumofarray(arr[1:])\n",
    "    \n",
    "    return ans   \n",
    "\n",
    "\n",
    "print(sumofarray([1,2,3,4,5]))"
   ]
  },
  {
   "cell_type": "code",
   "execution_count": 4,
   "id": "21d5dabb",
   "metadata": {},
   "outputs": [
    {
     "name": "stdout",
     "output_type": "stream",
     "text": [
      "15\n"
     ]
    }
   ],
   "source": [
    "def sumofarray_tail(l1,accumulator=0):\n",
    "    if (len(l1)==0):\n",
    "        return accumulator\n",
    "    accumulator += l1[0]\n",
    "    \n",
    "    return sumofarray_tail(l1[1:],accumulator)\n",
    "\n",
    "\n",
    "print(sumofarray_tail([1,2,3,4,5]))"
   ]
  },
  {
   "cell_type": "code",
   "execution_count": null,
   "id": "2b94453f",
   "metadata": {},
   "outputs": [],
   "source": []
  }
 ],
 "metadata": {
  "kernelspec": {
   "display_name": "base",
   "language": "python",
   "name": "python3"
  },
  "language_info": {
   "codemirror_mode": {
    "name": "ipython",
    "version": 3
   },
   "file_extension": ".py",
   "mimetype": "text/x-python",
   "name": "python",
   "nbconvert_exporter": "python",
   "pygments_lexer": "ipython3",
   "version": "3.8.20"
  }
 },
 "nbformat": 4,
 "nbformat_minor": 5
}
