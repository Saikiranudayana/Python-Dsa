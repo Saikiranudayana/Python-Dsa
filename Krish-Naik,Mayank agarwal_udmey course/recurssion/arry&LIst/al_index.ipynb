{
 "cells": [
  {
   "cell_type": "code",
   "execution_count": null,
   "id": "f10cb8e2",
   "metadata": {},
   "outputs": [
    {
     "data": {
      "text/plain": [
       "-1"
      ]
     },
     "execution_count": 9,
     "metadata": {},
     "output_type": "execute_result"
    }
   ],
   "source": [
    "def printallindexs(arr,x,i):\n",
    "    if len(arr)==i:\n",
    "        return \n",
    "    if arr[i]==x:\n",
    "        print(0)\n",
    "    return printallindexs(arr,x,i+1)\n",
    "    \n",
    "    \n",
    "\n",
    "\n",
    "printallindexs([3,2,5,2],12,0)"
   ]
  },
  {
   "cell_type": "code",
   "execution_count": 12,
   "id": "34b41178",
   "metadata": {},
   "outputs": [
    {
     "name": "stdout",
     "output_type": "stream",
     "text": [
      "1\n",
      "3\n"
     ]
    }
   ],
   "source": [
    "##using helper function\n",
    "\n",
    "def printallindexshelper(l,x,i):\n",
    "    if len(l)==i:\n",
    "        return\n",
    "    if l[i]==x:\n",
    "        print(i)\n",
    "    printallindexshelper(l,x,i+1)\n",
    "    \n",
    "def printallindexs(l,x):\n",
    "    printallindexshelper(l,x,0)\n",
    "    \n",
    "\n",
    "printallindexs([3,2,5,2],2)\n",
    "    \n",
    "    \n",
    "    "
   ]
  },
  {
   "cell_type": "code",
   "execution_count": 14,
   "id": "63ecb42c",
   "metadata": {},
   "outputs": [
    {
     "name": "stdout",
     "output_type": "stream",
     "text": [
      "[1, 3, 5]\n"
     ]
    }
   ],
   "source": [
    "##Update all indices in aprovide list\n",
    "\n",
    "def updateallindices(l,x,index,anslist):\n",
    "    if len(l)==index:\n",
    "        return\n",
    "    if (l[index]==x):\n",
    "        anslist.append(index)\n",
    "    updateallindices(l,x,index+1,anslist)\n",
    "\n",
    "anslist=[]\n",
    "\n",
    "updateallindices([3,2,5,2,8,2,1],2,0,anslist)\n",
    "print(anslist)\n",
    "\n"
   ]
  },
  {
   "cell_type": "code",
   "execution_count": 16,
   "id": "3c37288c",
   "metadata": {},
   "outputs": [
    {
     "name": "stdout",
     "output_type": "stream",
     "text": [
      "[5, 3, 1]\n"
     ]
    }
   ],
   "source": [
    "##Update all indices in aprovide list\n",
    "\n",
    "def updateallindices(l,x,index,anslist):\n",
    "    if len(l)==index:\n",
    "        return\n",
    "    updateallindices(l,x,index+1,anslist)\n",
    "    if (l[index]==x):\n",
    "        anslist.append(index)\n",
    "    \n",
    "\n",
    "anslist=[]\n",
    "\n",
    "updateallindices([3,2,5,2,8,2,1],2,0,anslist)\n",
    "print(anslist)\n",
    "\n"
   ]
  },
  {
   "cell_type": "code",
   "execution_count": null,
   "id": "dbe3645b",
   "metadata": {},
   "outputs": [],
   "source": []
  }
 ],
 "metadata": {
  "kernelspec": {
   "display_name": "base",
   "language": "python",
   "name": "python3"
  },
  "language_info": {
   "codemirror_mode": {
    "name": "ipython",
    "version": 3
   },
   "file_extension": ".py",
   "mimetype": "text/x-python",
   "name": "python",
   "nbconvert_exporter": "python",
   "pygments_lexer": "ipython3",
   "version": "3.8.20"
  }
 },
 "nbformat": 4,
 "nbformat_minor": 5
}
