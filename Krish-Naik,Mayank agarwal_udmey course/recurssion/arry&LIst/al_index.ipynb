{
 "cells": [
  {
   "cell_type": "code",
   "execution_count": 9,
   "id": "f10cb8e2",
   "metadata": {},
   "outputs": [
    {
     "data": {
      "text/plain": [
       "-1"
      ]
     },
     "execution_count": 9,
     "metadata": {},
     "output_type": "execute_result"
    }
   ],
   "source": [
    "def printallindexs(arr,x,i):\n",
    "    if len(arr)==i:\n",
    "        return -1\n",
    "    if arr[i]==x:\n",
    "        print(0)\n",
    "    return printallindexs(arr,x,i+1)\n",
    "    \n",
    "    \n",
    "\n",
    "\n",
    "printallindexs([3,2,5,2],12,0)"
   ]
  },
  {
   "cell_type": "code",
   "execution_count": null,
   "id": "34b41178",
   "metadata": {},
   "outputs": [],
   "source": []
  }
 ],
 "metadata": {
  "kernelspec": {
   "display_name": "base",
   "language": "python",
   "name": "python3"
  },
  "language_info": {
   "codemirror_mode": {
    "name": "ipython",
    "version": 3
   },
   "file_extension": ".py",
   "mimetype": "text/x-python",
   "name": "python",
   "nbconvert_exporter": "python",
   "pygments_lexer": "ipython3",
   "version": "3.8.20"
  }
 },
 "nbformat": 4,
 "nbformat_minor": 5
}
