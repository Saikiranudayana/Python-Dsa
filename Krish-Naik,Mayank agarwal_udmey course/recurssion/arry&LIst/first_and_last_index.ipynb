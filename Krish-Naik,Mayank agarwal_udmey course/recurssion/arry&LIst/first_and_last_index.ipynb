{
 "cells": [
  {
   "cell_type": "code",
   "execution_count": 4,
   "id": "ed2a4d77",
   "metadata": {},
   "outputs": [
    {
     "name": "stdout",
     "output_type": "stream",
     "text": [
      "1\n",
      "-1\n",
      "5\n"
     ]
    }
   ],
   "source": [
    "def firstindex(l1,x):\n",
    "    if len(l1)==0:\n",
    "        return -1 \n",
    "    if (l1[0]==x):\n",
    "        return 0\n",
    "    ans = firstindex(l1[1:],x)\n",
    "    if ans==-1:\n",
    "        return ans\n",
    "    else:\n",
    "        return ans+1\n",
    "\n",
    "print(firstindex([3,2,5,2,8,1],2))\n",
    "print(firstindex([3,2,5,2,8,1],10))\n",
    "print(firstindex([3,2,5,2,8,1],1))"
   ]
  },
  {
   "cell_type": "code",
   "execution_count": 10,
   "id": "a381db22",
   "metadata": {},
   "outputs": [
    {
     "name": "stdout",
     "output_type": "stream",
     "text": [
      "1\n",
      "-1\n",
      "5\n"
     ]
    }
   ],
   "source": [
    "##To find the last index\n",
    "def lastindex(l1,x):\n",
    "    if len(l1)==0:\n",
    "        return -1 \n",
    "    ans = lastindex(l1[:-1],x)\n",
    "    if ans!=-1:\n",
    "        return ans\n",
    "    if l1[-1]==x:\n",
    "        return len(l1) -1\n",
    "    return -1\n",
    "\n",
    "print(lastindex([3,2,5,2,8,1],2))\n",
    "print(lastindex([3,2,5,2,8,1],10))\n",
    "print(lastindex([3,2,5,2,8,1],1))\n"
   ]
  },
  {
   "cell_type": "code",
   "execution_count": null,
   "id": "7c1251c7",
   "metadata": {},
   "outputs": [],
   "source": []
  }
 ],
 "metadata": {
  "kernelspec": {
   "display_name": "base",
   "language": "python",
   "name": "python3"
  },
  "language_info": {
   "codemirror_mode": {
    "name": "ipython",
    "version": 3
   },
   "file_extension": ".py",
   "mimetype": "text/x-python",
   "name": "python",
   "nbconvert_exporter": "python",
   "pygments_lexer": "ipython3",
   "version": "3.8.20"
  }
 },
 "nbformat": 4,
 "nbformat_minor": 5
}
