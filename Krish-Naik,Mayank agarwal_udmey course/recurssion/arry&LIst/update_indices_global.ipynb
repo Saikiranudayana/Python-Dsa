{
 "cells": [
  {
   "cell_type": "code",
   "execution_count": 2,
   "id": "1920b080",
   "metadata": {},
   "outputs": [
    {
     "name": "stdout",
     "output_type": "stream",
     "text": [
      "[5, 3, 1]\n"
     ]
    }
   ],
   "source": [
    "##Update all indices in a global  list\n",
    "anslist=[]\n",
    "def updateallindices(l,x,index):\n",
    "    if len(l)==index:\n",
    "        return\n",
    "    updateallindices(l,x,index+1)\n",
    "    if (l[index]==x):\n",
    "        anslist.append(index)\n",
    "    \n",
    "\n",
    "\n",
    "\n",
    "updateallindices([3,2,5,2,8,2,1],2,0)\n",
    "print(anslist)\n",
    "\n"
   ]
  },
  {
   "cell_type": "code",
   "execution_count": null,
   "id": "5c1ed745",
   "metadata": {},
   "outputs": [],
   "source": []
  }
 ],
 "metadata": {
  "kernelspec": {
   "display_name": "base",
   "language": "python",
   "name": "python3"
  },
  "language_info": {
   "codemirror_mode": {
    "name": "ipython",
    "version": 3
   },
   "file_extension": ".py",
   "mimetype": "text/x-python",
   "name": "python",
   "nbconvert_exporter": "python",
   "pygments_lexer": "ipython3",
   "version": "3.8.20"
  }
 },
 "nbformat": 4,
 "nbformat_minor": 5
}
