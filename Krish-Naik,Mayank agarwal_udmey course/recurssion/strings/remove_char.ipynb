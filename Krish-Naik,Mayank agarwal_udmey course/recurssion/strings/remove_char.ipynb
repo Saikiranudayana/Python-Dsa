{
 "cells": [
  {
   "cell_type": "code",
   "execution_count": 1,
   "id": "5612feab",
   "metadata": {},
   "outputs": [
    {
     "data": {
      "text/plain": [
       "'Good Morning'"
      ]
     },
     "execution_count": 1,
     "metadata": {},
     "output_type": "execute_result"
    }
   ],
   "source": [
    "def remove_character(s,ch):\n",
    "    if len(s)==0 or s=='':\n",
    "        return s\n",
    "    smallans = remove_character(s[1:],ch) \n",
    "    \n",
    "    if s[0]==ch:\n",
    "        return smallans\n",
    "    else:\n",
    "        return s[0]+smallans\n",
    "\n",
    "s= \"Goodzz Morningzz\"\n",
    "remove_character(s,'z')"
   ]
  },
  {
   "cell_type": "code",
   "execution_count": 2,
   "id": "c0034089",
   "metadata": {},
   "outputs": [
    {
     "data": {
      "text/plain": [
       "'abcc'"
      ]
     },
     "execution_count": 2,
     "metadata": {},
     "output_type": "execute_result"
    }
   ],
   "source": [
    "def remove_character(s,ch):\n",
    "    if len(s)==0 or s=='':\n",
    "        return s\n",
    "    smallans = remove_character(s[1:],ch) \n",
    "    \n",
    "    if s[0]==ch:\n",
    "        return smallans\n",
    "    else:\n",
    "        return s[0]+smallans\n",
    "\n",
    "s= \"abcczz\"\n",
    "remove_character(s,'z')"
   ]
  },
  {
   "cell_type": "code",
   "execution_count": null,
   "id": "2a422cd6",
   "metadata": {},
   "outputs": [],
   "source": []
  }
 ],
 "metadata": {
  "kernelspec": {
   "display_name": "base",
   "language": "python",
   "name": "python3"
  },
  "language_info": {
   "codemirror_mode": {
    "name": "ipython",
    "version": 3
   },
   "file_extension": ".py",
   "mimetype": "text/x-python",
   "name": "python",
   "nbconvert_exporter": "python",
   "pygments_lexer": "ipython3",
   "version": "3.8.20"
  }
 },
 "nbformat": 4,
 "nbformat_minor": 5
}
