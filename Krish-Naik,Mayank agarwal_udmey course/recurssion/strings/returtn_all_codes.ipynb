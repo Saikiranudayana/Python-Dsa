{
 "cells": [
  {
   "cell_type": "code",
   "execution_count": 2,
   "id": "5d4d3ab4",
   "metadata": {},
   "outputs": [
    {
     "name": "stdout",
     "output_type": "stream",
     "text": [
      "['aabc', 'aaw', 'alc', 'kbc', 'kw']\n"
     ]
    }
   ],
   "source": [
    "def get_char(value):\n",
    "    if value<=0 and value>26:\n",
    "        return \"\"\n",
    "    return chr(97+value-1)\n",
    "\n",
    "\n",
    "def return_all_codes(input):\n",
    "    if input =='':\n",
    "        return ['']\n",
    "    if (len(input)==1):\n",
    "        singlechar= get_char(int(input))\n",
    "        return [singlechar]\n",
    "        \n",
    "    singledigit = int(input[0])\n",
    "    doubledigit = int(input[0:2])\n",
    "    final= []\n",
    "    \n",
    "    answithoutfirstdigit = return_all_codes(input[1:])\n",
    "    \n",
    "    for i in answithoutfirstdigit:\n",
    "        final.append(get_char(singledigit)+i)\n",
    "        \n",
    "    if(doubledigit>=10 and doubledigit<=26):\n",
    "        answithoutfirstdigit = return_all_codes(input[2:])\n",
    "    \n",
    "        for i in answithoutfirstdigit:\n",
    "            final.append(get_char(doubledigit)+i)\n",
    "            \n",
    "    return final\n",
    "        \n",
    "        \n",
    "        \n",
    "\n",
    "\n",
    "ans = return_all_codes('1123')\n",
    "print(ans)\n"
   ]
  },
  {
   "cell_type": "code",
   "execution_count": null,
   "id": "349cffd9",
   "metadata": {},
   "outputs": [],
   "source": []
  }
 ],
 "metadata": {
  "kernelspec": {
   "display_name": "base",
   "language": "python",
   "name": "python3"
  },
  "language_info": {
   "codemirror_mode": {
    "name": "ipython",
    "version": 3
   },
   "file_extension": ".py",
   "mimetype": "text/x-python",
   "name": "python",
   "nbconvert_exporter": "python",
   "pygments_lexer": "ipython3",
   "version": "3.8.20"
  }
 },
 "nbformat": 4,
 "nbformat_minor": 5
}
