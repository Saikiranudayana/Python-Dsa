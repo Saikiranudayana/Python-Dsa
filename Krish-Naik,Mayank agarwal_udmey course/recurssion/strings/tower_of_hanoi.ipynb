{
 "cells": [
  {
   "cell_type": "code",
   "execution_count": 4,
   "id": "29c794bd",
   "metadata": {},
   "outputs": [
    {
     "name": "stdout",
     "output_type": "stream",
     "text": [
      "s -----> d\n",
      "s ---> a\n",
      "d -----> a\n",
      "s ---> d\n",
      "a -----> s\n",
      "a ---> d\n",
      "s -----> d\n"
     ]
    }
   ],
   "source": [
    "def tower_of_hanoi(n,source,destination,auxilary):\n",
    "    if n==0:\n",
    "        return\n",
    "    if n==1:\n",
    "        print(source,'----->',destination)\n",
    "        return\n",
    "        \n",
    "    tower_of_hanoi(n-1,source,auxilary,destination)\n",
    "    print(source,'--->',destination)\n",
    "    tower_of_hanoi(n-1,auxilary,destination,source)\n",
    "\n",
    "\n",
    "n= 3\n",
    "tower_of_hanoi(n,'s','d','a')"
   ]
  },
  {
   "cell_type": "code",
   "execution_count": null,
   "id": "0c5e89f7",
   "metadata": {},
   "outputs": [],
   "source": []
  },
  {
   "cell_type": "code",
   "execution_count": null,
   "id": "1286a2bc",
   "metadata": {},
   "outputs": [],
   "source": []
  }
 ],
 "metadata": {
  "kernelspec": {
   "display_name": "base",
   "language": "python",
   "name": "python3"
  },
  "language_info": {
   "codemirror_mode": {
    "name": "ipython",
    "version": 3
   },
   "file_extension": ".py",
   "mimetype": "text/x-python",
   "name": "python",
   "nbconvert_exporter": "python",
   "pygments_lexer": "ipython3",
   "version": "3.8.20"
  }
 },
 "nbformat": 4,
 "nbformat_minor": 5
}
