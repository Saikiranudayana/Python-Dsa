{
 "cells": [
  {
   "cell_type": "code",
   "execution_count": null,
   "id": "0e27c51a",
   "metadata": {},
   "outputs": [],
   "source": [
    "def permutation(s,takensofar):\n",
    "    if len(s)==0:\n",
    "        print(takensofar)\n",
    "        return\n",
    "    first = s[0]\n",
    "    smallinput = s[1:]\n",
    "    for i in range(0,len(takensofar)+1):\n",
    "        permutation(smallinput,takensofar[0:i]+first+takensofar[i:])\n",
    "        \n",
    "    return \n",
    "    \n",
    "     \n",
    "\n",
    "\n",
    "s= 'abc'\n",
    "permutation(s,'')"
   ]
  },
  {
   "cell_type": "code",
   "execution_count": 9,
   "id": "5a023d3b",
   "metadata": {},
   "outputs": [
    {
     "ename": "IndexError",
     "evalue": "string index out of range",
     "output_type": "error",
     "traceback": [
      "\u001b[1;31m---------------------------------------------------------------------------\u001b[0m",
      "\u001b[1;31mIndexError\u001b[0m                                Traceback (most recent call last)",
      "Cell \u001b[1;32mIn[9], line 20\u001b[0m\n\u001b[0;32m     13\u001b[0m             ans\u001b[38;5;241m.\u001b[39mappend(i[\u001b[38;5;241m0\u001b[39m:postion]\u001b[38;5;241m+\u001b[39mcurr\u001b[38;5;241m+\u001b[39mi[postion])\n\u001b[0;32m     14\u001b[0m     \u001b[38;5;28;01mreturn\u001b[39;00m ans\n\u001b[1;32m---> 20\u001b[0m ans \u001b[38;5;241m=\u001b[39m\u001b[43mpermutaions\u001b[49m\u001b[43m(\u001b[49m\u001b[38;5;124;43m'\u001b[39;49m\u001b[38;5;124;43mabc\u001b[39;49m\u001b[38;5;124;43m'\u001b[39;49m\u001b[43m)\u001b[49m\n\u001b[0;32m     21\u001b[0m \u001b[38;5;28mprint\u001b[39m(ans)\n",
      "Cell \u001b[1;32mIn[9], line 8\u001b[0m, in \u001b[0;36mpermutaions\u001b[1;34m(s)\u001b[0m\n\u001b[0;32m      6\u001b[0m     \u001b[38;5;28;01mreturn\u001b[39;00m [\u001b[38;5;124m'\u001b[39m\u001b[38;5;124m'\u001b[39m]\n\u001b[0;32m      7\u001b[0m curr \u001b[38;5;241m=\u001b[39m s[\u001b[38;5;241m0\u001b[39m]\n\u001b[1;32m----> 8\u001b[0m smallstring \u001b[38;5;241m=\u001b[39m \u001b[43mpermutaions\u001b[49m\u001b[43m(\u001b[49m\u001b[43ms\u001b[49m\u001b[43m[\u001b[49m\u001b[38;5;241;43m1\u001b[39;49m\u001b[43m:\u001b[49m\u001b[43m]\u001b[49m\u001b[43m)\u001b[49m\n\u001b[0;32m      9\u001b[0m ans \u001b[38;5;241m=\u001b[39m []\n\u001b[0;32m     11\u001b[0m \u001b[38;5;28;01mfor\u001b[39;00m i \u001b[38;5;129;01min\u001b[39;00m smallstring:\n",
      "Cell \u001b[1;32mIn[9], line 8\u001b[0m, in \u001b[0;36mpermutaions\u001b[1;34m(s)\u001b[0m\n\u001b[0;32m      6\u001b[0m     \u001b[38;5;28;01mreturn\u001b[39;00m [\u001b[38;5;124m'\u001b[39m\u001b[38;5;124m'\u001b[39m]\n\u001b[0;32m      7\u001b[0m curr \u001b[38;5;241m=\u001b[39m s[\u001b[38;5;241m0\u001b[39m]\n\u001b[1;32m----> 8\u001b[0m smallstring \u001b[38;5;241m=\u001b[39m \u001b[43mpermutaions\u001b[49m\u001b[43m(\u001b[49m\u001b[43ms\u001b[49m\u001b[43m[\u001b[49m\u001b[38;5;241;43m1\u001b[39;49m\u001b[43m:\u001b[49m\u001b[43m]\u001b[49m\u001b[43m)\u001b[49m\n\u001b[0;32m      9\u001b[0m ans \u001b[38;5;241m=\u001b[39m []\n\u001b[0;32m     11\u001b[0m \u001b[38;5;28;01mfor\u001b[39;00m i \u001b[38;5;129;01min\u001b[39;00m smallstring:\n",
      "Cell \u001b[1;32mIn[9], line 13\u001b[0m, in \u001b[0;36mpermutaions\u001b[1;34m(s)\u001b[0m\n\u001b[0;32m     11\u001b[0m \u001b[38;5;28;01mfor\u001b[39;00m i \u001b[38;5;129;01min\u001b[39;00m smallstring:\n\u001b[0;32m     12\u001b[0m     \u001b[38;5;28;01mfor\u001b[39;00m postion \u001b[38;5;129;01min\u001b[39;00m \u001b[38;5;28mrange\u001b[39m(\u001b[38;5;241m0\u001b[39m,\u001b[38;5;28mlen\u001b[39m(i)\u001b[38;5;241m+\u001b[39m\u001b[38;5;241m1\u001b[39m):\n\u001b[1;32m---> 13\u001b[0m         ans\u001b[38;5;241m.\u001b[39mappend(i[\u001b[38;5;241m0\u001b[39m:postion]\u001b[38;5;241m+\u001b[39mcurr\u001b[38;5;241m+\u001b[39m\u001b[43mi\u001b[49m\u001b[43m[\u001b[49m\u001b[43mpostion\u001b[49m\u001b[43m]\u001b[49m)\n\u001b[0;32m     14\u001b[0m \u001b[38;5;28;01mreturn\u001b[39;00m ans\n",
      "\u001b[1;31mIndexError\u001b[0m: string index out of range"
     ]
    }
   ],
   "source": [
    "## return in the list type\n",
    "\n",
    "\n",
    "def permutaions(s):\n",
    "    if s=='':\n",
    "        return ['']\n",
    "    curr = s[0]\n",
    "    smallstring = permutaions(s[1:])\n",
    "    ans = []\n",
    "\n",
    "    for i in smallstring:\n",
    "        for postion in range(0,len(i)+1):\n",
    "            ans.append(i[0:postion]+curr+i[postion])\n",
    "    return ans\n",
    "        \n",
    "    \n",
    "    \n",
    "    \n",
    "\n",
    "ans =permutaions('abc')\n",
    "print(ans)\n"
   ]
  },
  {
   "cell_type": "code",
   "execution_count": 8,
   "id": "07400710",
   "metadata": {},
   "outputs": [
    {
     "name": "stdout",
     "output_type": "stream",
     "text": [
      "['abc', 'bac', 'bca', 'acb', 'cab', 'cba']\n"
     ]
    }
   ],
   "source": [
    "def permutations(s):\n",
    "    \"\"\"\n",
    "    Function to generate all permutations of a string using recursion.\n",
    "    \n",
    "    Parameters:\n",
    "    s (str): The string to generate permutations from.\n",
    "    \n",
    "    Returns:\n",
    "    list of str: A list containing all permutations of the string.\n",
    "    \"\"\"\n",
    "    if s == '':\n",
    "        return ['']  # Base case: return a list with an empty string\n",
    "    \n",
    "    curr = s[0]\n",
    "    smallstring = permutations(s[1:])  # Recursive call for the rest of the string\n",
    "    ans = []\n",
    "    \n",
    "    for i in smallstring:\n",
    "        for position in range(0, len(i) + 1):\n",
    "            ans.append(i[0:position] + curr + i[position:])  # Insert `curr` at every position\n",
    "    \n",
    "    return ans\n",
    "\n",
    "# Example usage\n",
    "ans = permutations('abc')\n",
    "print(ans)"
   ]
  },
  {
   "cell_type": "code",
   "execution_count": null,
   "id": "860fe614",
   "metadata": {},
   "outputs": [],
   "source": []
  }
 ],
 "metadata": {
  "kernelspec": {
   "display_name": "base",
   "language": "python",
   "name": "python3"
  },
  "language_info": {
   "codemirror_mode": {
    "name": "ipython",
    "version": 3
   },
   "file_extension": ".py",
   "mimetype": "text/x-python",
   "name": "python",
   "nbconvert_exporter": "python",
   "pygments_lexer": "ipython3",
   "version": "3.8.20"
  }
 },
 "nbformat": 4,
 "nbformat_minor": 5
}
