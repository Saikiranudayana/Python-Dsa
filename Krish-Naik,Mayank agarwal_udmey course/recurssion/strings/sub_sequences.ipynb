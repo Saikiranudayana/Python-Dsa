{
 "cells": [
  {
   "cell_type": "code",
   "execution_count": 2,
   "id": "ba16e3af",
   "metadata": {},
   "outputs": [
    {
     "name": "stdout",
     "output_type": "stream",
     "text": [
      "['', 'c', 'b', 'bc', 'a', 'ac', 'ab', 'abc']\n"
     ]
    }
   ],
   "source": [
    "def subsequences(s):\n",
    "    if s=='':\n",
    "        ans = ['']\n",
    "        return ans\n",
    "    smallans = subsequences(s[1:])\n",
    "    mychar= s[0]\n",
    "    ans = []\n",
    "    ans.extend(smallans)\n",
    "    \n",
    "    for i in smallans:\n",
    "        ans.append(mychar+i)\n",
    "    return ans\n",
    "\n",
    "     \n",
    "\n",
    "s= 'abc'\n",
    "l= subsequences(s)\n",
    "print(l)"
   ]
  },
  {
   "cell_type": "code",
   "execution_count": null,
   "id": "cd9f4220",
   "metadata": {},
   "outputs": [],
   "source": []
  }
 ],
 "metadata": {
  "kernelspec": {
   "display_name": "base",
   "language": "python",
   "name": "python3"
  },
  "language_info": {
   "codemirror_mode": {
    "name": "ipython",
    "version": 3
   },
   "file_extension": ".py",
   "mimetype": "text/x-python",
   "name": "python",
   "nbconvert_exporter": "python",
   "pygments_lexer": "ipython3",
   "version": "3.8.20"
  }
 },
 "nbformat": 4,
 "nbformat_minor": 5
}
