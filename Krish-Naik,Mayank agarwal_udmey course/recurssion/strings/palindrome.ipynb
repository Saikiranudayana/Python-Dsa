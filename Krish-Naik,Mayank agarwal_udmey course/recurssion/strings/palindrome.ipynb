{
 "cells": [
  {
   "cell_type": "code",
   "execution_count": 1,
   "id": "790b62f6",
   "metadata": {},
   "outputs": [
    {
     "name": "stdout",
     "output_type": "stream",
     "text": [
      "True\n"
     ]
    }
   ],
   "source": [
    "def palindromehelper(s,start,end):\n",
    "    if start>=end:\n",
    "        return True\n",
    "    if s[start] !=s[end]:\n",
    "        return False\n",
    "    return palindromehelper(s,start+1,end-1)\n",
    "        \n",
    "def palindrome(s):\n",
    "    return palindromehelper(s,0,len(s)-1)\n",
    "     \n",
    "\n",
    "s= 'nitin'\n",
    "print(palindrome(s))"
   ]
  },
  {
   "cell_type": "code",
   "execution_count": null,
   "id": "2d2efd09",
   "metadata": {},
   "outputs": [],
   "source": []
  }
 ],
 "metadata": {
  "kernelspec": {
   "display_name": "base",
   "language": "python",
   "name": "python3"
  },
  "language_info": {
   "codemirror_mode": {
    "name": "ipython",
    "version": 3
   },
   "file_extension": ".py",
   "mimetype": "text/x-python",
   "name": "python",
   "nbconvert_exporter": "python",
   "pygments_lexer": "ipython3",
   "version": "3.8.20"
  }
 },
 "nbformat": 4,
 "nbformat_minor": 5
}
