{
 "cells": [
  {
   "cell_type": "code",
   "execution_count": 2,
   "id": "6ccb96ee",
   "metadata": {},
   "outputs": [
    {
     "name": "stdout",
     "output_type": "stream",
     "text": [
      "abc\n",
      "ab\n",
      "ac\n",
      "a\n",
      "bc\n",
      "b\n",
      "c\n",
      "\n"
     ]
    }
   ],
   "source": [
    "def print_subsequences(s,sofar):\n",
    "    if (s=='' or len(s)==0):\n",
    "        print(sofar)\n",
    "        return\n",
    "    curr = s[0]\n",
    "    smallinput = s[1:]\n",
    "    print_subsequences(smallinput,sofar+curr)\n",
    "    print_subsequences(smallinput,sofar)\n",
    "         \n",
    "\n",
    "s= \"abc\"\n",
    "print_subsequences(s,'')"
   ]
  },
  {
   "cell_type": "code",
   "execution_count": null,
   "id": "dfa19843",
   "metadata": {},
   "outputs": [],
   "source": []
  }
 ],
 "metadata": {
  "kernelspec": {
   "display_name": "base",
   "language": "python",
   "name": "python3"
  },
  "language_info": {
   "codemirror_mode": {
    "name": "ipython",
    "version": 3
   },
   "file_extension": ".py",
   "mimetype": "text/x-python",
   "name": "python",
   "nbconvert_exporter": "python",
   "pygments_lexer": "ipython3",
   "version": "3.8.20"
  }
 },
 "nbformat": 4,
 "nbformat_minor": 5
}
