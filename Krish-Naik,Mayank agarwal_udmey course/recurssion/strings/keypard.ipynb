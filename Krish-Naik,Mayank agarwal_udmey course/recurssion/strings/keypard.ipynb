{
 "cells": [
  {
   "cell_type": "code",
   "execution_count": 4,
   "id": "6d5fea8f",
   "metadata": {},
   "outputs": [
    {
     "name": "stdout",
     "output_type": "stream",
     "text": [
      "['ad', 'ae', 'af', 'bd', 'be', 'bf', 'cd', 'ce', 'cf']\n"
     ]
    }
   ],
   "source": [
    "keys= {'1': ' ','2':'abc','3':'def','4':'ghi','5':'jkl','6':'mno','7':'pqrs','8':'tuv','9':'wxyz','0':''}\n",
    "\n",
    "def return_all_word(s):\n",
    "    if s=='':\n",
    "        return['']\n",
    "    ans= []\n",
    "    smallinput = s[1:]\n",
    "    smallinputwords = return_all_word(smallinput)\n",
    "    \n",
    "    keyletter = keys[s[0]]\n",
    "    for mychr in keyletter:\n",
    "        for word in smallinputwords:\n",
    "            ans.append(mychr+word)\n",
    "            \n",
    "    return ans\n",
    "\n",
    "ans = return_all_word('23')\n",
    "print(ans)\n"
   ]
  },
  {
   "cell_type": "code",
   "execution_count": null,
   "id": "41ae2220",
   "metadata": {},
   "outputs": [],
   "source": []
  }
 ],
 "metadata": {
  "kernelspec": {
   "display_name": "base",
   "language": "python",
   "name": "python3"
  },
  "language_info": {
   "codemirror_mode": {
    "name": "ipython",
    "version": 3
   },
   "file_extension": ".py",
   "mimetype": "text/x-python",
   "name": "python",
   "nbconvert_exporter": "python",
   "pygments_lexer": "ipython3",
   "version": "3.8.20"
  }
 },
 "nbformat": 4,
 "nbformat_minor": 5
}
