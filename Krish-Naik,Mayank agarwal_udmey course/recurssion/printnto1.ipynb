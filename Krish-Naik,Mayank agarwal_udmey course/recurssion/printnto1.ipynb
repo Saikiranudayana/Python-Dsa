{
 "cells": [
  {
   "cell_type": "code",
   "execution_count": 10,
   "metadata": {},
   "outputs": [
    {
     "data": {
      "text/plain": [
       "[5, 4, 3, 2, 1]"
      ]
     },
     "execution_count": 10,
     "metadata": {},
     "output_type": "execute_result"
    }
   ],
   "source": [
    "def printnto1(n):\n",
    "    \n",
    "    if n==0:\n",
    "        return []\n",
    "    output = []\n",
    "    output.append(n)\n",
    "    output.extend(printnto1(n-1))\n",
    "    return output\n",
    "\n",
    "printnto1(5)"
   ]
  },
  {
   "cell_type": "code",
   "execution_count": 11,
   "metadata": {},
   "outputs": [
    {
     "data": {
      "text/plain": [
       "[5, 4, 3, 2, 1]"
      ]
     },
     "execution_count": 11,
     "metadata": {},
     "output_type": "execute_result"
    }
   ],
   "source": [
    "def printnto1(n):\n",
    "    \n",
    "    if n==0:\n",
    "        return []\n",
    "    return [n]+printnto1(n-1)\n",
    "\n",
    "printnto1(5)\n",
    "    \n",
    "    \n",
    "    \n",
    "    \n",
    "\n",
    "printnto1(5)"
   ]
  },
  {
   "cell_type": "code",
   "execution_count": null,
   "metadata": {},
   "outputs": [],
   "source": []
  }
 ],
 "metadata": {
  "kernelspec": {
   "display_name": "base",
   "language": "python",
   "name": "python3"
  },
  "language_info": {
   "codemirror_mode": {
    "name": "ipython",
    "version": 3
   },
   "file_extension": ".py",
   "mimetype": "text/x-python",
   "name": "python",
   "nbconvert_exporter": "python",
   "pygments_lexer": "ipython3",
   "version": "3.8.20"
  }
 },
 "nbformat": 4,
 "nbformat_minor": 2
}
