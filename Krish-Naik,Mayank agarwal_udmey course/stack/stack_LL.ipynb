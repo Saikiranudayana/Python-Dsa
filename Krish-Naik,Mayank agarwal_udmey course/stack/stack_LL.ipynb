{
 "cells": [
  {
   "cell_type": "code",
   "execution_count": null,
   "id": "524367a2",
   "metadata": {},
   "outputs": [],
   "source": [
    "class Node:\n",
    "    def __init__(self,data):\n",
    "        self.data = data\n",
    "        self.next = None\n",
    "        \n",
    "class StackLL:\n",
    "    def __init__(self):\n",
    "        self.head = None\n",
    "        self.len = 0\n",
    "    def push(self,data):\n",
    "        newnode = Node(data)\n",
    "        self.len +=1\n",
    "        \n",
    "        if self.head==None:\n",
    "            self.head = newnode\n",
    "            return f\"{data} is added\"\n",
    "        \n",
    "        newnode.next = self.head\n",
    "        self.head = newnode\n",
    "        return f\"{data} added\"\n",
    "    \n",
    "    def top(self):\n",
    "        if (self.head is None or self.len ==0):\n",
    "            return \"stack is empty , no element on top\"\n",
    "        return self.head.data\n",
    "    def pop(self):\n",
    "        if (self.head is None or self.len ==0):\n",
    "            return \"stack is empty , no element To pop\"\n",
    "        top = self.head.data\n",
    "        self.head = self.head.next\n",
    "        self.len -=1\n",
    "        return top\n",
    "    \n",
    "    def size(self):\n",
    "        return self.size\n",
    "    \n",
    "    def is_empty(self):\n",
    "        return  self.size ==0\n",
    "\n",
    "\n",
    "        \n",
    "    \n",
    "    \n",
    "        \n"
   ]
  },
  {
   "cell_type": "code",
   "execution_count": null,
   "id": "3c6a9549",
   "metadata": {},
   "outputs": [],
   "source": []
  }
 ],
 "metadata": {
  "kernelspec": {
   "display_name": "base",
   "language": "python",
   "name": "python3"
  },
  "language_info": {
   "name": "python",
   "version": "3.8.20"
  }
 },
 "nbformat": 4,
 "nbformat_minor": 5
}
