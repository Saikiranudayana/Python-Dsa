{
 "cells": [
  {
   "cell_type": "code",
   "execution_count": null,
   "id": "18c2ac0c",
   "metadata": {},
   "outputs": [
    {
     "data": {
      "text/plain": [
       "True"
      ]
     },
     "execution_count": 1,
     "metadata": {},
     "output_type": "execute_result"
    }
   ],
   "source": [
    "class StackUsingList:\n",
    "    def __init__(self):\n",
    "        self.stack = []\n",
    "        \n",
    "        \n",
    "    def push(self, data):\n",
    "        self.stack.append(data)\n",
    "        print(f\"Pushed {data}\")\n",
    "    def size(self):\n",
    "        self.len(self.stack)\n",
    "        \n",
    "    def is_empty(self):\n",
    "        return len(self.stack)==0\n",
    "    \n",
    "    def top(self):\n",
    "        if self.stack.is_empty(self.stack):\n",
    "            return None\n",
    "        return self.stack[-1]\n",
    "    \n",
    "    def pop(self):\n",
    "        if self.stack.is_empty(self.stack):\n",
    "            return None\n",
    "        return self.stack.pop()\n",
    "    \n",
    "    \n",
    "    \n",
    "    \n",
    "    \n",
    "    \n",
    "mystack = StackUsingList()\n",
    "\n",
    "mystack.is_empty()\n",
    "\n",
    "\n",
    "        \n",
    "    \n",
    "        \n",
    "    "
   ]
  },
  {
   "cell_type": "code",
   "execution_count": null,
   "id": "680c6754",
   "metadata": {},
   "outputs": [],
   "source": []
  }
 ],
 "metadata": {
  "kernelspec": {
   "display_name": "base",
   "language": "python",
   "name": "python3"
  },
  "language_info": {
   "codemirror_mode": {
    "name": "ipython",
    "version": 3
   },
   "file_extension": ".py",
   "mimetype": "text/x-python",
   "name": "python",
   "nbconvert_exporter": "python",
   "pygments_lexer": "ipython3",
   "version": "3.8.20"
  }
 },
 "nbformat": 4,
 "nbformat_minor": 5
}
