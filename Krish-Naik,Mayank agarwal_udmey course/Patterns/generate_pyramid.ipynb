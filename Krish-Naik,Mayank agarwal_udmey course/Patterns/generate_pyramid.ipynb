{
 "cells": [
  {
   "cell_type": "code",
   "execution_count": 44,
   "metadata": {},
   "outputs": [
    {
     "data": {
      "text/plain": [
       "['    *    ', '   ***   ', '  *****  ', ' ******* ', '*********']"
      ]
     },
     "execution_count": 44,
     "metadata": {},
     "output_type": "execute_result"
    }
   ],
   "source": [
    "def generate_pyramid(n):\n",
    "    output= []\n",
    "    for i in range(1,n+1):\n",
    "            a= \" \"*(n-i) +\"*\"*(2*i-1) +\" \"*(n-i)\n",
    "            output.append(a)\n",
    "            \n",
    "    return output\n",
    "     \n",
    "\n",
    "n= int(input(\"Eter a number\"))\n",
    "generate_pyramid(n)"
   ]
  },
  {
   "cell_type": "code",
   "execution_count": 35,
   "metadata": {},
   "outputs": [
    {
     "name": "stdout",
     "output_type": "stream",
     "text": [
      "    *\n",
      "   ***\n",
      "  *****\n",
      " *******\n",
      "*********\n"
     ]
    }
   ],
   "source": [
    "n= 5 \n",
    "for i in range(1,n+1):\n",
    "    print(\" \"*(n-i)+'*'*(2*i-1))"
   ]
  },
  {
   "cell_type": "code",
   "execution_count": null,
   "metadata": {},
   "outputs": [
    {
     "name": "stdout",
     "output_type": "stream",
     "text": [
      "True\n",
      "153\n"
     ]
    }
   ],
   "source": [
    "n= 153\n",
    "count = 0\n",
    "for i in str(n):\n",
    "    m= int(i)\n",
    "    count += m**3\n",
    "    \n",
    "print(count==n)\n",
    "print(count)   \n",
    "    \n"
   ]
  },
  {
   "cell_type": "code",
   "execution_count": null,
   "metadata": {},
   "outputs": [],
   "source": []
  }
 ],
 "metadata": {
  "kernelspec": {
   "display_name": "base",
   "language": "python",
   "name": "python3"
  },
  "language_info": {
   "codemirror_mode": {
    "name": "ipython",
    "version": 3
   },
   "file_extension": ".py",
   "mimetype": "text/x-python",
   "name": "python",
   "nbconvert_exporter": "python",
   "pygments_lexer": "ipython3",
   "version": "3.8.20"
  }
 },
 "nbformat": 4,
 "nbformat_minor": 2
}
