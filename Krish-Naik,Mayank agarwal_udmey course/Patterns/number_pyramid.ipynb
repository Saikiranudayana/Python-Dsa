{
 "cells": [
  {
   "cell_type": "code",
   "execution_count": 5,
   "metadata": {},
   "outputs": [
    {
     "data": {
      "text/plain": [
       "[' 1 ', '1 2', '1 2 3', '1 2 3 4']"
      ]
     },
     "execution_count": 5,
     "metadata": {},
     "output_type": "execute_result"
    }
   ],
   "source": [
    "def number_pyramid(n):\n",
    "    output = [] \n",
    "    num= 1\n",
    "    for i in range(1,n+1):\n",
    "        numbers = ' '.join (str(x)for x in range(1,i+1))\n",
    "        output.append(' '*(n-i-2) +numbers+' '*(n-i-2))\n",
    "        \n",
    "    return output\n",
    "n = int(input())\n",
    "number_pyramid(n)"
   ]
  },
  {
   "cell_type": "code",
   "execution_count": null,
   "metadata": {},
   "outputs": [],
   "source": []
  }
 ],
 "metadata": {
  "kernelspec": {
   "display_name": "base",
   "language": "python",
   "name": "python3"
  },
  "language_info": {
   "codemirror_mode": {
    "name": "ipython",
    "version": 3
   },
   "file_extension": ".py",
   "mimetype": "text/x-python",
   "name": "python",
   "nbconvert_exporter": "python",
   "pygments_lexer": "ipython3",
   "version": "3.8.20"
  }
 },
 "nbformat": 4,
 "nbformat_minor": 2
}
