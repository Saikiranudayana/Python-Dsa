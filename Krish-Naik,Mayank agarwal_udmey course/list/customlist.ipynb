{
 "cells": [
  {
   "cell_type": "code",
   "execution_count": 3,
   "metadata": {},
   "outputs": [
    {
     "name": "stdout",
     "output_type": "stream",
     "text": [
      "intiatlsize 56\n",
      "0-->88\n",
      "1-->88\n",
      "2-->88\n",
      "3-->88\n",
      "4-->120\n",
      "5-->120\n",
      "6-->120\n",
      "7-->120\n",
      "8-->184\n",
      "9-->184\n",
      "10-->184\n",
      "11-->184\n",
      "12-->184\n",
      "13-->184\n",
      "14-->184\n",
      "15-->184\n",
      "16-->256\n"
     ]
    }
   ],
   "source": [
    "import sys \n",
    "\n",
    "l= []\n",
    "print(\"intiatlsize\",sys.getsizeof(l))\n",
    "for i in range(0,17):\n",
    "    l.append(i)\n",
    "    print(f\"{i}-->{sys.getsizeof(l)}\")"
   ]
  },
  {
   "cell_type": "code",
   "execution_count": null,
   "metadata": {},
   "outputs": [],
   "source": []
  }
 ],
 "metadata": {
  "kernelspec": {
   "display_name": "base",
   "language": "python",
   "name": "python3"
  },
  "language_info": {
   "codemirror_mode": {
    "name": "ipython",
    "version": 3
   },
   "file_extension": ".py",
   "mimetype": "text/x-python",
   "name": "python",
   "nbconvert_exporter": "python",
   "pygments_lexer": "ipython3",
   "version": "3.8.20"
  }
 },
 "nbformat": 4,
 "nbformat_minor": 2
}
