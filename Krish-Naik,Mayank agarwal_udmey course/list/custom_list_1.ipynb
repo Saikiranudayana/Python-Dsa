{
 "cells": [
  {
   "cell_type": "code",
   "execution_count": 10,
   "metadata": {},
   "outputs": [
    {
     "name": "stdout",
     "output_type": "stream",
     "text": [
      "[ 1, 2,]\n",
      "[ 1,]\n",
      "Empty list\n"
     ]
    }
   ],
   "source": [
    "import ctypes\n",
    "\n",
    "class CustomList:\n",
    "    def __init__(self):\n",
    "        initialcapacity =1\n",
    "        self.capacity = initialcapacity \n",
    "        self.size = 0 \n",
    "        self.array = self.__create_array(self.capacity)\n",
    "\n",
    "\n",
    "\n",
    "    def __create_array(self,capacity):\n",
    "        #Create a new reference array with given capacity\n",
    "        \n",
    "        return (capacity*ctypes.py_object)() \n",
    "\n",
    "    def __resize(self,new_capacity):\n",
    "        new_array= self.__create_array(new_capacity)\n",
    "        for i in range(self.size):\n",
    "            new_array[i] = self.array[i]\n",
    "\n",
    "        self.array = new_array ## Replace the old array \n",
    "\n",
    "        self.capacity = new_capacity\n",
    "\n",
    "    def append(self,item):\n",
    "        if(self.size == self.capacity):\n",
    "            self.__resize(3*self.capacity)\n",
    "\n",
    "        self.array[self.size] = item \n",
    "        self.size += 1\n",
    "\n",
    "    def __len__(self):\n",
    "        return self.size\n",
    "\n",
    "    def __str__(self):\n",
    "        output = ' '\n",
    "        for i in range(self.size):\n",
    "            output = output + str(self.array[i]) + ', '\n",
    "\n",
    "        return '[' + output[:-1] + ']'\n",
    "\n",
    "    def pop(self):\n",
    "        if (self.size == 0):\n",
    "            return \"Empty list\"\n",
    "        popped_item = self.array[self.size-1]\n",
    "        self.size = self.size -1\n",
    "        return popped_item\n",
    "\n",
    "mylist = CustomList()\n",
    "mylist.append(1)\n",
    "mylist.append(2)\n",
    "print(mylist)\n",
    "mylist.pop()\n",
    "print(mylist)\n",
    "mylist.pop()\n",
    "print(mylist.pop())\n",
    "        \n",
    "\n",
    "\n"
   ]
  },
  {
   "cell_type": "code",
   "execution_count": null,
   "metadata": {},
   "outputs": [],
   "source": []
  }
 ],
 "metadata": {
  "kernelspec": {
   "display_name": "base",
   "language": "python",
   "name": "python3"
  },
  "language_info": {
   "codemirror_mode": {
    "name": "ipython",
    "version": 3
   },
   "file_extension": ".py",
   "mimetype": "text/x-python",
   "name": "python",
   "nbconvert_exporter": "python",
   "pygments_lexer": "ipython3",
   "version": "3.8.20"
  }
 },
 "nbformat": 4,
 "nbformat_minor": 2
}
