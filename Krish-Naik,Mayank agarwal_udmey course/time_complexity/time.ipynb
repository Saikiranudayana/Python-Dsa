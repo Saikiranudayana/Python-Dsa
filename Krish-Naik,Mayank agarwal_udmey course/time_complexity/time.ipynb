{
 "cells": [
  {
   "cell_type": "markdown",
   "id": "5e2db9c5",
   "metadata": {},
   "source": [
    "Merge sort\n"
   ]
  },
  {
   "cell_type": "code",
   "execution_count": 2,
   "id": "629bfd43",
   "metadata": {},
   "outputs": [
    {
     "name": "stdout",
     "output_type": "stream",
     "text": [
      "Time taken to sort an array of size 10: 0 nanoseconds\n",
      "Time taken to sort an array of size 100: 0 nanoseconds\n",
      "Time taken to sort an array of size 1000: 1431300 nanoseconds\n",
      "Time taken to sort an array of size 10000: 23124000 nanoseconds\n",
      "Time taken to sort an array of size 100000: 297920200 nanoseconds\n",
      "Time taken to sort an array of size 1000000: 3379992600 nanoseconds\n"
     ]
    }
   ],
   "source": [
    "import numpy as np\n",
    "import time\n",
    "\n",
    "def merge_sort(arr):\n",
    "    \"\"\"Sorts an array using the merge sort algorithm.\"\"\"\n",
    "    if len(arr) <= 1:\n",
    "        return arr\n",
    "    mid = len(arr) // 2\n",
    "    left = arr[:mid]\n",
    "    right = arr[mid:]\n",
    "\n",
    "    left = merge_sort(left)\n",
    "    right = merge_sort(right)\n",
    "\n",
    "    return merge(left, right)\n",
    "\n",
    "def merge(left, right):\n",
    "    \"\"\"Merges two sorted arrays.\"\"\"\n",
    "    merged = []\n",
    "    left_index = 0\n",
    "    right_index = 0\n",
    "\n",
    "    while left_index < len(left) and right_index < len(right):\n",
    "        if left[left_index] <= right[right_index]:\n",
    "            merged.append(left[left_index])\n",
    "            left_index += 1\n",
    "        else:\n",
    "            merged.append(right[right_index])\n",
    "            right_index += 1\n",
    "\n",
    "    merged.extend(left[left_index:])\n",
    "    merged.extend(right[right_index:])\n",
    "    return merged\n",
    "\n",
    "def measure_time_merge_sort():\n",
    "    \"\"\"Measures the time taken for merge sort for different input sizes.\"\"\"\n",
    "    input_sizes = [10**i for i in range(1, 7)] # Input sizes: 10, 100, 1000, ..., 10^6\n",
    "\n",
    "    for size in input_sizes:\n",
    "        arr = np.arange(size, 0, -1) # Create an array from size to 1 (reverse sorted for worst case)\n",
    "        start_time = time.time_ns()  # Get the start time in nanoseconds\n",
    "        sorted_arr = merge_sort(arr.tolist()) # Sort the array using merge sort (convert numpy array to list)\n",
    "        end_time = time.time_ns()    # Get the end time in nanoseconds\n",
    "        time_taken = end_time - start_time\n",
    "        print(f\"Time taken to sort an array of size {size}: {time_taken} nanoseconds\")\n",
    "\n",
    "if __name__ == \"__main__\":\n",
    "    measure_time_merge_sort()"
   ]
  },
  {
   "cell_type": "markdown",
   "id": "8bb09a2b",
   "metadata": {},
   "source": [
    "Bubble sort"
   ]
  },
  {
   "cell_type": "code",
   "execution_count": 3,
   "id": "5c7bb35d",
   "metadata": {},
   "outputs": [
    {
     "name": "stdout",
     "output_type": "stream",
     "text": [
      "Time taken to sort an array of size 10: 0 nanoseconds\n",
      "Time taken to sort an array of size 100: 1017100 nanoseconds\n",
      "Time taken to sort an array of size 1000: 119592300 nanoseconds\n",
      "Time taken to sort an array of size 10000: 11003930600 nanoseconds\n"
     ]
    }
   ],
   "source": [
    "import numpy as np\n",
    "import time\n",
    "\n",
    "def bubble_sort(arr):\n",
    "    \"\"\"Sorts an array using the bubble sort algorithm.\"\"\"\n",
    "    n = len(arr)\n",
    "    for i in range(n - 1):\n",
    "        # Last i elements are already in place\n",
    "        for j in range(0, n - i - 1):\n",
    "            # Swap if the element found is greater than the next element\n",
    "            if arr[j] > arr[j + 1]:\n",
    "                arr[j], arr[j + 1] = arr[j + 1], arr[j]\n",
    "    return arr\n",
    "\n",
    "def measure_time_bubble_sort():\n",
    "    \"\"\"Measures the time taken for bubble sort for different input sizes.\"\"\"\n",
    "    input_sizes = [10**i for i in range(1, 5)] # Reduced input sizes for bubble sort due to its time complexity\n",
    "\n",
    "    for size in input_sizes:\n",
    "        arr = np.arange(size, 0, -1) # Create an array from size to 1 (reverse sorted for worst case)\n",
    "        start_time = time.time_ns()  # Get the start time in nanoseconds\n",
    "        sorted_arr = bubble_sort(arr.tolist()) # Sort the array using bubble sort (convert numpy array to list)\n",
    "        end_time = time.time_ns()    # Get the end time in nanoseconds\n",
    "        time_taken = end_time - start_time\n",
    "        print(f\"Time taken to sort an array of size {size}: {time_taken} nanoseconds\")\n",
    "\n",
    "if __name__ == \"__main__\":\n",
    "    measure_time_bubble_sort()"
   ]
  },
  {
   "cell_type": "code",
   "execution_count": null,
   "id": "00ab2a60",
   "metadata": {},
   "outputs": [],
   "source": []
  }
 ],
 "metadata": {
  "kernelspec": {
   "display_name": "base",
   "language": "python",
   "name": "python3"
  },
  "language_info": {
   "codemirror_mode": {
    "name": "ipython",
    "version": 3
   },
   "file_extension": ".py",
   "mimetype": "text/x-python",
   "name": "python",
   "nbconvert_exporter": "python",
   "pygments_lexer": "ipython3",
   "version": "3.8.20"
  }
 },
 "nbformat": 4,
 "nbformat_minor": 5
}
