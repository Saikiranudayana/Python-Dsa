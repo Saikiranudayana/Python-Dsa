{
 "cells": [
  {
   "cell_type": "code",
   "execution_count": 4,
   "id": "5181a098",
   "metadata": {},
   "outputs": [
    {
     "name": "stdout",
     "output_type": "stream",
     "text": [
      "1:2,3,4,\n",
      "2:5,\n",
      "5:\n",
      "3:6,\n",
      "6:\n",
      "4:\n"
     ]
    }
   ],
   "source": [
    "# Take the input level wise\n",
    "# we wil process our node teh first to come will be the first first to get process\n",
    "from common import TreeNode, print_tree_detailed\n",
    "\n",
    "from collections import deque\n",
    "def take_input_level_wise():\n",
    "    data = int(input(\"enter the root node: \"))\n",
    "    root = TreeNode(data)\n",
    "    \n",
    "    queue = deque([root])\n",
    "    \n",
    "    while (len(queue)) != 0:\n",
    "        curr_node = queue.popleft()\n",
    "        \n",
    "        num_child = int(input(\"Enter the number of childre for \" + str(curr_node.data)))\n",
    "        \n",
    "        for i in range(num_child):\n",
    "            child_data = int(input(f\"Enter the data for {i+1} child of {curr_node.data}:\"))\n",
    "            child_node = TreeNode(child_data)\n",
    "            curr_node.children.append(child_node)\n",
    "            queue.append(child_node)\n",
    "            \n",
    "    return root\n",
    "\n",
    "\n",
    "root = take_input_level_wise()\n",
    "print_tree_detailed(root)"
   ]
  },
  {
   "cell_type": "code",
   "execution_count": null,
   "id": "cf96f00d",
   "metadata": {},
   "outputs": [],
   "source": []
  }
 ],
 "metadata": {
  "kernelspec": {
   "display_name": "base",
   "language": "python",
   "name": "python3"
  },
  "language_info": {
   "codemirror_mode": {
    "name": "ipython",
    "version": 3
   },
   "file_extension": ".py",
   "mimetype": "text/x-python",
   "name": "python",
   "nbconvert_exporter": "python",
   "pygments_lexer": "ipython3",
   "version": "3.8.20"
  }
 },
 "nbformat": 4,
 "nbformat_minor": 5
}
