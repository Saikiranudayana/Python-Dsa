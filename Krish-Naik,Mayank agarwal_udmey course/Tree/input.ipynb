{
 "cells": [
  {
   "cell_type": "code",
   "execution_count": 4,
   "id": "8d6da638",
   "metadata": {},
   "outputs": [
    {
     "name": "stdout",
     "output_type": "stream",
     "text": [
      "1:2,3,4,\n",
      "2:\n",
      "3:\n",
      "4:\n"
     ]
    }
   ],
   "source": [
    "from common import TreeNode,print_tree_detailed\n",
    "\n",
    "\n",
    "def take_input():\n",
    "    data = int(input(\"Enter the data for the Node\"))\n",
    "    node = TreeNode(data)\n",
    "    \n",
    "    num_child = int(input(f\"ENter the number of children for {data}\"))\n",
    "    \n",
    "    for _ in range(num_child):\n",
    "        child = take_input()\n",
    "        node.children.append(child)\n",
    "        \n",
    "    return node\n",
    "\n",
    "root= take_input()\n",
    "print_tree_detailed(root)\n",
    "\n"
   ]
  },
  {
   "cell_type": "code",
   "execution_count": 5,
   "id": "476dcd7f",
   "metadata": {},
   "outputs": [
    {
     "name": "stdout",
     "output_type": "stream",
     "text": [
      "1:2,3,4,\n",
      "2:5,\n",
      "5:6,\n",
      "6:\n",
      "3:\n",
      "4:\n"
     ]
    }
   ],
   "source": [
    "from common import TreeNode,print_tree_detailed\n",
    "\n",
    "\n",
    "def take_input():\n",
    "    data = int(input(\"Enter the data for the Node\"))\n",
    "    node = TreeNode(data)\n",
    "    \n",
    "    num_child = int(input(f\"ENter the number of children for {data}\"))\n",
    "    \n",
    "    for _ in range(num_child):\n",
    "        child = take_input()\n",
    "        node.children.append(child)\n",
    "        \n",
    "    return node\n",
    "\n",
    "root= take_input()\n",
    "print_tree_detailed(root)\n",
    "\n",
    "\n"
   ]
  },
  {
   "cell_type": "code",
   "execution_count": null,
   "id": "58af6207",
   "metadata": {},
   "outputs": [],
   "source": []
  }
 ],
 "metadata": {
  "kernelspec": {
   "display_name": "base",
   "language": "python",
   "name": "python3"
  },
  "language_info": {
   "codemirror_mode": {
    "name": "ipython",
    "version": 3
   },
   "file_extension": ".py",
   "mimetype": "text/x-python",
   "name": "python",
   "nbconvert_exporter": "python",
   "pygments_lexer": "ipython3",
   "version": "3.8.20"
  }
 },
 "nbformat": 4,
 "nbformat_minor": 5
}
