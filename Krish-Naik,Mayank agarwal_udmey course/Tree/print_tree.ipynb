{
 "cells": [
  {
   "cell_type": "code",
   "execution_count": 5,
   "id": "c7e71bb2",
   "metadata": {},
   "outputs": [
    {
     "name": "stdout",
     "output_type": "stream",
     "text": [
      "1:2,3,4,\n",
      "2:\n",
      "3:\n",
      "4:\n"
     ]
    }
   ],
   "source": [
    "\n",
    "##p[rint function\n",
    "class TreeNode:\n",
    "    def __init__(self,data):\n",
    "        self.data = data \n",
    "        self.children = []\n",
    "        \n",
    "        \n",
    "root = TreeNode(1)\n",
    "child1 = TreeNode(2)\n",
    "child2 = TreeNode(3)\n",
    "child3 = TreeNode(4)   \n",
    "\n",
    "root.children.append(child1)\n",
    "root.children.append(child2)\n",
    "root.children.append(child3)\n",
    "\n",
    "# print(root.children[0].data)\n",
    "\n",
    "\n",
    "def print_tree(root):\n",
    "    if root==None:\n",
    "        return\n",
    "    \n",
    "    print(root.data)\n",
    "    for child in root.children:\n",
    "        print_tree(child)\n",
    "        \n",
    "# print_tree(root)\n",
    "\n",
    "\n",
    "def print_tree_detailed(root):\n",
    "    if root==None:\n",
    "        return \n",
    "    print(root.data,end = \":\")\n",
    "    for child in root.children:\n",
    "        print(child.data,end = \",\")\n",
    "    print()\n",
    "    for child in root.children:\n",
    "        print_tree_detailed(child)\n",
    "print_tree_detailed(None)\n",
    "print_tree_detailed(root)"
   ]
  },
  {
   "cell_type": "code",
   "execution_count": null,
   "id": "ab5250f0",
   "metadata": {},
   "outputs": [],
   "source": []
  }
 ],
 "metadata": {
  "kernelspec": {
   "display_name": "base",
   "language": "python",
   "name": "python3"
  },
  "language_info": {
   "codemirror_mode": {
    "name": "ipython",
    "version": 3
   },
   "file_extension": ".py",
   "mimetype": "text/x-python",
   "name": "python",
   "nbconvert_exporter": "python",
   "pygments_lexer": "ipython3",
   "version": "3.8.20"
  }
 },
 "nbformat": 4,
 "nbformat_minor": 5
}
