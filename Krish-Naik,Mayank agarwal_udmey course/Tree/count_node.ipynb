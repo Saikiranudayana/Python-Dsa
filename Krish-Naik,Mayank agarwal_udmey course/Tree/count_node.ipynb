{
 "cells": [
  {
   "cell_type": "code",
   "execution_count": 1,
   "id": "f8854710",
   "metadata": {},
   "outputs": [
    {
     "name": "stdout",
     "output_type": "stream",
     "text": [
      "5\n",
      "6\n"
     ]
    }
   ],
   "source": [
    "from genrictree import predefineed_genric_tree_inputs\n",
    "\n",
    "def count_node(root):\n",
    "    if root ==None:\n",
    "        return 0\n",
    "    numberofnodes= 1\n",
    "    for eachchild in root.children:\n",
    "        numberofnodes = numberofnodes+count_node(eachchild)\n",
    "        \n",
    "    return numberofnodes\n",
    "\n",
    "\n",
    "\n",
    "root1,root2 = predefineed_genric_tree_inputs()\n",
    "print(count_node(root1))\n",
    "print(count_node(root2))"
   ]
  },
  {
   "cell_type": "code",
   "execution_count": null,
   "id": "6f084122",
   "metadata": {},
   "outputs": [],
   "source": []
  }
 ],
 "metadata": {
  "kernelspec": {
   "display_name": "base",
   "language": "python",
   "name": "python3"
  },
  "language_info": {
   "codemirror_mode": {
    "name": "ipython",
    "version": 3
   },
   "file_extension": ".py",
   "mimetype": "text/x-python",
   "name": "python",
   "nbconvert_exporter": "python",
   "pygments_lexer": "ipython3",
   "version": "3.8.20"
  }
 },
 "nbformat": 4,
 "nbformat_minor": 5
}
