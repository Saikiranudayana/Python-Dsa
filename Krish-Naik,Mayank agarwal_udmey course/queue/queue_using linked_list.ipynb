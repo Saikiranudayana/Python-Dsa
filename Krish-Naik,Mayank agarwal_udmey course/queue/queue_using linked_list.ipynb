{
 "cells": [
  {
   "cell_type": "code",
   "execution_count": null,
   "id": "c23d4d65",
   "metadata": {},
   "outputs": [],
   "source": [
    "class Node:\n",
    "    def __init__(self,value):\n",
    "        self.data = value\n",
    "        self.next = None\n",
    "        \n",
    "class QueueUsingLinkedList:\n",
    "    def __init__(self):\n",
    "        self.head = None\n",
    "        self.tail = None\n",
    "        self.len= 0\n",
    "        \n",
    "    def size(self):\n",
    "        return self.len\n",
    "    \n",
    "    def is_empty(self):\n",
    "        return self.size()==0\n",
    "    \n",
    "    def enqueue(self,data):\n",
    "        newnode= Node(data)\n",
    "        self.len +=1\n",
    "        if self.head is None:\n",
    "            self.head = newnode\n",
    "        else:\n",
    "            self.tail.next = newnode\n",
    "            self.tail = newnode\n",
    "            \n",
    "        return f\"{data}\"\n",
    "    \n",
    "    def front(self):\n",
    "        if self.is_empty():\n",
    "            print(\"Queue is empty their is no head\")\n",
    "            return\n",
    "            \n",
    "        return self.head .data\n",
    "    \n",
    "    def dequeue(self):\n",
    "        if self.is_empty():\n",
    "            print(\"Queue is empty their is no tail\")\n",
    "            return\n",
    "        self.len -=1\n",
    "        data = self.head.data\n",
    "        self.head = self.head.next\n",
    "        if self.head == None:\n",
    "            self.tail= None\n",
    "        return data\n",
    "        \n",
    "        \n",
    "            "
   ]
  },
  {
   "cell_type": "code",
   "execution_count": null,
   "id": "34761f56",
   "metadata": {},
   "outputs": [],
   "source": []
  }
 ],
 "metadata": {
  "kernelspec": {
   "display_name": "base",
   "language": "python",
   "name": "python3"
  },
  "language_info": {
   "name": "python",
   "version": "3.8.20"
  }
 },
 "nbformat": 4,
 "nbformat_minor": 5
}
