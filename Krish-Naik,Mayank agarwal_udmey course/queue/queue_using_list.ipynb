{
 "cells": [
  {
   "cell_type": "code",
   "execution_count": 1,
   "id": "7625dfe6",
   "metadata": {},
   "outputs": [
    {
     "name": "stdout",
     "output_type": "stream",
     "text": [
      "3\n",
      "False\n",
      "10\n",
      "10\n",
      "<bound method QueueUsingList.dequeue of <__main__.QueueUsingList object at 0x000002C213A5C460>>\n",
      "20\n"
     ]
    }
   ],
   "source": [
    "class QueueUsingList:\n",
    "    def __init__(self):\n",
    "        self.__queue= []\n",
    "        \n",
    "    def size(self):\n",
    "        return len(self.__queue)\n",
    "    \n",
    "    def is_empty(self):\n",
    "        return self.size==0\n",
    "    def enqueue(self,data):\n",
    "        self.__queue.append(data)\n",
    "        \n",
    "    def front(self):\n",
    "        if self.size==0:\n",
    "            return None\n",
    "        return self.__queue[0]\n",
    "    def dequeue(self):\n",
    "        if self.size==0:\n",
    "            return None\n",
    "        \n",
    "        return  self.__queue.pop(0)\n",
    "    \n",
    "q= QueueUsingList()\n",
    "\n",
    "q.enqueue(10)\n",
    "q.enqueue(20)\n",
    "q.enqueue(30)\n",
    "print(q.size())\n",
    "print(q.is_empty())\n",
    "print(q.front())\n",
    "print(q.dequeue())\n",
    "print(q.dequeue)\n",
    "print(q.front())"
   ]
  },
  {
   "cell_type": "code",
   "execution_count": null,
   "id": "3f4946b0",
   "metadata": {},
   "outputs": [],
   "source": []
  }
 ],
 "metadata": {
  "kernelspec": {
   "display_name": "base",
   "language": "python",
   "name": "python3"
  },
  "language_info": {
   "codemirror_mode": {
    "name": "ipython",
    "version": 3
   },
   "file_extension": ".py",
   "mimetype": "text/x-python",
   "name": "python",
   "nbconvert_exporter": "python",
   "pygments_lexer": "ipython3",
   "version": "3.8.20"
  }
 },
 "nbformat": 4,
 "nbformat_minor": 5
}
