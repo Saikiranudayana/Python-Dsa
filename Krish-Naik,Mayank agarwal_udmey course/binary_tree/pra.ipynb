{
 "cells": [
  {
   "cell_type": "code",
   "execution_count": 2,
   "id": "a5173dc2",
   "metadata": {},
   "outputs": [
    {
     "name": "stdout",
     "output_type": "stream",
     "text": [
      "[]\n",
      "[1, 5, 2, -4, 3, 0]\n",
      "[-7]\n",
      "[5, 2, -4, 3, 0]\n",
      "[-7, 1]\n",
      "[2, -4, 3, 0]\n",
      "[-7, 1, 5]\n",
      "[-4, 3, 0]\n",
      "[-7, 1, 5, 2]\n",
      "[3, 0]\n",
      "[-7, 1, 5, 2, -4]\n",
      "[0]\n",
      "[-7, 1, 5, 2, -4, 3]\n",
      "[]\n"
     ]
    }
   ],
   "source": [
    "if __name__ == '__main__':\n",
    "    arr = [-7, 1, 5, 2, -4, 3, 0]\n",
    "    for i in range(len(arr)):\n",
    "        print(arr[:i])\n",
    "        print(arr[i+1:])\n",
    "\n",
    "    # print(findEquilibrium(arr))"
   ]
  },
  {
   "cell_type": "code",
   "execution_count": null,
   "id": "d4df440c",
   "metadata": {},
   "outputs": [],
   "source": []
  }
 ],
 "metadata": {
  "kernelspec": {
   "display_name": "base",
   "language": "python",
   "name": "python3"
  },
  "language_info": {
   "codemirror_mode": {
    "name": "ipython",
    "version": 3
   },
   "file_extension": ".py",
   "mimetype": "text/x-python",
   "name": "python",
   "nbconvert_exporter": "python",
   "pygments_lexer": "ipython3",
   "version": "3.8.20"
  }
 },
 "nbformat": 4,
 "nbformat_minor": 5
}
