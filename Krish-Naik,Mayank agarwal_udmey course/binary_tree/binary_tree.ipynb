{
 "cells": [
  {
   "cell_type": "code",
   "execution_count": null,
   "id": "3d84c94a",
   "metadata": {},
   "outputs": [],
   "source": [
    "#Binary tree Node\n",
    "\n",
    "\n",
    "class BinaryTreeNode:\n",
    "    def __init__(self,data):\n",
    "        self.data = data\n",
    "        self.left= None\n",
    "        self.right = None\n",
    "        \n",
    "root = BinaryTreeNode(1)\n",
    "root.left = BinaryTreeNode(2)\n",
    "root.right = BinaryTreeNode(3) "
   ]
  },
  {
   "cell_type": "code",
   "execution_count": 7,
   "id": "a52bc2f5",
   "metadata": {},
   "outputs": [
    {
     "name": "stdout",
     "output_type": "stream",
     "text": [
      "1:L->2,R->3\n",
      "2:L->None,R->None\n",
      "3:L->None,R->None\n"
     ]
    }
   ],
   "source": [
    "##print binary tree\n",
    "#Binary tree Node\n",
    "\n",
    "\n",
    "class BinaryTreeNode:\n",
    "    def __init__(self,data):\n",
    "        self.data = data\n",
    "        self.left= None\n",
    "        self.right = None\n",
    "        \n",
    "root = BinaryTreeNode(1)\n",
    "root.left = BinaryTreeNode(2)\n",
    "root.right = BinaryTreeNode(3) \n",
    "\n",
    "def print_binary_tree(root):\n",
    "    if root is None:\n",
    "        return \n",
    "    print(root.data,end = \":\")\n",
    "    if root.left is not None:\n",
    "        print(f\"L->{root.left.data}\",end = \",\")\n",
    "    else:\n",
    "        print(\"L->None\",end=\",\")\n",
    "    if root.right is not None:\n",
    "        print(f\"R->{root.right.data}\")\n",
    "    else:\n",
    "        print(\"R->None\")\n",
    "    print_binary_tree(root.left)\n",
    "    print_binary_tree(root.right)\n",
    "    \n",
    "print_binary_tree(root)\n"
   ]
  },
  {
   "cell_type": "code",
   "execution_count": 11,
   "id": "ce987daa",
   "metadata": {},
   "outputs": [
    {
     "name": "stdout",
     "output_type": "stream",
     "text": [
      "enter the binary tree Data\n",
      "Enter the left child of the data 1\n",
      "Enter the left child of the data 1\n",
      "Enter the left child of the data 2\n",
      "Enter the left child of the data 3\n",
      "Enter the left child of the data 4\n",
      "Enter the left child of the data 4\n",
      "Enter the right child of the data 4\n",
      "Enter the left child of the data 2\n",
      "Enter the right child of the data 2\n",
      "Enter the left child of the data 1\n"
     ]
    },
    {
     "ename": "ValueError",
     "evalue": "invalid literal for int() with base 10: '-1-1-1'",
     "output_type": "error",
     "traceback": [
      "\u001b[1;31m---------------------------------------------------------------------------\u001b[0m",
      "\u001b[1;31mValueError\u001b[0m                                Traceback (most recent call last)",
      "Cell \u001b[1;32mIn[11], line 20\u001b[0m\n\u001b[0;32m     18\u001b[0m     \u001b[38;5;28;01mreturn\u001b[39;00m node\n\u001b[0;32m     19\u001b[0m \u001b[38;5;28mprint\u001b[39m(\u001b[38;5;124m\"\u001b[39m\u001b[38;5;124menter the binary tree Data\u001b[39m\u001b[38;5;124m\"\u001b[39m)\n\u001b[1;32m---> 20\u001b[0m root \u001b[38;5;241m=\u001b[39m \u001b[43mtake_input_binary_tree\u001b[49m\u001b[43m(\u001b[49m\u001b[43m)\u001b[49m\n",
      "Cell \u001b[1;32mIn[11], line 15\u001b[0m, in \u001b[0;36mtake_input_binary_tree\u001b[1;34m()\u001b[0m\n\u001b[0;32m     13\u001b[0m node \u001b[38;5;241m=\u001b[39m BinaryTreeNode(data)\n\u001b[0;32m     14\u001b[0m \u001b[38;5;28mprint\u001b[39m(\u001b[38;5;124mf\u001b[39m\u001b[38;5;124m\"\u001b[39m\u001b[38;5;124mEnter the left child of the data \u001b[39m\u001b[38;5;132;01m{\u001b[39;00mdata\u001b[38;5;132;01m}\u001b[39;00m\u001b[38;5;124m\"\u001b[39m)\n\u001b[1;32m---> 15\u001b[0m node\u001b[38;5;241m.\u001b[39mleft \u001b[38;5;241m=\u001b[39m \u001b[43mtake_input_binary_tree\u001b[49m\u001b[43m(\u001b[49m\u001b[43m)\u001b[49m\n\u001b[0;32m     16\u001b[0m \u001b[38;5;28mprint\u001b[39m(\u001b[38;5;124mf\u001b[39m\u001b[38;5;124m\"\u001b[39m\u001b[38;5;124mEnter the right child of the data \u001b[39m\u001b[38;5;132;01m{\u001b[39;00mdata\u001b[38;5;132;01m}\u001b[39;00m\u001b[38;5;124m\"\u001b[39m)\n\u001b[0;32m     17\u001b[0m node\u001b[38;5;241m.\u001b[39mright \u001b[38;5;241m=\u001b[39m take_input_binary_tree()\n",
      "Cell \u001b[1;32mIn[11], line 15\u001b[0m, in \u001b[0;36mtake_input_binary_tree\u001b[1;34m()\u001b[0m\n\u001b[0;32m     13\u001b[0m node \u001b[38;5;241m=\u001b[39m BinaryTreeNode(data)\n\u001b[0;32m     14\u001b[0m \u001b[38;5;28mprint\u001b[39m(\u001b[38;5;124mf\u001b[39m\u001b[38;5;124m\"\u001b[39m\u001b[38;5;124mEnter the left child of the data \u001b[39m\u001b[38;5;132;01m{\u001b[39;00mdata\u001b[38;5;132;01m}\u001b[39;00m\u001b[38;5;124m\"\u001b[39m)\n\u001b[1;32m---> 15\u001b[0m node\u001b[38;5;241m.\u001b[39mleft \u001b[38;5;241m=\u001b[39m \u001b[43mtake_input_binary_tree\u001b[49m\u001b[43m(\u001b[49m\u001b[43m)\u001b[49m\n\u001b[0;32m     16\u001b[0m \u001b[38;5;28mprint\u001b[39m(\u001b[38;5;124mf\u001b[39m\u001b[38;5;124m\"\u001b[39m\u001b[38;5;124mEnter the right child of the data \u001b[39m\u001b[38;5;132;01m{\u001b[39;00mdata\u001b[38;5;132;01m}\u001b[39;00m\u001b[38;5;124m\"\u001b[39m)\n\u001b[0;32m     17\u001b[0m node\u001b[38;5;241m.\u001b[39mright \u001b[38;5;241m=\u001b[39m take_input_binary_tree()\n",
      "    \u001b[1;31m[... skipping similar frames: take_input_binary_tree at line 15 (2 times)]\u001b[0m\n",
      "Cell \u001b[1;32mIn[11], line 15\u001b[0m, in \u001b[0;36mtake_input_binary_tree\u001b[1;34m()\u001b[0m\n\u001b[0;32m     13\u001b[0m node \u001b[38;5;241m=\u001b[39m BinaryTreeNode(data)\n\u001b[0;32m     14\u001b[0m \u001b[38;5;28mprint\u001b[39m(\u001b[38;5;124mf\u001b[39m\u001b[38;5;124m\"\u001b[39m\u001b[38;5;124mEnter the left child of the data \u001b[39m\u001b[38;5;132;01m{\u001b[39;00mdata\u001b[38;5;132;01m}\u001b[39;00m\u001b[38;5;124m\"\u001b[39m)\n\u001b[1;32m---> 15\u001b[0m node\u001b[38;5;241m.\u001b[39mleft \u001b[38;5;241m=\u001b[39m \u001b[43mtake_input_binary_tree\u001b[49m\u001b[43m(\u001b[49m\u001b[43m)\u001b[49m\n\u001b[0;32m     16\u001b[0m \u001b[38;5;28mprint\u001b[39m(\u001b[38;5;124mf\u001b[39m\u001b[38;5;124m\"\u001b[39m\u001b[38;5;124mEnter the right child of the data \u001b[39m\u001b[38;5;132;01m{\u001b[39;00mdata\u001b[38;5;132;01m}\u001b[39;00m\u001b[38;5;124m\"\u001b[39m)\n\u001b[0;32m     17\u001b[0m node\u001b[38;5;241m.\u001b[39mright \u001b[38;5;241m=\u001b[39m take_input_binary_tree()\n",
      "Cell \u001b[1;32mIn[11], line 17\u001b[0m, in \u001b[0;36mtake_input_binary_tree\u001b[1;34m()\u001b[0m\n\u001b[0;32m     15\u001b[0m node\u001b[38;5;241m.\u001b[39mleft \u001b[38;5;241m=\u001b[39m take_input_binary_tree()\n\u001b[0;32m     16\u001b[0m \u001b[38;5;28mprint\u001b[39m(\u001b[38;5;124mf\u001b[39m\u001b[38;5;124m\"\u001b[39m\u001b[38;5;124mEnter the right child of the data \u001b[39m\u001b[38;5;132;01m{\u001b[39;00mdata\u001b[38;5;132;01m}\u001b[39;00m\u001b[38;5;124m\"\u001b[39m)\n\u001b[1;32m---> 17\u001b[0m node\u001b[38;5;241m.\u001b[39mright \u001b[38;5;241m=\u001b[39m \u001b[43mtake_input_binary_tree\u001b[49m\u001b[43m(\u001b[49m\u001b[43m)\u001b[49m\n\u001b[0;32m     18\u001b[0m \u001b[38;5;28;01mreturn\u001b[39;00m node\n",
      "Cell \u001b[1;32mIn[11], line 17\u001b[0m, in \u001b[0;36mtake_input_binary_tree\u001b[1;34m()\u001b[0m\n\u001b[0;32m     15\u001b[0m node\u001b[38;5;241m.\u001b[39mleft \u001b[38;5;241m=\u001b[39m take_input_binary_tree()\n\u001b[0;32m     16\u001b[0m \u001b[38;5;28mprint\u001b[39m(\u001b[38;5;124mf\u001b[39m\u001b[38;5;124m\"\u001b[39m\u001b[38;5;124mEnter the right child of the data \u001b[39m\u001b[38;5;132;01m{\u001b[39;00mdata\u001b[38;5;132;01m}\u001b[39;00m\u001b[38;5;124m\"\u001b[39m)\n\u001b[1;32m---> 17\u001b[0m node\u001b[38;5;241m.\u001b[39mright \u001b[38;5;241m=\u001b[39m \u001b[43mtake_input_binary_tree\u001b[49m\u001b[43m(\u001b[49m\u001b[43m)\u001b[49m\n\u001b[0;32m     18\u001b[0m \u001b[38;5;28;01mreturn\u001b[39;00m node\n",
      "Cell \u001b[1;32mIn[11], line 15\u001b[0m, in \u001b[0;36mtake_input_binary_tree\u001b[1;34m()\u001b[0m\n\u001b[0;32m     13\u001b[0m node \u001b[38;5;241m=\u001b[39m BinaryTreeNode(data)\n\u001b[0;32m     14\u001b[0m \u001b[38;5;28mprint\u001b[39m(\u001b[38;5;124mf\u001b[39m\u001b[38;5;124m\"\u001b[39m\u001b[38;5;124mEnter the left child of the data \u001b[39m\u001b[38;5;132;01m{\u001b[39;00mdata\u001b[38;5;132;01m}\u001b[39;00m\u001b[38;5;124m\"\u001b[39m)\n\u001b[1;32m---> 15\u001b[0m node\u001b[38;5;241m.\u001b[39mleft \u001b[38;5;241m=\u001b[39m \u001b[43mtake_input_binary_tree\u001b[49m\u001b[43m(\u001b[49m\u001b[43m)\u001b[49m\n\u001b[0;32m     16\u001b[0m \u001b[38;5;28mprint\u001b[39m(\u001b[38;5;124mf\u001b[39m\u001b[38;5;124m\"\u001b[39m\u001b[38;5;124mEnter the right child of the data \u001b[39m\u001b[38;5;132;01m{\u001b[39;00mdata\u001b[38;5;132;01m}\u001b[39;00m\u001b[38;5;124m\"\u001b[39m)\n\u001b[0;32m     17\u001b[0m node\u001b[38;5;241m.\u001b[39mright \u001b[38;5;241m=\u001b[39m take_input_binary_tree()\n",
      "Cell \u001b[1;32mIn[11], line 9\u001b[0m, in \u001b[0;36mtake_input_binary_tree\u001b[1;34m()\u001b[0m\n\u001b[0;32m      8\u001b[0m \u001b[38;5;28;01mdef\u001b[39;00m \u001b[38;5;21mtake_input_binary_tree\u001b[39m():\n\u001b[1;32m----> 9\u001b[0m     data \u001b[38;5;241m=\u001b[39m \u001b[38;5;28;43mint\u001b[39;49m\u001b[43m(\u001b[49m\u001b[38;5;28;43minput\u001b[39;49m\u001b[43m(\u001b[49m\u001b[38;5;124;43m\"\u001b[39;49m\u001b[38;5;124;43mEnter the Node:\u001b[39;49m\u001b[38;5;124;43m\"\u001b[39;49m\u001b[43m)\u001b[49m\u001b[43m)\u001b[49m\n\u001b[0;32m     10\u001b[0m     \u001b[38;5;28;01mif\u001b[39;00m data \u001b[38;5;241m==\u001b[39m\u001b[38;5;241m-\u001b[39m\u001b[38;5;241m1\u001b[39m:\n\u001b[0;32m     11\u001b[0m         \u001b[38;5;28;01mreturn\u001b[39;00m \u001b[38;5;28;01mNone\u001b[39;00m\n",
      "\u001b[1;31mValueError\u001b[0m: invalid literal for int() with base 10: '-1-1-1'"
     ]
    }
   ],
   "source": [
    "##Take input in a binary tree\n",
    "class BinaryTreeNode:\n",
    "    def __init__(self,data):\n",
    "        self.data = data\n",
    "        self.left= None\n",
    "        self.right = None\n",
    "\n",
    "def take_input_binary_tree():\n",
    "    data = int(input(\"Enter the Node:\"))\n",
    "    if data ==-1:\n",
    "        return None\n",
    "    \n",
    "    node = BinaryTreeNode(data)\n",
    "    print(f\"Enter the left child of the data {data}\")\n",
    "    node.left = take_input_binary_tree()\n",
    "    print(f\"Enter the right child of the data {data}\")\n",
    "    node.right = take_input_binary_tree()\n",
    "    return node\n",
    "print(\"enter the binary tree Data\")\n",
    "root = take_input_binary_tree()\n",
    "    \n"
   ]
  },
  {
   "cell_type": "code",
   "execution_count": null,
   "id": "1f3abe97",
   "metadata": {},
   "outputs": [],
   "source": [
    "\n"
   ]
  }
 ],
 "metadata": {
  "kernelspec": {
   "display_name": "base",
   "language": "python",
   "name": "python3"
  },
  "language_info": {
   "codemirror_mode": {
    "name": "ipython",
    "version": 3
   },
   "file_extension": ".py",
   "mimetype": "text/x-python",
   "name": "python",
   "nbconvert_exporter": "python",
   "pygments_lexer": "ipython3",
   "version": "3.8.20"
  }
 },
 "nbformat": 4,
 "nbformat_minor": 5
}
