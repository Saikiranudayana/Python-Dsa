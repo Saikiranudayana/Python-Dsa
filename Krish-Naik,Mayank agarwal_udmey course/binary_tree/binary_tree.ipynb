{
 "cells": [
  {
   "cell_type": "code",
   "execution_count": null,
   "id": "3d84c94a",
   "metadata": {},
   "outputs": [],
   "source": [
    "#Binary tree Node\n",
    "\n",
    "\n",
    "class BinaryTreeNode:\n",
    "    def __init__(self,data):\n",
    "        self.data = data\n",
    "        self.left= None\n",
    "        self.right = None\n",
    "        \n",
    "root = BinaryTreeNode(1)\n",
    "root.left = BinaryTreeNode(2)\n",
    "root.right = BinaryTreeNode(3) "
   ]
  },
  {
   "cell_type": "code",
   "execution_count": 7,
   "id": "a52bc2f5",
   "metadata": {},
   "outputs": [
    {
     "name": "stdout",
     "output_type": "stream",
     "text": [
      "1:L->2,R->3\n",
      "2:L->None,R->None\n",
      "3:L->None,R->None\n"
     ]
    }
   ],
   "source": [
    "##print binary tree\n",
    "#Binary tree Node\n",
    "\n",
    "\n",
    "class BinaryTreeNode:\n",
    "    def __init__(self,data):\n",
    "        self.data = data\n",
    "        self.left= None\n",
    "        self.right = None\n",
    "        \n",
    "root = BinaryTreeNode(1)\n",
    "root.left = BinaryTreeNode(2)\n",
    "root.right = BinaryTreeNode(3) \n",
    "\n",
    "def print_binary_tree(root):\n",
    "    if root is None:\n",
    "        return \n",
    "    print(root.data,end = \":\")\n",
    "    if root.left is not None:\n",
    "        print(f\"L->{root.left.data}\",end = \",\")\n",
    "    else:\n",
    "        print(\"L->None\",end=\",\")\n",
    "    if root.right is not None:\n",
    "        print(f\"R->{root.right.data}\")\n",
    "    else:\n",
    "        print(\"R->None\")\n",
    "    print_binary_tree(root.left)\n",
    "    print_binary_tree(root.right)\n",
    "    \n",
    "print_binary_tree(root)\n"
   ]
  },
  {
   "cell_type": "code",
   "execution_count": null,
   "id": "ce987daa",
   "metadata": {},
   "outputs": [],
   "source": []
  }
 ],
 "metadata": {
  "kernelspec": {
   "display_name": "base",
   "language": "python",
   "name": "python3"
  },
  "language_info": {
   "codemirror_mode": {
    "name": "ipython",
    "version": 3
   },
   "file_extension": ".py",
   "mimetype": "text/x-python",
   "name": "python",
   "nbconvert_exporter": "python",
   "pygments_lexer": "ipython3",
   "version": "3.8.20"
  }
 },
 "nbformat": 4,
 "nbformat_minor": 5
}
