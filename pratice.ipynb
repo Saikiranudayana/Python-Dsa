{
 "cells": [
  {
   "cell_type": "code",
   "execution_count": 2,
   "id": "7cb80ca4",
   "metadata": {},
   "outputs": [
    {
     "name": "stdout",
     "output_type": "stream",
     "text": [
      "True\n"
     ]
    }
   ],
   "source": [
    "##Two sum using has maps\n",
    "\n",
    "def two_sum(arr,target):\n",
    "    s= set()\n",
    "    for nums in arr:\n",
    "        comp = target-nums\n",
    "        if comp in s:\n",
    "            return True\n",
    "        s.add(nums)\n",
    "    return False\n",
    "\n",
    "if __name__==\"__main__\":\n",
    "    \n",
    "    arr = [0, -1, 2, -3, 1]\n",
    "    target = -2\n",
    "    ans = two_sum(arr,target)\n",
    "    print(ans)"
   ]
  },
  {
   "cell_type": "code",
   "execution_count": 12,
   "id": "2e710dd3",
   "metadata": {},
   "outputs": [
    {
     "name": "stdout",
     "output_type": "stream",
     "text": [
      "[11, 12, 25, 26]\n"
     ]
    }
   ],
   "source": [
    "##selection sort\n",
    "\n",
    "def selection_sort(arr):\n",
    "    n= len(arr)\n",
    "    for i in range(0,n-1):\n",
    "        min= i\n",
    "        for j in range(i+1,n):\n",
    "            if arr[j]<arr[min]:\n",
    "                min= j\n",
    "            \n",
    "        arr[i],arr[min]= arr[min],arr[i]\n",
    "        \n",
    "        \n",
    "    return arr\n",
    "     \n",
    "\n",
    "if __name__ =='__main__':\n",
    "    arr= [25,26,11,12]\n",
    "    ans = selection_sort(arr)\n",
    "    print(ans)"
   ]
  },
  {
   "cell_type": "code",
   "execution_count": 17,
   "id": "ce9a9b45",
   "metadata": {},
   "outputs": [
    {
     "name": "stdout",
     "output_type": "stream",
     "text": [
      "[3, 2, 2, 1, 1]\n"
     ]
    }
   ],
   "source": [
    "## reverse an array\n",
    "\n",
    "def reverse(arr):\n",
    "\n",
    "    n= len(arr)\n",
    "    left,right = 0,n-1\n",
    "    while left<=right:\n",
    "        arr[left],arr[right]= arr[right],arr[left]\n",
    "        left+=1\n",
    "        right-=1\n",
    "\n",
    "\n",
    "if __name__ == \"__main__\":\n",
    "    arr= [1,1,2,2,3]\n",
    "    ans = reverse(arr)\n",
    "    print(arr)"
   ]
  },
  {
   "cell_type": "code",
   "execution_count": 4,
   "id": "ab32c566",
   "metadata": {},
   "outputs": [
    {
     "name": "stdout",
     "output_type": "stream",
     "text": [
      "[25, 11, 12]\n"
     ]
    }
   ],
   "source": [
    "##get smaller element\n",
    "\n",
    "\n",
    "def smaller(arr,x):\n",
    "    res = []\n",
    "    for num in arr:\n",
    "        if num<=x:\n",
    "            res.append(num)\n",
    "    return res\n",
    "\n",
    "def comp(arr,target):\n",
    "    lst =[x for x in arr if x<=target]\n",
    "    return lst\n",
    "\n",
    "if __name__ =='__main__':\n",
    "    arr= [25,26,11,12]\n",
    "    x= 25\n",
    "    ans = comp(arr,x)\n",
    "    print(ans)\n"
   ]
  },
  {
   "cell_type": "code",
   "execution_count": 16,
   "id": "1ce757ba",
   "metadata": {},
   "outputs": [
    {
     "name": "stdout",
     "output_type": "stream",
     "text": [
      "False\n"
     ]
    }
   ],
   "source": [
    "def is_sorted(arr):\n",
    "    n= len(arr)\n",
    "    i =1\n",
    "    while i<n:\n",
    "        if arr[i]<=arr[i-1]:\n",
    "        \n",
    "            return False\n",
    "        i+=1\n",
    "    return True\n",
    "        \n",
    "    \n",
    "    \n",
    "arr = [10,30,0]\n",
    "a = is_sorted(arr)\n",
    "print(a)"
   ]
  },
  {
   "cell_type": "code",
   "execution_count": 9,
   "id": "2662d505",
   "metadata": {},
   "outputs": [
    {
     "name": "stdout",
     "output_type": "stream",
     "text": [
      "1\n"
     ]
    }
   ],
   "source": [
    "##Binary search recursive approach\n",
    "\n",
    "\n",
    "def binary_helper(arr,x,start,end):\n",
    "        if start>end:\n",
    "            return -1\n",
    "        \n",
    "        mid = (start+end)//2\n",
    "        if arr[mid]==x:\n",
    "            return mid\n",
    "        if arr[mid]>x:\n",
    "            return binary_helper(arr,x,start,mid-1)\n",
    "        else:\n",
    "            return binary_helper(arr,x,mid+1,end)\n",
    "\n",
    "def binary_search(arr,x):\n",
    "    n= len(arr)\n",
    "    \n",
    "    \n",
    "    return binary_helper(arr,x,0,len(arr)-1)\n",
    "\n",
    "arr= [10,20,30,40,50,60,70,80]\n",
    "\n",
    "ans = binary_search(arr,20)\n",
    "print(ans)"
   ]
  },
  {
   "cell_type": "code",
   "execution_count": null,
   "id": "1735982f",
   "metadata": {},
   "outputs": [
    {
     "name": "stdout",
     "output_type": "stream",
     "text": [
      "1\n"
     ]
    }
   ],
   "source": [
    "##Index of first occurence\n",
    "\n",
    "def linear(arr,x):\n",
    "    n= len(arr)\n",
    "    for i in range(0,n):\n",
    "        if arr[i]==x:\n",
    "            return i\n",
    "        return -1\n",
    "    \n",
    "def binary_recursive(arr,x,lo,hi):\n",
    "    \n",
    "    \n",
    "    if lo>hi:\n",
    "        return -1\n",
    "    mid = (lo+hi)//2\n",
    "    if arr[mid]>x:\n",
    "        return binary_recursive(arr,x,lo,mid-1)\n",
    "    else:\n",
    "        if arr[mid]==0 or arr[mid] != arr[mid-1]:\n",
    "            return mid\n",
    "        else:\n",
    "            return binary_recursive(arr,x,mid+1,hi)\n",
    "        \n",
    "def binary_iteration(arr):\n",
    "    lo,hi = 0 ,len(arr)-1\n",
    "    while lo<=hi:\n",
    "        mid = (lo+hi)//2\n",
    "        \n",
    "        \n",
    "        if arr[mid]>x:\n",
    "            hi = mid-1\n",
    "        elif arr[mid]<x:\n",
    "            lo = mid+1\n",
    "        else:\n",
    "            if arr[mid]==0 or arr[mid] != arr[mid-1]:\n",
    "                return mid\n",
    "            else:\n",
    "                lo = mid+1\n",
    "        \n",
    "        \n",
    "        \n",
    "        \n",
    "if __name__ ==\"__main__\":\n",
    "    arr = [5,10,10,20]\n",
    "    \n",
    "    ans =binary_recursive(arr,10,0,len(arr)-1)\n",
    "    print(ans)\n",
    "\n",
    "        "
   ]
  },
  {
   "cell_type": "code",
   "execution_count": 23,
   "id": "d3838a3c",
   "metadata": {},
   "outputs": [
    {
     "name": "stdout",
     "output_type": "stream",
     "text": [
      "[2, 7, 8, 10]\n"
     ]
    }
   ],
   "source": [
    "##buble sort\n",
    "\n",
    "def bubble_sort(arr):\n",
    "    n= len(arr)\n",
    "    for i in range(n-1):\n",
    "        for j in range(n-i-1):\n",
    "            if arr[j]>arr[j+1]:\n",
    "                arr[j],arr[j+1]= arr[j+1],arr[j]\n",
    "                \n",
    "    return arr\n",
    "    \n",
    "\n",
    "\n",
    "if __name__ ==\"__main__\":\n",
    "    arr= [2,10,8,7]\n",
    "    print(bubble_sort(arr))\n",
    "    "
   ]
  },
  {
   "cell_type": "code",
   "execution_count": 31,
   "id": "ef436f1f",
   "metadata": {},
   "outputs": [
    {
     "name": "stdout",
     "output_type": "stream",
     "text": [
      "[2, 5, 8, 18, 10, 20]\n"
     ]
    }
   ],
   "source": [
    "##buble sort\n",
    "\n",
    "def selection_sort(arr):\n",
    "    n= len(arr)\n",
    "    for i in range(n-1):\n",
    "        min=i\n",
    "        for j in range(i+1,n):\n",
    "            if arr[j]<arr[i]:\n",
    "                min=j\n",
    "        arr[i],arr[min]= arr[min],arr[i]\n",
    "                \n",
    "    return arr\n",
    "    \n",
    "\n",
    "\n",
    "if __name__ ==\"__main__\":\n",
    "    arr= [10,5,8,20,2,18]\n",
    "    print(selection_sort(arr))\n",
    "    "
   ]
  },
  {
   "cell_type": "code",
   "execution_count": null,
   "id": "6b5afd0f",
   "metadata": {},
   "outputs": [],
   "source": []
  }
 ],
 "metadata": {
  "kernelspec": {
   "display_name": "base",
   "language": "python",
   "name": "python3"
  },
  "language_info": {
   "codemirror_mode": {
    "name": "ipython",
    "version": 3
   },
   "file_extension": ".py",
   "mimetype": "text/x-python",
   "name": "python",
   "nbconvert_exporter": "python",
   "pygments_lexer": "ipython3",
   "version": "3.8.20"
  }
 },
 "nbformat": 4,
 "nbformat_minor": 5
}
