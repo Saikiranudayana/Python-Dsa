{
 "cells": [
  {
   "cell_type": "code",
   "execution_count": 2,
   "id": "7cb80ca4",
   "metadata": {},
   "outputs": [
    {
     "name": "stdout",
     "output_type": "stream",
     "text": [
      "True\n"
     ]
    }
   ],
   "source": [
    "##Two sum using has maps\n",
    "\n",
    "def two_sum(arr,target):\n",
    "    s= set()\n",
    "    for nums in arr:\n",
    "        comp = target-nums\n",
    "        if comp in s:\n",
    "            return True\n",
    "        s.add(nums)\n",
    "    return False\n",
    "\n",
    "if __name__==\"__main__\":\n",
    "    \n",
    "    arr = [0, -1, 2, -3, 1]\n",
    "    target = -2\n",
    "    ans = two_sum(arr,target)\n",
    "    print(ans)"
   ]
  },
  {
   "cell_type": "code",
   "execution_count": 12,
   "id": "2e710dd3",
   "metadata": {},
   "outputs": [
    {
     "name": "stdout",
     "output_type": "stream",
     "text": [
      "[11, 12, 25, 26]\n"
     ]
    }
   ],
   "source": [
    "##selection sort\n",
    "\n",
    "def selection_sort(arr):\n",
    "    n= len(arr)\n",
    "    for i in range(0,n-1):\n",
    "        min= i\n",
    "        for j in range(i+1,n):\n",
    "            if arr[j]<arr[min]:\n",
    "                min= j\n",
    "            \n",
    "        arr[i],arr[min]= arr[min],arr[i]\n",
    "        \n",
    "        \n",
    "    return arr\n",
    "     \n",
    "\n",
    "if __name__ =='__main__':\n",
    "    arr= [25,26,11,12]\n",
    "    ans = selection_sort(arr)\n",
    "    print(ans)"
   ]
  },
  {
   "cell_type": "code",
   "execution_count": 17,
   "id": "ce9a9b45",
   "metadata": {},
   "outputs": [
    {
     "name": "stdout",
     "output_type": "stream",
     "text": [
      "[3, 2, 2, 1, 1]\n"
     ]
    }
   ],
   "source": [
    "## reverse an array\n",
    "\n",
    "def reverse(arr):\n",
    "\n",
    "    n= len(arr)\n",
    "    left,right = 0,n-1\n",
    "    while left<=right:\n",
    "        arr[left],arr[right]= arr[right],arr[left]\n",
    "        left+=1\n",
    "        right-=1\n",
    "\n",
    "\n",
    "if __name__ == \"__main__\":\n",
    "    arr= [1,1,2,2,3]\n",
    "    ans = reverse(arr)\n",
    "    print(arr)"
   ]
  },
  {
   "cell_type": "code",
   "execution_count": 4,
   "id": "ab32c566",
   "metadata": {},
   "outputs": [
    {
     "name": "stdout",
     "output_type": "stream",
     "text": [
      "[25, 11, 12]\n"
     ]
    }
   ],
   "source": [
    "##get smaller element\n",
    "\n",
    "\n",
    "def smaller(arr,x):\n",
    "    res = []\n",
    "    for num in arr:\n",
    "        if num<=x:\n",
    "            res.append(num)\n",
    "    return res\n",
    "\n",
    "def comp(arr,target):\n",
    "    lst =[x for x in arr if x<=target]\n",
    "    return lst\n",
    "\n",
    "if __name__ =='__main__':\n",
    "    arr= [25,26,11,12]\n",
    "    x= 25\n",
    "    ans = comp(arr,x)\n",
    "    print(ans)\n"
   ]
  },
  {
   "cell_type": "code",
   "execution_count": 16,
   "id": "1ce757ba",
   "metadata": {},
   "outputs": [
    {
     "name": "stdout",
     "output_type": "stream",
     "text": [
      "False\n"
     ]
    }
   ],
   "source": [
    "def is_sorted(arr):\n",
    "    n= len(arr)\n",
    "    i =1\n",
    "    while i<n:\n",
    "        if arr[i]<=arr[i-1]:\n",
    "        \n",
    "            return False\n",
    "        i+=1\n",
    "    return True\n",
    "        \n",
    "    \n",
    "    \n",
    "arr = [10,30,0]\n",
    "a = is_sorted(arr)\n",
    "print(a)"
   ]
  },
  {
   "cell_type": "code",
   "execution_count": null,
   "id": "2662d505",
   "metadata": {},
   "outputs": [],
   "source": []
  }
 ],
 "metadata": {
  "kernelspec": {
   "display_name": "base",
   "language": "python",
   "name": "python3"
  },
  "language_info": {
   "codemirror_mode": {
    "name": "ipython",
    "version": 3
   },
   "file_extension": ".py",
   "mimetype": "text/x-python",
   "name": "python",
   "nbconvert_exporter": "python",
   "pygments_lexer": "ipython3",
   "version": "3.8.20"
  }
 },
 "nbformat": 4,
 "nbformat_minor": 5
}
