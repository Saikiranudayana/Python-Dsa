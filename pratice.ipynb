{
 "cells": [
  {
   "cell_type": "code",
   "execution_count": 2,
   "id": "7cb80ca4",
   "metadata": {},
   "outputs": [
    {
     "name": "stdout",
     "output_type": "stream",
     "text": [
      "True\n"
     ]
    }
   ],
   "source": [
    "##Two sum using has maps\n",
    "\n",
    "def two_sum(arr,target):\n",
    "    s= set()\n",
    "    for nums in arr:\n",
    "        comp = target-nums\n",
    "        if comp in s:\n",
    "            return True\n",
    "        s.add(nums)\n",
    "    return False\n",
    "\n",
    "if __name__==\"__main__\":\n",
    "    \n",
    "    arr = [0, -1, 2, -3, 1]\n",
    "    target = -2\n",
    "    ans = two_sum(arr,target)\n",
    "    print(ans)"
   ]
  },
  {
   "cell_type": "code",
   "execution_count": null,
   "id": "2e710dd3",
   "metadata": {},
   "outputs": [],
   "source": []
  }
 ],
 "metadata": {
  "kernelspec": {
   "display_name": "base",
   "language": "python",
   "name": "python3"
  },
  "language_info": {
   "codemirror_mode": {
    "name": "ipython",
    "version": 3
   },
   "file_extension": ".py",
   "mimetype": "text/x-python",
   "name": "python",
   "nbconvert_exporter": "python",
   "pygments_lexer": "ipython3",
   "version": "3.8.20"
  }
 },
 "nbformat": 4,
 "nbformat_minor": 5
}
