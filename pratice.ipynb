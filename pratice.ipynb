{
 "cells": [
  {
   "cell_type": "code",
   "execution_count": null,
   "id": "7cb80ca4",
   "metadata": {},
   "outputs": [
    {
     "name": "stdout",
     "output_type": "stream",
     "text": [
      "True\n"
     ]
    }
   ],
   "source": [
    "##Two sum using has maps\n",
    "\n",
    "def two_sum(arr,target):\n",
    "    s= set()\n",
    "    for nums in arr:\n",
    "        comp = target-nums\n",
    "        if comp in s:\n",
    "            return True\n",
    "        s.add(nums)\n",
    "    return False\n",
    "\n",
    "if __name__==\"__main__\":\n",
    "    \n",
    "    arr = [0, -1, 2, -3, 1]\n",
    "    target = -2\n",
    "    ans = two_sum(arr,target)\n",
    "    print(ans)\n",
    "    \n",
    "    \n",
    "    "
   ]
  },
  {
   "cell_type": "code",
   "execution_count": 12,
   "id": "2e710dd3",
   "metadata": {},
   "outputs": [
    {
     "name": "stdout",
     "output_type": "stream",
     "text": [
      "[11, 12, 25, 26]\n"
     ]
    }
   ],
   "source": [
    "##selection sort\n",
    "\n",
    "def selection_sort(arr):\n",
    "    n= len(arr)\n",
    "    for i in range(0,n-1):\n",
    "        min= i\n",
    "        for j in range(i+1,n):\n",
    "            if arr[j]<arr[min]:\n",
    "                min= j\n",
    "            \n",
    "        arr[i],arr[min]= arr[min],arr[i]\n",
    "        \n",
    "        \n",
    "    return arr\n",
    "     \n",
    "\n",
    "if __name__ =='__main__':\n",
    "    arr= [25,26,11,12]\n",
    "    ans = selection_sort(arr)\n",
    "    print(ans)"
   ]
  },
  {
   "cell_type": "code",
   "execution_count": 17,
   "id": "ce9a9b45",
   "metadata": {},
   "outputs": [
    {
     "name": "stdout",
     "output_type": "stream",
     "text": [
      "[3, 2, 2, 1, 1]\n"
     ]
    }
   ],
   "source": [
    "## reverse an array\n",
    "\n",
    "def reverse(arr):\n",
    "\n",
    "    n= len(arr)\n",
    "    left,right = 0,n-1\n",
    "    while left<=right:\n",
    "        arr[left],arr[right]= arr[right],arr[left]\n",
    "        left+=1\n",
    "        right-=1\n",
    "\n",
    "\n",
    "if __name__ == \"__main__\":\n",
    "    arr= [1,1,2,2,3]\n",
    "    ans = reverse(arr)\n",
    "    print(arr)"
   ]
  },
  {
   "cell_type": "code",
   "execution_count": 4,
   "id": "ab32c566",
   "metadata": {},
   "outputs": [
    {
     "name": "stdout",
     "output_type": "stream",
     "text": [
      "[25, 11, 12]\n"
     ]
    }
   ],
   "source": [
    "##get smaller element\n",
    "\n",
    "\n",
    "def smaller(arr,x):\n",
    "    res = []\n",
    "    for num in arr:\n",
    "        if num<=x:\n",
    "            res.append(num)\n",
    "    return res\n",
    "\n",
    "def comp(arr,target):\n",
    "    lst =[x for x in arr if x<=target]\n",
    "    return lst\n",
    "\n",
    "if __name__ =='__main__':\n",
    "    arr= [25,26,11,12]\n",
    "    x= 25\n",
    "    ans = comp(arr,x)\n",
    "    print(ans)\n"
   ]
  },
  {
   "cell_type": "code",
   "execution_count": 16,
   "id": "1ce757ba",
   "metadata": {},
   "outputs": [
    {
     "name": "stdout",
     "output_type": "stream",
     "text": [
      "False\n"
     ]
    }
   ],
   "source": [
    "def is_sorted(arr):\n",
    "    n= len(arr)\n",
    "    i =1\n",
    "    while i<n:\n",
    "        if arr[i]<=arr[i-1]:\n",
    "        \n",
    "            return False\n",
    "        i+=1\n",
    "    return True\n",
    "        \n",
    "    \n",
    "    \n",
    "arr = [10,30,0]\n",
    "a = is_sorted(arr)\n",
    "print(a)"
   ]
  },
  {
   "cell_type": "code",
   "execution_count": 9,
   "id": "2662d505",
   "metadata": {},
   "outputs": [
    {
     "name": "stdout",
     "output_type": "stream",
     "text": [
      "1\n"
     ]
    }
   ],
   "source": [
    "##Binary search recursive approach\n",
    "\n",
    "\n",
    "def binary_helper(arr,x,start,end):\n",
    "        if start>end:\n",
    "            return -1\n",
    "        \n",
    "        mid = (start+end)//2\n",
    "        if arr[mid]==x:\n",
    "            return mid\n",
    "        if arr[mid]>x:\n",
    "            return binary_helper(arr,x,start,mid-1)\n",
    "        else:\n",
    "            return binary_helper(arr,x,mid+1,end)\n",
    "\n",
    "def binary_search(arr,x):\n",
    "    n= len(arr)\n",
    "    \n",
    "    \n",
    "    return binary_helper(arr,x,0,len(arr)-1)\n",
    "\n",
    "arr= [10,20,30,40,50,60,70,80]\n",
    "\n",
    "ans = binary_search(arr,20)\n",
    "print(ans)"
   ]
  },
  {
   "cell_type": "code",
   "execution_count": null,
   "id": "1735982f",
   "metadata": {},
   "outputs": [
    {
     "name": "stdout",
     "output_type": "stream",
     "text": [
      "1\n"
     ]
    }
   ],
   "source": [
    "##Index of first occurence\n",
    "\n",
    "def linear(arr,x):\n",
    "    n= len(arr)\n",
    "    for i in range(0,n):\n",
    "        if arr[i]==x:\n",
    "            return i\n",
    "        return -1\n",
    "    \n",
    "def binary_recursive(arr,x,lo,hi):\n",
    "    \n",
    "    \n",
    "    if lo>hi:\n",
    "        return -1\n",
    "    mid = (lo+hi)//2\n",
    "    if arr[mid]>x:\n",
    "        return binary_recursive(arr,x,lo,mid-1)\n",
    "    else:\n",
    "        if arr[mid]==0 or arr[mid] != arr[mid-1]:\n",
    "            return mid\n",
    "        else:\n",
    "            return binary_recursive(arr,x,mid+1,hi)\n",
    "        \n",
    "def binary_iteration(arr):\n",
    "    lo,hi = 0 ,len(arr)-1\n",
    "    while lo<=hi:\n",
    "        mid = (lo+hi)//2\n",
    "        \n",
    "        \n",
    "        if arr[mid]>x:\n",
    "            hi = mid-1\n",
    "        elif arr[mid]<x:\n",
    "            lo = mid+1\n",
    "        else:\n",
    "            if arr[mid]==0 or arr[mid] != arr[mid-1]:\n",
    "                return mid\n",
    "            else:\n",
    "                lo = mid+1\n",
    "        \n",
    "        \n",
    "        \n",
    "        \n",
    "if __name__ ==\"__main__\":\n",
    "    arr = [5,10,10,20]\n",
    "    \n",
    "    ans =binary_recursive(arr,10,0,len(arr)-1)\n",
    "    print(ans)\n",
    "\n",
    "        "
   ]
  },
  {
   "cell_type": "code",
   "execution_count": 23,
   "id": "d3838a3c",
   "metadata": {},
   "outputs": [
    {
     "name": "stdout",
     "output_type": "stream",
     "text": [
      "[2, 7, 8, 10]\n"
     ]
    }
   ],
   "source": [
    "##buble sort\n",
    "\n",
    "def bubble_sort(arr):\n",
    "    n= len(arr)\n",
    "    for i in range(n-1):\n",
    "        for j in range(n-i-1):\n",
    "            if arr[j]>arr[j+1]:\n",
    "                arr[j],arr[j+1]= arr[j+1],arr[j]\n",
    "                \n",
    "    return arr\n",
    "    \n",
    "\n",
    "\n",
    "if __name__ ==\"__main__\":\n",
    "    arr= [2,10,8,7]\n",
    "    print(bubble_sort(arr))\n",
    "    "
   ]
  },
  {
   "cell_type": "code",
   "execution_count": 31,
   "id": "ef436f1f",
   "metadata": {},
   "outputs": [
    {
     "name": "stdout",
     "output_type": "stream",
     "text": [
      "[2, 5, 8, 18, 10, 20]\n"
     ]
    }
   ],
   "source": [
    "##buble sort\n",
    "\n",
    "def selection_sort(arr):\n",
    "    n= len(arr)\n",
    "    for i in range(n-1):\n",
    "        min=i\n",
    "        for j in range(i+1,n):\n",
    "            if arr[j]<arr[i]:\n",
    "                min=j\n",
    "        arr[i],arr[min]= arr[min],arr[i]\n",
    "                \n",
    "    return arr\n",
    "    \n",
    "\n",
    "\n",
    "if __name__ ==\"__main__\":\n",
    "    arr= [10,5,8,20,2,18]\n",
    "    print(selection_sort(arr))\n",
    "    "
   ]
  },
  {
   "cell_type": "code",
   "execution_count": 32,
   "id": "6b5afd0f",
   "metadata": {},
   "outputs": [
    {
     "name": "stdout",
     "output_type": "stream",
     "text": [
      "[2, 5, 8, 10, 18, 20]\n"
     ]
    }
   ],
   "source": [
    "##Insertaion sort()\n",
    "\n",
    "\n",
    "def insertion_sort(arr):\n",
    "    n= len(arr)\n",
    "    for i in range(1,n):\n",
    "        x = arr[i]\n",
    "        j = i-1\n",
    "        while j>=0 and x<arr[j]:\n",
    "            arr[j+1] = arr[j]\n",
    "            j-=1\n",
    "        arr[j+1]= x                 \n",
    "    return arr\n",
    "    \n",
    "\n",
    "\n",
    "if __name__ ==\"__main__\":\n",
    "    arr= [10,5,8,20,2,18]\n",
    "    print(insertion_sort(arr))\n",
    "    "
   ]
  },
  {
   "cell_type": "code",
   "execution_count": 34,
   "id": "722fd7b2",
   "metadata": {},
   "outputs": [
    {
     "name": "stdout",
     "output_type": "stream",
     "text": [
      "[2, 2, 5, 5, 8, 8, 10, 10, 18, 18, 20, 20]\n"
     ]
    }
   ],
   "source": [
    "##Merge sort\n",
    "\n",
    "\n",
    "def merge_sort(arr1,arr2):\n",
    "    n= len(arr1)\n",
    "    m= len(arr2)\n",
    "    i=j=0\n",
    "    res= []\n",
    "    while i<n and j<m:\n",
    "        if arr[i]<arr[j]:\n",
    "            res.append(arr[i])\n",
    "            i+=1\n",
    "        else:\n",
    "            res.append(arr[j])\n",
    "            j+=1\n",
    "    while i<n:\n",
    "        res.append(arr[i])\n",
    "        i+=1\n",
    "    while j<m:\n",
    "        res.append(arr[j])\n",
    "        j+=1\n",
    "    return res\n",
    "            \n",
    "\n",
    "\n",
    "\n",
    "if __name__ ==\"__main__\":\n",
    "    arr1= [10,5,8,20,2,18]\n",
    "    arr2= [10,5,8,20,2,18]\n",
    "    print(merge_sort(arr1,arr2))\n",
    "    "
   ]
  },
  {
   "cell_type": "code",
   "execution_count": 38,
   "id": "ecd8c158",
   "metadata": {},
   "outputs": [
    {
     "ename": "IndexError",
     "evalue": "list index out of range",
     "output_type": "error",
     "traceback": [
      "\u001b[1;31m---------------------------------------------------------------------------\u001b[0m",
      "\u001b[1;31mIndexError\u001b[0m                                Traceback (most recent call last)",
      "Cell \u001b[1;32mIn[38], line 39\u001b[0m\n\u001b[0;32m     36\u001b[0m \u001b[38;5;28;01mif\u001b[39;00m \u001b[38;5;18m__name__\u001b[39m \u001b[38;5;241m==\u001b[39m\u001b[38;5;124m\"\u001b[39m\u001b[38;5;124m__main__\u001b[39m\u001b[38;5;124m\"\u001b[39m:\n\u001b[0;32m     37\u001b[0m     arr1\u001b[38;5;241m=\u001b[39m [\u001b[38;5;241m10\u001b[39m,\u001b[38;5;241m5\u001b[39m,\u001b[38;5;241m8\u001b[39m,\u001b[38;5;241m20\u001b[39m,\u001b[38;5;241m2\u001b[39m,\u001b[38;5;241m18\u001b[39m]\n\u001b[1;32m---> 39\u001b[0m     \u001b[38;5;28mprint\u001b[39m(\u001b[43mmerge_sort\u001b[49m\u001b[43m(\u001b[49m\u001b[43marr1\u001b[49m\u001b[43m,\u001b[49m\u001b[38;5;241;43m0\u001b[39;49m\u001b[43m,\u001b[49m\u001b[38;5;241;43m3\u001b[39;49m\u001b[43m,\u001b[49m\u001b[38;5;241;43m5\u001b[39;49m\u001b[43m)\u001b[49m)\n",
      "Cell \u001b[1;32mIn[38], line 14\u001b[0m, in \u001b[0;36mmerge_sort\u001b[1;34m(arr1, low, mid, high)\u001b[0m\n\u001b[0;32m     10\u001b[0m k\u001b[38;5;241m=\u001b[39m low\n\u001b[0;32m     13\u001b[0m \u001b[38;5;28;01mwhile\u001b[39;00m i\u001b[38;5;241m<\u001b[39mn \u001b[38;5;129;01mand\u001b[39;00m j\u001b[38;5;241m<\u001b[39mm:\n\u001b[1;32m---> 14\u001b[0m     \u001b[38;5;28;01mif\u001b[39;00m left[i]\u001b[38;5;241m<\u001b[39m\u001b[38;5;241m=\u001b[39m\u001b[43mright\u001b[49m\u001b[43m[\u001b[49m\u001b[43mj\u001b[49m\u001b[43m]\u001b[49m:\n\u001b[0;32m     15\u001b[0m         arr[k]\u001b[38;5;241m=\u001b[39m arr[i]\n\u001b[0;32m     16\u001b[0m         k\u001b[38;5;241m+\u001b[39m\u001b[38;5;241m=\u001b[39m\u001b[38;5;241m1\u001b[39m\n",
      "\u001b[1;31mIndexError\u001b[0m: list index out of range"
     ]
    }
   ],
   "source": [
    "##Merge sort\n",
    "\n",
    "\n",
    "def merge_sort(arr1,low,mid,high):\n",
    "    left = arr1[low:mid+1]\n",
    "    right = arr1[mid+1:high+1]\n",
    "    n= len(arr1)\n",
    "    m= len(arr2)\n",
    "    i=j=0\n",
    "    k= low\n",
    "    \n",
    "    \n",
    "    while i<n and j<m:\n",
    "        if left[i]<=right[j]:\n",
    "            arr[k]= arr[i]\n",
    "            k+=1\n",
    "            i+=1\n",
    "        else:\n",
    "            arr[k]= arr[j]\n",
    "            k+=1\n",
    "            j+=1\n",
    "    while i<n:\n",
    "        arr[k]= arr[i]\n",
    "        k+=1\n",
    "        i+=1\n",
    "    while j<m:\n",
    "        arr[k]= arr[j]\n",
    "        k+=1\n",
    "        j+=1\n",
    "            \n",
    "        \n",
    "            \n",
    "\n",
    "\n",
    "\n",
    "if __name__ ==\"__main__\":\n",
    "    arr1= [10,5,8,20,2,18]\n",
    "    \n",
    "    print(merge_sort(arr1,0,3,5))\n",
    "    "
   ]
  },
  {
   "cell_type": "code",
   "execution_count": null,
   "id": "d4d3becd",
   "metadata": {},
   "outputs": [],
   "source": [
    "##Merge sort\n",
    "\n",
    "\n",
    "def merge(arr1,low,mid,high):\n",
    "    left = arr1[low:mid+1]\n",
    "    right = arr1[mid+1:high+1]\n",
    "    n= len(arr1)\n",
    "    m= len(arr2)\n",
    "    i=j=0\n",
    "    k= low\n",
    "    \n",
    "    \n",
    "    while i<n and j<m:\n",
    "        if left[i]<=right[j]:\n",
    "            arr[k]= arr[i]\n",
    "            k+=1\n",
    "            i+=1\n",
    "        else:\n",
    "            arr[k]= arr[j]\n",
    "            k+=1\n",
    "            j+=1\n",
    "    while i<n:\n",
    "        arr[k]= arr[i]\n",
    "        k+=1\n",
    "        i+=1\n",
    "    while j<m:\n",
    "        arr[k]= arr[j]\n",
    "        k+=1\n",
    "        j+=1\n",
    "            \n",
    "def merge_sort(arr,l,r):\n",
    "    if r>l:\n",
    "        mid = (l+r)//2\n",
    "        merge_sort(arr,l,mid)\n",
    "        merge_sort(arr,mid+1,r)\n",
    "        merge(arr,l,mid,r)\n",
    "            \n",
    "\n",
    "\n",
    "\n",
    "if __name__ ==\"__main__\":\n",
    "    arr1= [10,5,8,20,2,18]\n",
    "    \n",
    "    print(merge_sort(arr1,0,3,5))\n",
    "    "
   ]
  },
  {
   "cell_type": "code",
   "execution_count": 3,
   "id": "6b52f505",
   "metadata": {},
   "outputs": [
    {
     "name": "stdout",
     "output_type": "stream",
     "text": [
      "2 3 10 20 40 None\n"
     ]
    }
   ],
   "source": [
    "##union of two sorted array\n",
    "\n",
    "def union(arr1,arr2):\n",
    "    n= len(arr1)\n",
    "    m = len(arr2)\n",
    "    i = j= 0 \n",
    "    while i<n and j<m:\n",
    "        if i> 0 and arr1[i]==arr1[i-1]:\n",
    "            i+=1\n",
    "        elif j> 0 and arr2[j]==arr2[j-1]:\n",
    "            j+=1\n",
    "        elif arr1[i]<arr2[j]:\n",
    "            print(arr1[i],end = \" \")\n",
    "            i+=1\n",
    "        elif arr2[j]<arr1[i]:\n",
    "            print(arr2[j],end = \" \")\n",
    "            j+=1\n",
    "        else:\n",
    "            print(arr1[i],end= \" \")\n",
    "            i+=1\n",
    "            j+=1\n",
    "    while i<n:\n",
    "        if i>0 and arr1[i] != arr1[i-1]:\n",
    "            print(arr1[i],end= \" \")\n",
    "            i+=1\n",
    "    while j<m:\n",
    "        if j>0 and arr2[j] != arr2[j-1]:\n",
    "            print(arr2[j],end = \" \")\n",
    "            j+=1\n",
    "            \n",
    "            \n",
    "\n",
    "\n",
    "if __name__ ==\"__main__\":\n",
    "    arr1 = [2,10,20,20]\n",
    "    arr2 = [3,20 ,40]\n",
    "    ans = union(arr1,arr2)\n",
    "    print(ans)"
   ]
  },
  {
   "cell_type": "code",
   "execution_count": 6,
   "id": "b3cc6927",
   "metadata": {},
   "outputs": [
    {
     "name": "stdout",
     "output_type": "stream",
     "text": [
      "20"
     ]
    }
   ],
   "source": [
    "##intersection of two aray\n",
    "def helper(arr1,arr2,n,m):\n",
    "    i = j= 0\n",
    "    while i<n and j<m:\n",
    "        if i>0 and arr1[i-1]==arr1[i]:\n",
    "            i+=1\n",
    "            continue\n",
    "        if arr1[i]<arr2[j]:\n",
    "            i+=1\n",
    "        elif arr2[j]<arr1[i]:\n",
    "            j+=1\n",
    "        else:\n",
    "            print(arr1[i],end=\"\")\n",
    "            i+=1\n",
    "            j+=1\n",
    "            \n",
    "        \n",
    "    \n",
    "def intersection(arr1,arr2):\n",
    "    n= len(arr1)\n",
    "    m= len(arr2)\n",
    "    return helper(arr1,arr2,n,m)\n",
    "\n",
    "\n",
    "if __name__ ==\"__main__\":\n",
    "    arr1 = [1,20,20,40,60]\n",
    "    arr2= [2,20,20,20]\n",
    "    ans = intersection(arr1,arr2)"
   ]
  },
  {
   "cell_type": "code",
   "execution_count": 11,
   "id": "625f169c",
   "metadata": {},
   "outputs": [
    {
     "name": "stdout",
     "output_type": "stream",
     "text": [
      "[3, 6, 7, 10, 12]\n"
     ]
    }
   ],
   "source": [
    "##partion for array with the index\n",
    "\n",
    "def partition(arr,k):\n",
    "    n= len(arr)\n",
    "    arr[k] ,arr[n-1]= arr[n-1],arr[k]\n",
    "    temp = []\n",
    "    for x in arr:\n",
    "        if x<=arr[n-1]:\n",
    "            temp.append(x)\n",
    "    for x in arr:\n",
    "        if x>arr[n-1]:\n",
    "            temp.append(x)\n",
    "    for i in range(n):\n",
    "        arr[i]= temp[i]\n",
    "    return arr\n",
    "\n",
    "\n",
    "if __name__==\"__main__\":\n",
    "    arr= [3,6,7,12,10]\n",
    "    k= 4\n",
    "    ans = partition(arr,k)\n",
    "    print(ans)"
   ]
  },
  {
   "cell_type": "code",
   "execution_count": null,
   "id": "fcc1af11",
   "metadata": {},
   "outputs": [],
   "source": [
    "##quick sort using lomuto partition\n",
    "# \n",
    "# \n",
    "\n",
    "def parttion(arr):\n",
    "    pass\n",
    "def quick_sort(arr,l,h):\n",
    "    while l<h:\n",
    "        p= parttion(arr,l,h)\n",
    "        quick_sort(arr,l,p+1)\n",
    "        quick_sort(arr,p+1,h)\n",
    "\n"
   ]
  },
  {
   "cell_type": "code",
   "execution_count": null,
   "id": "a6a39459",
   "metadata": {},
   "outputs": [],
   "source": []
  },
  {
   "cell_type": "code",
   "execution_count": null,
   "id": "eeae35ff",
   "metadata": {},
   "outputs": [],
   "source": []
  }
 ],
 "metadata": {
  "kernelspec": {
   "display_name": "base",
   "language": "python",
   "name": "python3"
  },
  "language_info": {
   "codemirror_mode": {
    "name": "ipython",
    "version": 3
   },
   "file_extension": ".py",
   "mimetype": "text/x-python",
   "name": "python",
   "nbconvert_exporter": "python",
   "pygments_lexer": "ipython3",
   "version": "3.8.20"
  }
 },
 "nbformat": 4,
 "nbformat_minor": 5
}
